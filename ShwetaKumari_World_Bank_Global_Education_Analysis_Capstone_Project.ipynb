{
  "nbformat": 4,
  "nbformat_minor": 0,
  "metadata": {
    "kernelspec": {
      "display_name": "Python 3",
      "language": "python",
      "name": "python3"
    },
    "language_info": {
      "codemirror_mode": {
        "name": "ipython",
        "version": 3
      },
      "file_extension": ".py",
      "mimetype": "text/x-python",
      "name": "python",
      "nbconvert_exporter": "python",
      "pygments_lexer": "ipython3",
      "version": "3.6.6"
    },
    "colab": {
      "name": "ShwetaKumari- World Bank Global Education Analysis - Capstone Project.ipynb",
      "provenance": [],
      "collapsed_sections": [],
      "include_colab_link": true
    }
  },
  "cells": [
    {
      "cell_type": "markdown",
      "metadata": {
        "id": "view-in-github",
        "colab_type": "text"
      },
      "source": [
        "<a href=\"https://colab.research.google.com/github/Kaizensk/WorldBank-global-Education-analysis/blob/main/ShwetaKumari_World_Bank_Global_Education_Analysis_Capstone_Project.ipynb\" target=\"_parent\"><img src=\"https://colab.research.google.com/assets/colab-badge.svg\" alt=\"Open In Colab\"/></a>"
      ]
    },
    {
      "cell_type": "markdown",
      "metadata": {
        "id": "Y06xIdG26kRF"
      },
      "source": [
        "## <b> The World Bank EdStats All Indicator Query holds over 4,000 internationally comparable indicators that describe education access, progression, completion, literacy, teachers, population, and expenditures.The indicators cover the education cycle from pre-primary to vocational and tertiary education and also holds learning outcome data from international and regional learning assessments (e.g. PISA, TIMSS, PIRLS), equity data from household surveys, and projection/attainment data. </b>\n",
        "\n",
        "## <b> Explore and analyze the data to identify variation of indicators across the globe, which countries are more alike and different. Feel free to add more extensive analyses and details.</b>"
      ]
    },
    {
      "cell_type": "code",
      "metadata": {
        "id": "pEFtgTXKRjwf",
        "colab": {
          "base_uri": "https://localhost:8080/"
        },
        "outputId": "96c7cc58-b876-4c4b-8580-b30b7f6e71c6"
      },
      "source": [
        "from google.colab import drive\n",
        "drive.mount('/content/drive')"
      ],
      "execution_count": null,
      "outputs": [
        {
          "output_type": "stream",
          "text": [
            "Drive already mounted at /content/drive; to attempt to forcibly remount, call drive.mount(\"/content/drive\", force_remount=True).\n"
          ],
          "name": "stdout"
        }
      ]
    },
    {
      "cell_type": "code",
      "metadata": {
        "id": "dByMsuzT8Tnw"
      },
      "source": [
        "import pandas as pd\r\n",
        "import numpy as np"
      ],
      "execution_count": null,
      "outputs": []
    },
    {
      "cell_type": "code",
      "metadata": {
        "id": "vnEeBJ7ZS6_I"
      },
      "source": [
        "path='/content/drive/MyDrive/AlmaBetter/Cohort Nilgiri/Module 1/Capstone1/'"
      ],
      "execution_count": null,
      "outputs": []
    },
    {
      "cell_type": "code",
      "metadata": {
        "id": "P4QcmiGBUrr0"
      },
      "source": [
        "df_countryseries=pd.read_csv(path+'EdStatsCountry-Series.csv')"
      ],
      "execution_count": null,
      "outputs": []
    },
    {
      "cell_type": "code",
      "metadata": {
        "colab": {
          "base_uri": "https://localhost:8080/",
          "height": 198
        },
        "id": "brPTEI9Qp3uF",
        "outputId": "79741ac1-c378-418e-a5eb-ec55b839fd77"
      },
      "source": [
        "df_countryseries.head()"
      ],
      "execution_count": null,
      "outputs": [
        {
          "output_type": "execute_result",
          "data": {
            "text/html": [
              "<div>\n",
              "<style scoped>\n",
              "    .dataframe tbody tr th:only-of-type {\n",
              "        vertical-align: middle;\n",
              "    }\n",
              "\n",
              "    .dataframe tbody tr th {\n",
              "        vertical-align: top;\n",
              "    }\n",
              "\n",
              "    .dataframe thead th {\n",
              "        text-align: right;\n",
              "    }\n",
              "</style>\n",
              "<table border=\"1\" class=\"dataframe\">\n",
              "  <thead>\n",
              "    <tr style=\"text-align: right;\">\n",
              "      <th></th>\n",
              "      <th>CountryCode</th>\n",
              "      <th>SeriesCode</th>\n",
              "      <th>DESCRIPTION</th>\n",
              "      <th>Unnamed: 3</th>\n",
              "    </tr>\n",
              "  </thead>\n",
              "  <tbody>\n",
              "    <tr>\n",
              "      <th>0</th>\n",
              "      <td>ABW</td>\n",
              "      <td>SP.POP.TOTL</td>\n",
              "      <td>Data sources : United Nations World Population...</td>\n",
              "      <td>NaN</td>\n",
              "    </tr>\n",
              "    <tr>\n",
              "      <th>1</th>\n",
              "      <td>ABW</td>\n",
              "      <td>SP.POP.GROW</td>\n",
              "      <td>Data sources: United Nations World Population ...</td>\n",
              "      <td>NaN</td>\n",
              "    </tr>\n",
              "    <tr>\n",
              "      <th>2</th>\n",
              "      <td>AFG</td>\n",
              "      <td>SP.POP.GROW</td>\n",
              "      <td>Data sources: United Nations World Population ...</td>\n",
              "      <td>NaN</td>\n",
              "    </tr>\n",
              "    <tr>\n",
              "      <th>3</th>\n",
              "      <td>AFG</td>\n",
              "      <td>NY.GDP.PCAP.PP.CD</td>\n",
              "      <td>Estimates are based on regression.</td>\n",
              "      <td>NaN</td>\n",
              "    </tr>\n",
              "    <tr>\n",
              "      <th>4</th>\n",
              "      <td>AFG</td>\n",
              "      <td>SP.POP.TOTL</td>\n",
              "      <td>Data sources : United Nations World Population...</td>\n",
              "      <td>NaN</td>\n",
              "    </tr>\n",
              "  </tbody>\n",
              "</table>\n",
              "</div>"
            ],
            "text/plain": [
              "  CountryCode  ... Unnamed: 3\n",
              "0         ABW  ...        NaN\n",
              "1         ABW  ...        NaN\n",
              "2         AFG  ...        NaN\n",
              "3         AFG  ...        NaN\n",
              "4         AFG  ...        NaN\n",
              "\n",
              "[5 rows x 4 columns]"
            ]
          },
          "metadata": {
            "tags": []
          },
          "execution_count": 443
        }
      ]
    },
    {
      "cell_type": "code",
      "metadata": {
        "colab": {
          "base_uri": "https://localhost:8080/",
          "height": 198
        },
        "id": "m8cPOihVp-dt",
        "outputId": "5b841be2-f9bb-41e8-9494-5599f54c5669"
      },
      "source": [
        "df_countryseries.tail()"
      ],
      "execution_count": null,
      "outputs": [
        {
          "output_type": "execute_result",
          "data": {
            "text/html": [
              "<div>\n",
              "<style scoped>\n",
              "    .dataframe tbody tr th:only-of-type {\n",
              "        vertical-align: middle;\n",
              "    }\n",
              "\n",
              "    .dataframe tbody tr th {\n",
              "        vertical-align: top;\n",
              "    }\n",
              "\n",
              "    .dataframe thead th {\n",
              "        text-align: right;\n",
              "    }\n",
              "</style>\n",
              "<table border=\"1\" class=\"dataframe\">\n",
              "  <thead>\n",
              "    <tr style=\"text-align: right;\">\n",
              "      <th></th>\n",
              "      <th>CountryCode</th>\n",
              "      <th>SeriesCode</th>\n",
              "      <th>DESCRIPTION</th>\n",
              "      <th>Unnamed: 3</th>\n",
              "    </tr>\n",
              "  </thead>\n",
              "  <tbody>\n",
              "    <tr>\n",
              "      <th>608</th>\n",
              "      <td>ZAF</td>\n",
              "      <td>SP.POP.GROW</td>\n",
              "      <td>Data sources : Statistics South Africa, United...</td>\n",
              "      <td>NaN</td>\n",
              "    </tr>\n",
              "    <tr>\n",
              "      <th>609</th>\n",
              "      <td>ZMB</td>\n",
              "      <td>SP.POP.GROW</td>\n",
              "      <td>Data sources: United Nations World Population ...</td>\n",
              "      <td>NaN</td>\n",
              "    </tr>\n",
              "    <tr>\n",
              "      <th>610</th>\n",
              "      <td>ZMB</td>\n",
              "      <td>SP.POP.TOTL</td>\n",
              "      <td>Data sources : United Nations World Population...</td>\n",
              "      <td>NaN</td>\n",
              "    </tr>\n",
              "    <tr>\n",
              "      <th>611</th>\n",
              "      <td>ZWE</td>\n",
              "      <td>SP.POP.TOTL</td>\n",
              "      <td>Data sources : United Nations World Population...</td>\n",
              "      <td>NaN</td>\n",
              "    </tr>\n",
              "    <tr>\n",
              "      <th>612</th>\n",
              "      <td>ZWE</td>\n",
              "      <td>SP.POP.GROW</td>\n",
              "      <td>Data sources: United Nations World Population ...</td>\n",
              "      <td>NaN</td>\n",
              "    </tr>\n",
              "  </tbody>\n",
              "</table>\n",
              "</div>"
            ],
            "text/plain": [
              "    CountryCode  ... Unnamed: 3\n",
              "608         ZAF  ...        NaN\n",
              "609         ZMB  ...        NaN\n",
              "610         ZMB  ...        NaN\n",
              "611         ZWE  ...        NaN\n",
              "612         ZWE  ...        NaN\n",
              "\n",
              "[5 rows x 4 columns]"
            ]
          },
          "metadata": {
            "tags": []
          },
          "execution_count": 444
        }
      ]
    },
    {
      "cell_type": "code",
      "metadata": {
        "colab": {
          "base_uri": "https://localhost:8080/"
        },
        "id": "tyRVhUXyqBYE",
        "outputId": "f5de3607-afe8-4022-ff4e-920cb0d4f99e"
      },
      "source": [
        "df_countryseries.info()"
      ],
      "execution_count": null,
      "outputs": [
        {
          "output_type": "stream",
          "text": [
            "<class 'pandas.core.frame.DataFrame'>\n",
            "RangeIndex: 613 entries, 0 to 612\n",
            "Data columns (total 4 columns):\n",
            " #   Column       Non-Null Count  Dtype  \n",
            "---  ------       --------------  -----  \n",
            " 0   CountryCode  613 non-null    object \n",
            " 1   SeriesCode   613 non-null    object \n",
            " 2   DESCRIPTION  613 non-null    object \n",
            " 3   Unnamed: 3   0 non-null      float64\n",
            "dtypes: float64(1), object(3)\n",
            "memory usage: 19.3+ KB\n"
          ],
          "name": "stdout"
        }
      ]
    },
    {
      "cell_type": "markdown",
      "metadata": {
        "id": "9cLZs73SlMBH"
      },
      "source": [
        "REmoving the unnecessary columns"
      ]
    },
    {
      "cell_type": "code",
      "metadata": {
        "colab": {
          "base_uri": "https://localhost:8080/",
          "height": 322
        },
        "id": "ZmJM3DN8rEHc",
        "outputId": "fa0ccc85-4336-496c-b1ae-299039ef3316"
      },
      "source": [
        "df_countryseries=df_countryseries.drop('Unnamed: 3',axis=1)"
      ],
      "execution_count": null,
      "outputs": [
        {
          "output_type": "error",
          "ename": "KeyError",
          "evalue": "ignored",
          "traceback": [
            "\u001b[0;31m---------------------------------------------------------------------------\u001b[0m",
            "\u001b[0;31mKeyError\u001b[0m                                  Traceback (most recent call last)",
            "\u001b[0;32m<ipython-input-449-b5519a9fc947>\u001b[0m in \u001b[0;36m<module>\u001b[0;34m()\u001b[0m\n\u001b[0;32m----> 1\u001b[0;31m \u001b[0mdf_countryseries\u001b[0m\u001b[0;34m=\u001b[0m\u001b[0mdf_countryseries\u001b[0m\u001b[0;34m.\u001b[0m\u001b[0mdrop\u001b[0m\u001b[0;34m(\u001b[0m\u001b[0;34m'Unnamed: 3'\u001b[0m\u001b[0;34m,\u001b[0m\u001b[0maxis\u001b[0m\u001b[0;34m=\u001b[0m\u001b[0;36m1\u001b[0m\u001b[0;34m)\u001b[0m\u001b[0;34m\u001b[0m\u001b[0;34m\u001b[0m\u001b[0m\n\u001b[0m",
            "\u001b[0;32m/usr/local/lib/python3.7/dist-packages/pandas/core/frame.py\u001b[0m in \u001b[0;36mdrop\u001b[0;34m(self, labels, axis, index, columns, level, inplace, errors)\u001b[0m\n\u001b[1;32m   4172\u001b[0m             \u001b[0mlevel\u001b[0m\u001b[0;34m=\u001b[0m\u001b[0mlevel\u001b[0m\u001b[0;34m,\u001b[0m\u001b[0;34m\u001b[0m\u001b[0;34m\u001b[0m\u001b[0m\n\u001b[1;32m   4173\u001b[0m             \u001b[0minplace\u001b[0m\u001b[0;34m=\u001b[0m\u001b[0minplace\u001b[0m\u001b[0;34m,\u001b[0m\u001b[0;34m\u001b[0m\u001b[0;34m\u001b[0m\u001b[0m\n\u001b[0;32m-> 4174\u001b[0;31m             \u001b[0merrors\u001b[0m\u001b[0;34m=\u001b[0m\u001b[0merrors\u001b[0m\u001b[0;34m,\u001b[0m\u001b[0;34m\u001b[0m\u001b[0;34m\u001b[0m\u001b[0m\n\u001b[0m\u001b[1;32m   4175\u001b[0m         )\n\u001b[1;32m   4176\u001b[0m \u001b[0;34m\u001b[0m\u001b[0m\n",
            "\u001b[0;32m/usr/local/lib/python3.7/dist-packages/pandas/core/generic.py\u001b[0m in \u001b[0;36mdrop\u001b[0;34m(self, labels, axis, index, columns, level, inplace, errors)\u001b[0m\n\u001b[1;32m   3887\u001b[0m         \u001b[0;32mfor\u001b[0m \u001b[0maxis\u001b[0m\u001b[0;34m,\u001b[0m \u001b[0mlabels\u001b[0m \u001b[0;32min\u001b[0m \u001b[0maxes\u001b[0m\u001b[0;34m.\u001b[0m\u001b[0mitems\u001b[0m\u001b[0;34m(\u001b[0m\u001b[0;34m)\u001b[0m\u001b[0;34m:\u001b[0m\u001b[0;34m\u001b[0m\u001b[0;34m\u001b[0m\u001b[0m\n\u001b[1;32m   3888\u001b[0m             \u001b[0;32mif\u001b[0m \u001b[0mlabels\u001b[0m \u001b[0;32mis\u001b[0m \u001b[0;32mnot\u001b[0m \u001b[0;32mNone\u001b[0m\u001b[0;34m:\u001b[0m\u001b[0;34m\u001b[0m\u001b[0;34m\u001b[0m\u001b[0m\n\u001b[0;32m-> 3889\u001b[0;31m                 \u001b[0mobj\u001b[0m \u001b[0;34m=\u001b[0m \u001b[0mobj\u001b[0m\u001b[0;34m.\u001b[0m\u001b[0m_drop_axis\u001b[0m\u001b[0;34m(\u001b[0m\u001b[0mlabels\u001b[0m\u001b[0;34m,\u001b[0m \u001b[0maxis\u001b[0m\u001b[0;34m,\u001b[0m \u001b[0mlevel\u001b[0m\u001b[0;34m=\u001b[0m\u001b[0mlevel\u001b[0m\u001b[0;34m,\u001b[0m \u001b[0merrors\u001b[0m\u001b[0;34m=\u001b[0m\u001b[0merrors\u001b[0m\u001b[0;34m)\u001b[0m\u001b[0;34m\u001b[0m\u001b[0;34m\u001b[0m\u001b[0m\n\u001b[0m\u001b[1;32m   3890\u001b[0m \u001b[0;34m\u001b[0m\u001b[0m\n\u001b[1;32m   3891\u001b[0m         \u001b[0;32mif\u001b[0m \u001b[0minplace\u001b[0m\u001b[0;34m:\u001b[0m\u001b[0;34m\u001b[0m\u001b[0;34m\u001b[0m\u001b[0m\n",
            "\u001b[0;32m/usr/local/lib/python3.7/dist-packages/pandas/core/generic.py\u001b[0m in \u001b[0;36m_drop_axis\u001b[0;34m(self, labels, axis, level, errors)\u001b[0m\n\u001b[1;32m   3921\u001b[0m                 \u001b[0mnew_axis\u001b[0m \u001b[0;34m=\u001b[0m \u001b[0maxis\u001b[0m\u001b[0;34m.\u001b[0m\u001b[0mdrop\u001b[0m\u001b[0;34m(\u001b[0m\u001b[0mlabels\u001b[0m\u001b[0;34m,\u001b[0m \u001b[0mlevel\u001b[0m\u001b[0;34m=\u001b[0m\u001b[0mlevel\u001b[0m\u001b[0;34m,\u001b[0m \u001b[0merrors\u001b[0m\u001b[0;34m=\u001b[0m\u001b[0merrors\u001b[0m\u001b[0;34m)\u001b[0m\u001b[0;34m\u001b[0m\u001b[0;34m\u001b[0m\u001b[0m\n\u001b[1;32m   3922\u001b[0m             \u001b[0;32melse\u001b[0m\u001b[0;34m:\u001b[0m\u001b[0;34m\u001b[0m\u001b[0;34m\u001b[0m\u001b[0m\n\u001b[0;32m-> 3923\u001b[0;31m                 \u001b[0mnew_axis\u001b[0m \u001b[0;34m=\u001b[0m \u001b[0maxis\u001b[0m\u001b[0;34m.\u001b[0m\u001b[0mdrop\u001b[0m\u001b[0;34m(\u001b[0m\u001b[0mlabels\u001b[0m\u001b[0;34m,\u001b[0m \u001b[0merrors\u001b[0m\u001b[0;34m=\u001b[0m\u001b[0merrors\u001b[0m\u001b[0;34m)\u001b[0m\u001b[0;34m\u001b[0m\u001b[0;34m\u001b[0m\u001b[0m\n\u001b[0m\u001b[1;32m   3924\u001b[0m             \u001b[0mresult\u001b[0m \u001b[0;34m=\u001b[0m \u001b[0mself\u001b[0m\u001b[0;34m.\u001b[0m\u001b[0mreindex\u001b[0m\u001b[0;34m(\u001b[0m\u001b[0;34m**\u001b[0m\u001b[0;34m{\u001b[0m\u001b[0maxis_name\u001b[0m\u001b[0;34m:\u001b[0m \u001b[0mnew_axis\u001b[0m\u001b[0;34m}\u001b[0m\u001b[0;34m)\u001b[0m\u001b[0;34m\u001b[0m\u001b[0;34m\u001b[0m\u001b[0m\n\u001b[1;32m   3925\u001b[0m \u001b[0;34m\u001b[0m\u001b[0m\n",
            "\u001b[0;32m/usr/local/lib/python3.7/dist-packages/pandas/core/indexes/base.py\u001b[0m in \u001b[0;36mdrop\u001b[0;34m(self, labels, errors)\u001b[0m\n\u001b[1;32m   5285\u001b[0m         \u001b[0;32mif\u001b[0m \u001b[0mmask\u001b[0m\u001b[0;34m.\u001b[0m\u001b[0many\u001b[0m\u001b[0;34m(\u001b[0m\u001b[0;34m)\u001b[0m\u001b[0;34m:\u001b[0m\u001b[0;34m\u001b[0m\u001b[0;34m\u001b[0m\u001b[0m\n\u001b[1;32m   5286\u001b[0m             \u001b[0;32mif\u001b[0m \u001b[0merrors\u001b[0m \u001b[0;34m!=\u001b[0m \u001b[0;34m\"ignore\"\u001b[0m\u001b[0;34m:\u001b[0m\u001b[0;34m\u001b[0m\u001b[0;34m\u001b[0m\u001b[0m\n\u001b[0;32m-> 5287\u001b[0;31m                 \u001b[0;32mraise\u001b[0m \u001b[0mKeyError\u001b[0m\u001b[0;34m(\u001b[0m\u001b[0;34mf\"{labels[mask]} not found in axis\"\u001b[0m\u001b[0;34m)\u001b[0m\u001b[0;34m\u001b[0m\u001b[0;34m\u001b[0m\u001b[0m\n\u001b[0m\u001b[1;32m   5288\u001b[0m             \u001b[0mindexer\u001b[0m \u001b[0;34m=\u001b[0m \u001b[0mindexer\u001b[0m\u001b[0;34m[\u001b[0m\u001b[0;34m~\u001b[0m\u001b[0mmask\u001b[0m\u001b[0;34m]\u001b[0m\u001b[0;34m\u001b[0m\u001b[0;34m\u001b[0m\u001b[0m\n\u001b[1;32m   5289\u001b[0m         \u001b[0;32mreturn\u001b[0m \u001b[0mself\u001b[0m\u001b[0;34m.\u001b[0m\u001b[0mdelete\u001b[0m\u001b[0;34m(\u001b[0m\u001b[0mindexer\u001b[0m\u001b[0;34m)\u001b[0m\u001b[0;34m\u001b[0m\u001b[0;34m\u001b[0m\u001b[0m\n",
            "\u001b[0;31mKeyError\u001b[0m: \"['Unnamed: 3'] not found in axis\""
          ]
        }
      ]
    },
    {
      "cell_type": "code",
      "metadata": {
        "colab": {
          "base_uri": "https://localhost:8080/"
        },
        "id": "-qeUG_shsiSz",
        "outputId": "88c39e05-dab0-4e1d-f911-9cb1c69ab4b6"
      },
      "source": [
        "df_countryseries['CountryCode'].nunique()"
      ],
      "execution_count": null,
      "outputs": [
        {
          "output_type": "execute_result",
          "data": {
            "text/plain": [
              "211"
            ]
          },
          "metadata": {
            "tags": []
          },
          "execution_count": 450
        }
      ]
    },
    {
      "cell_type": "code",
      "metadata": {
        "colab": {
          "base_uri": "https://localhost:8080/",
          "height": 35
        },
        "id": "1qzcfWIEtmeE",
        "outputId": "05651b20-df07-4c42-fb6e-000c5ff53d19"
      },
      "source": [
        "df_countryseries.loc[0,'CountryCode']"
      ],
      "execution_count": null,
      "outputs": [
        {
          "output_type": "execute_result",
          "data": {
            "application/vnd.google.colaboratory.intrinsic+json": {
              "type": "string"
            },
            "text/plain": [
              "'ABW'"
            ]
          },
          "metadata": {
            "tags": []
          },
          "execution_count": 451
        }
      ]
    },
    {
      "cell_type": "code",
      "metadata": {
        "colab": {
          "base_uri": "https://localhost:8080/"
        },
        "id": "EpXd-9E1svVx",
        "outputId": "6ae59eff-cf56-4732-b0d0-57fea4005c6e"
      },
      "source": [
        "df_countryseries['SeriesCode'].nunique()"
      ],
      "execution_count": null,
      "outputs": [
        {
          "output_type": "execute_result",
          "data": {
            "text/plain": [
              "21"
            ]
          },
          "metadata": {
            "tags": []
          },
          "execution_count": 452
        }
      ]
    },
    {
      "cell_type": "code",
      "metadata": {
        "colab": {
          "base_uri": "https://localhost:8080/",
          "height": 35
        },
        "id": "WfqQ3seWtwCx",
        "outputId": "49ba6473-0e66-4dcc-916d-1b249fa0b227"
      },
      "source": [
        "df_countryseries.loc[0,'SeriesCode']"
      ],
      "execution_count": null,
      "outputs": [
        {
          "output_type": "execute_result",
          "data": {
            "application/vnd.google.colaboratory.intrinsic+json": {
              "type": "string"
            },
            "text/plain": [
              "'SP.POP.TOTL'"
            ]
          },
          "metadata": {
            "tags": []
          },
          "execution_count": 453
        }
      ]
    },
    {
      "cell_type": "code",
      "metadata": {
        "colab": {
          "base_uri": "https://localhost:8080/"
        },
        "id": "2kz961OlszRd",
        "outputId": "d4fe7f02-5e82-4574-c13d-58b744f889f7"
      },
      "source": [
        "df_countryseries['DESCRIPTION'].nunique()"
      ],
      "execution_count": null,
      "outputs": [
        {
          "output_type": "execute_result",
          "data": {
            "text/plain": [
              "97"
            ]
          },
          "metadata": {
            "tags": []
          },
          "execution_count": 454
        }
      ]
    },
    {
      "cell_type": "code",
      "metadata": {
        "colab": {
          "base_uri": "https://localhost:8080/",
          "height": 35
        },
        "id": "Yi5ldRuuty8y",
        "outputId": "493c50ed-f72d-40ef-ef9d-c505ccc7e1d3"
      },
      "source": [
        "df_countryseries.loc[7,'DESCRIPTION']"
      ],
      "execution_count": null,
      "outputs": [
        {
          "output_type": "execute_result",
          "data": {
            "application/vnd.google.colaboratory.intrinsic+json": {
              "type": "string"
            },
            "text/plain": [
              "'Estimates are based on regression.'"
            ]
          },
          "metadata": {
            "tags": []
          },
          "execution_count": 455
        }
      ]
    },
    {
      "cell_type": "code",
      "metadata": {
        "id": "M7RvlTo8t7We"
      },
      "source": [
        "df_countryseries_nodesc=df_countryseries.drop('DESCRIPTION',axis=1)"
      ],
      "execution_count": null,
      "outputs": []
    },
    {
      "cell_type": "code",
      "metadata": {
        "colab": {
          "base_uri": "https://localhost:8080/"
        },
        "id": "PBXyp4XbqD8_",
        "outputId": "3abf762f-a810-45f5-aaf5-171473eacbea"
      },
      "source": [
        "#dropping the description column\r\n",
        "df_countryseries_nodesc.describe"
      ],
      "execution_count": null,
      "outputs": [
        {
          "output_type": "execute_result",
          "data": {
            "text/plain": [
              "<bound method NDFrame.describe of     CountryCode         SeriesCode\n",
              "0           ABW        SP.POP.TOTL\n",
              "1           ABW        SP.POP.GROW\n",
              "2           AFG        SP.POP.GROW\n",
              "3           AFG  NY.GDP.PCAP.PP.CD\n",
              "4           AFG        SP.POP.TOTL\n",
              "..          ...                ...\n",
              "608         ZAF        SP.POP.GROW\n",
              "609         ZMB        SP.POP.GROW\n",
              "610         ZMB        SP.POP.TOTL\n",
              "611         ZWE        SP.POP.TOTL\n",
              "612         ZWE        SP.POP.GROW\n",
              "\n",
              "[613 rows x 2 columns]>"
            ]
          },
          "metadata": {
            "tags": []
          },
          "execution_count": 459
        }
      ]
    },
    {
      "cell_type": "code",
      "metadata": {
        "id": "J0A6Rjo5qXqS"
      },
      "source": [
        "df_StatsCountry=pd.read_csv(path+'EdStatsCountry.csv')"
      ],
      "execution_count": null,
      "outputs": []
    },
    {
      "cell_type": "code",
      "metadata": {
        "colab": {
          "base_uri": "https://localhost:8080/",
          "height": 805
        },
        "id": "yAZmCemyqoue",
        "outputId": "0e8177b6-0854-47a1-9ce7-c9629ca8d1ed"
      },
      "source": [
        "df_StatsCountry.head()"
      ],
      "execution_count": null,
      "outputs": [
        {
          "output_type": "execute_result",
          "data": {
            "text/html": [
              "<div>\n",
              "<style scoped>\n",
              "    .dataframe tbody tr th:only-of-type {\n",
              "        vertical-align: middle;\n",
              "    }\n",
              "\n",
              "    .dataframe tbody tr th {\n",
              "        vertical-align: top;\n",
              "    }\n",
              "\n",
              "    .dataframe thead th {\n",
              "        text-align: right;\n",
              "    }\n",
              "</style>\n",
              "<table border=\"1\" class=\"dataframe\">\n",
              "  <thead>\n",
              "    <tr style=\"text-align: right;\">\n",
              "      <th></th>\n",
              "      <th>Country Code</th>\n",
              "      <th>Short Name</th>\n",
              "      <th>Table Name</th>\n",
              "      <th>Long Name</th>\n",
              "      <th>2-alpha code</th>\n",
              "      <th>Currency Unit</th>\n",
              "      <th>Special Notes</th>\n",
              "      <th>Region</th>\n",
              "      <th>Income Group</th>\n",
              "      <th>WB-2 code</th>\n",
              "      <th>National accounts base year</th>\n",
              "      <th>National accounts reference year</th>\n",
              "      <th>SNA price valuation</th>\n",
              "      <th>Lending category</th>\n",
              "      <th>Other groups</th>\n",
              "      <th>System of National Accounts</th>\n",
              "      <th>Alternative conversion factor</th>\n",
              "      <th>PPP survey year</th>\n",
              "      <th>Balance of Payments Manual in use</th>\n",
              "      <th>External debt Reporting status</th>\n",
              "      <th>System of trade</th>\n",
              "      <th>Government Accounting concept</th>\n",
              "      <th>IMF data dissemination standard</th>\n",
              "      <th>Latest population census</th>\n",
              "      <th>Latest household survey</th>\n",
              "      <th>Source of most recent Income and expenditure data</th>\n",
              "      <th>Vital registration complete</th>\n",
              "      <th>Latest agricultural census</th>\n",
              "      <th>Latest industrial data</th>\n",
              "      <th>Latest trade data</th>\n",
              "      <th>Latest water withdrawal data</th>\n",
              "      <th>Unnamed: 31</th>\n",
              "    </tr>\n",
              "  </thead>\n",
              "  <tbody>\n",
              "    <tr>\n",
              "      <th>0</th>\n",
              "      <td>ABW</td>\n",
              "      <td>Aruba</td>\n",
              "      <td>Aruba</td>\n",
              "      <td>Aruba</td>\n",
              "      <td>AW</td>\n",
              "      <td>Aruban florin</td>\n",
              "      <td>SNA data for 2000-2011 are updated from offici...</td>\n",
              "      <td>Latin America &amp; Caribbean</td>\n",
              "      <td>High income: nonOECD</td>\n",
              "      <td>AW</td>\n",
              "      <td>2000</td>\n",
              "      <td>NaN</td>\n",
              "      <td>Value added at basic prices (VAB)</td>\n",
              "      <td>NaN</td>\n",
              "      <td>NaN</td>\n",
              "      <td>Country uses the 1993 System of National Accou...</td>\n",
              "      <td>NaN</td>\n",
              "      <td>NaN</td>\n",
              "      <td>IMF Balance of Payments Manual, 6th edition.</td>\n",
              "      <td>NaN</td>\n",
              "      <td>Special trade system</td>\n",
              "      <td>NaN</td>\n",
              "      <td>NaN</td>\n",
              "      <td>2010</td>\n",
              "      <td>NaN</td>\n",
              "      <td>NaN</td>\n",
              "      <td>Yes</td>\n",
              "      <td>NaN</td>\n",
              "      <td>NaN</td>\n",
              "      <td>2012.0</td>\n",
              "      <td>NaN</td>\n",
              "      <td>NaN</td>\n",
              "    </tr>\n",
              "    <tr>\n",
              "      <th>1</th>\n",
              "      <td>AFG</td>\n",
              "      <td>Afghanistan</td>\n",
              "      <td>Afghanistan</td>\n",
              "      <td>Islamic State of Afghanistan</td>\n",
              "      <td>AF</td>\n",
              "      <td>Afghan afghani</td>\n",
              "      <td>Fiscal year end: March 20; reporting period fo...</td>\n",
              "      <td>South Asia</td>\n",
              "      <td>Low income</td>\n",
              "      <td>AF</td>\n",
              "      <td>2002/03</td>\n",
              "      <td>NaN</td>\n",
              "      <td>Value added at basic prices (VAB)</td>\n",
              "      <td>IDA</td>\n",
              "      <td>HIPC</td>\n",
              "      <td>Country uses the 1993 System of National Accou...</td>\n",
              "      <td>NaN</td>\n",
              "      <td>NaN</td>\n",
              "      <td>NaN</td>\n",
              "      <td>Actual</td>\n",
              "      <td>General trade system</td>\n",
              "      <td>Consolidated central government</td>\n",
              "      <td>General Data Dissemination System (GDDS)</td>\n",
              "      <td>1979</td>\n",
              "      <td>Multiple Indicator Cluster Survey (MICS), 2010/11</td>\n",
              "      <td>Integrated household survey (IHS), 2008</td>\n",
              "      <td>NaN</td>\n",
              "      <td>2013/14</td>\n",
              "      <td>NaN</td>\n",
              "      <td>2012.0</td>\n",
              "      <td>2000</td>\n",
              "      <td>NaN</td>\n",
              "    </tr>\n",
              "    <tr>\n",
              "      <th>2</th>\n",
              "      <td>AGO</td>\n",
              "      <td>Angola</td>\n",
              "      <td>Angola</td>\n",
              "      <td>People's Republic of Angola</td>\n",
              "      <td>AO</td>\n",
              "      <td>Angolan kwanza</td>\n",
              "      <td>April 2013 database update: Based on IMF data,...</td>\n",
              "      <td>Sub-Saharan Africa</td>\n",
              "      <td>Upper middle income</td>\n",
              "      <td>AO</td>\n",
              "      <td>2002</td>\n",
              "      <td>NaN</td>\n",
              "      <td>Value added at producer prices (VAP)</td>\n",
              "      <td>IBRD</td>\n",
              "      <td>NaN</td>\n",
              "      <td>Country uses the 1993 System of National Accou...</td>\n",
              "      <td>1991–96</td>\n",
              "      <td>2005</td>\n",
              "      <td>IMF Balance of Payments Manual, 6th edition.</td>\n",
              "      <td>Actual</td>\n",
              "      <td>Special trade system</td>\n",
              "      <td>Budgetary central government</td>\n",
              "      <td>General Data Dissemination System (GDDS)</td>\n",
              "      <td>1970</td>\n",
              "      <td>Malaria Indicator Survey (MIS), 2011</td>\n",
              "      <td>Integrated household survey (IHS), 2008</td>\n",
              "      <td>NaN</td>\n",
              "      <td>2015</td>\n",
              "      <td>NaN</td>\n",
              "      <td>NaN</td>\n",
              "      <td>2005</td>\n",
              "      <td>NaN</td>\n",
              "    </tr>\n",
              "    <tr>\n",
              "      <th>3</th>\n",
              "      <td>ALB</td>\n",
              "      <td>Albania</td>\n",
              "      <td>Albania</td>\n",
              "      <td>Republic of Albania</td>\n",
              "      <td>AL</td>\n",
              "      <td>Albanian lek</td>\n",
              "      <td>NaN</td>\n",
              "      <td>Europe &amp; Central Asia</td>\n",
              "      <td>Upper middle income</td>\n",
              "      <td>AL</td>\n",
              "      <td>Original chained constant price data are resca...</td>\n",
              "      <td>1996.0</td>\n",
              "      <td>Value added at basic prices (VAB)</td>\n",
              "      <td>IBRD</td>\n",
              "      <td>NaN</td>\n",
              "      <td>Country uses the 1993 System of National Accou...</td>\n",
              "      <td>NaN</td>\n",
              "      <td>Rolling</td>\n",
              "      <td>IMF Balance of Payments Manual, 6th edition.</td>\n",
              "      <td>Actual</td>\n",
              "      <td>General trade system</td>\n",
              "      <td>Budgetary central government</td>\n",
              "      <td>General Data Dissemination System (GDDS)</td>\n",
              "      <td>2011</td>\n",
              "      <td>Demographic and Health Survey (DHS), 2008/09</td>\n",
              "      <td>Living Standards Measurement Study Survey (LSM...</td>\n",
              "      <td>Yes</td>\n",
              "      <td>2012</td>\n",
              "      <td>2010.0</td>\n",
              "      <td>2012.0</td>\n",
              "      <td>2006</td>\n",
              "      <td>NaN</td>\n",
              "    </tr>\n",
              "    <tr>\n",
              "      <th>4</th>\n",
              "      <td>AND</td>\n",
              "      <td>Andorra</td>\n",
              "      <td>Andorra</td>\n",
              "      <td>Principality of Andorra</td>\n",
              "      <td>AD</td>\n",
              "      <td>Euro</td>\n",
              "      <td>NaN</td>\n",
              "      <td>Europe &amp; Central Asia</td>\n",
              "      <td>High income: nonOECD</td>\n",
              "      <td>AD</td>\n",
              "      <td>1990</td>\n",
              "      <td>NaN</td>\n",
              "      <td>NaN</td>\n",
              "      <td>NaN</td>\n",
              "      <td>NaN</td>\n",
              "      <td>Country uses the 1968 System of National Accou...</td>\n",
              "      <td>NaN</td>\n",
              "      <td>NaN</td>\n",
              "      <td>NaN</td>\n",
              "      <td>NaN</td>\n",
              "      <td>Special trade system</td>\n",
              "      <td>NaN</td>\n",
              "      <td>NaN</td>\n",
              "      <td>2011. Population figures compiled from adminis...</td>\n",
              "      <td>NaN</td>\n",
              "      <td>NaN</td>\n",
              "      <td>Yes</td>\n",
              "      <td>NaN</td>\n",
              "      <td>NaN</td>\n",
              "      <td>2006.0</td>\n",
              "      <td>NaN</td>\n",
              "      <td>NaN</td>\n",
              "    </tr>\n",
              "  </tbody>\n",
              "</table>\n",
              "</div>"
            ],
            "text/plain": [
              "  Country Code   Short Name  ... Latest water withdrawal data Unnamed: 31\n",
              "0          ABW        Aruba  ...                          NaN         NaN\n",
              "1          AFG  Afghanistan  ...                         2000         NaN\n",
              "2          AGO       Angola  ...                         2005         NaN\n",
              "3          ALB      Albania  ...                         2006         NaN\n",
              "4          AND      Andorra  ...                          NaN         NaN\n",
              "\n",
              "[5 rows x 32 columns]"
            ]
          },
          "metadata": {
            "tags": []
          },
          "execution_count": 461
        }
      ]
    },
    {
      "cell_type": "code",
      "metadata": {
        "colab": {
          "base_uri": "https://localhost:8080/",
          "height": 788
        },
        "id": "bYkMnmKJqsKC",
        "outputId": "86928573-6745-4fcb-cd07-6a4067403a77"
      },
      "source": [
        "df_StatsCountry.tail()"
      ],
      "execution_count": null,
      "outputs": [
        {
          "output_type": "execute_result",
          "data": {
            "text/html": [
              "<div>\n",
              "<style scoped>\n",
              "    .dataframe tbody tr th:only-of-type {\n",
              "        vertical-align: middle;\n",
              "    }\n",
              "\n",
              "    .dataframe tbody tr th {\n",
              "        vertical-align: top;\n",
              "    }\n",
              "\n",
              "    .dataframe thead th {\n",
              "        text-align: right;\n",
              "    }\n",
              "</style>\n",
              "<table border=\"1\" class=\"dataframe\">\n",
              "  <thead>\n",
              "    <tr style=\"text-align: right;\">\n",
              "      <th></th>\n",
              "      <th>Country Code</th>\n",
              "      <th>Short Name</th>\n",
              "      <th>Table Name</th>\n",
              "      <th>Long Name</th>\n",
              "      <th>2-alpha code</th>\n",
              "      <th>Currency Unit</th>\n",
              "      <th>Special Notes</th>\n",
              "      <th>Region</th>\n",
              "      <th>Income Group</th>\n",
              "      <th>WB-2 code</th>\n",
              "      <th>National accounts base year</th>\n",
              "      <th>National accounts reference year</th>\n",
              "      <th>SNA price valuation</th>\n",
              "      <th>Lending category</th>\n",
              "      <th>Other groups</th>\n",
              "      <th>System of National Accounts</th>\n",
              "      <th>Alternative conversion factor</th>\n",
              "      <th>PPP survey year</th>\n",
              "      <th>Balance of Payments Manual in use</th>\n",
              "      <th>External debt Reporting status</th>\n",
              "      <th>System of trade</th>\n",
              "      <th>Government Accounting concept</th>\n",
              "      <th>IMF data dissemination standard</th>\n",
              "      <th>Latest population census</th>\n",
              "      <th>Latest household survey</th>\n",
              "      <th>Source of most recent Income and expenditure data</th>\n",
              "      <th>Vital registration complete</th>\n",
              "      <th>Latest agricultural census</th>\n",
              "      <th>Latest industrial data</th>\n",
              "      <th>Latest trade data</th>\n",
              "      <th>Latest water withdrawal data</th>\n",
              "      <th>Unnamed: 31</th>\n",
              "    </tr>\n",
              "  </thead>\n",
              "  <tbody>\n",
              "    <tr>\n",
              "      <th>236</th>\n",
              "      <td>XKX</td>\n",
              "      <td>Kosovo</td>\n",
              "      <td>Kosovo</td>\n",
              "      <td>Republic of Kosovo</td>\n",
              "      <td>NaN</td>\n",
              "      <td>Euro</td>\n",
              "      <td>Kosovo became a World Bank member on June 29, ...</td>\n",
              "      <td>Europe &amp; Central Asia</td>\n",
              "      <td>Lower middle income</td>\n",
              "      <td>KV</td>\n",
              "      <td>2008</td>\n",
              "      <td>NaN</td>\n",
              "      <td>Value added at basic prices (VAB)</td>\n",
              "      <td>IDA</td>\n",
              "      <td>NaN</td>\n",
              "      <td>Country uses the 1993 System of National Accou...</td>\n",
              "      <td>NaN</td>\n",
              "      <td>NaN</td>\n",
              "      <td>NaN</td>\n",
              "      <td>Actual</td>\n",
              "      <td>NaN</td>\n",
              "      <td>NaN</td>\n",
              "      <td>General Data Dissemination System (GDDS)</td>\n",
              "      <td>2011</td>\n",
              "      <td>NaN</td>\n",
              "      <td>Integrated household survey (IHS), 2011</td>\n",
              "      <td>NaN</td>\n",
              "      <td>NaN</td>\n",
              "      <td>NaN</td>\n",
              "      <td>NaN</td>\n",
              "      <td>NaN</td>\n",
              "      <td>NaN</td>\n",
              "    </tr>\n",
              "    <tr>\n",
              "      <th>237</th>\n",
              "      <td>YEM</td>\n",
              "      <td>Yemen</td>\n",
              "      <td>Yemen, Rep.</td>\n",
              "      <td>Republic of Yemen</td>\n",
              "      <td>YE</td>\n",
              "      <td>Yemeni rial</td>\n",
              "      <td>Based on official government statistics and In...</td>\n",
              "      <td>Middle East &amp; North Africa</td>\n",
              "      <td>Lower middle income</td>\n",
              "      <td>RY</td>\n",
              "      <td>2007</td>\n",
              "      <td>NaN</td>\n",
              "      <td>Value added at producer prices (VAP)</td>\n",
              "      <td>IDA</td>\n",
              "      <td>NaN</td>\n",
              "      <td>Country uses the 1993 System of National Accou...</td>\n",
              "      <td>1990–96</td>\n",
              "      <td>2005</td>\n",
              "      <td>IMF Balance of Payments Manual, 6th edition.</td>\n",
              "      <td>Actual</td>\n",
              "      <td>Special trade system</td>\n",
              "      <td>Budgetary central government</td>\n",
              "      <td>General Data Dissemination System (GDDS)</td>\n",
              "      <td>2004</td>\n",
              "      <td>Demographic and Health Survey (DHS), 2013</td>\n",
              "      <td>Expenditure survey/budget survey (ES/BS), 2005</td>\n",
              "      <td>NaN</td>\n",
              "      <td>NaN</td>\n",
              "      <td>2006.0</td>\n",
              "      <td>2012.0</td>\n",
              "      <td>2005</td>\n",
              "      <td>NaN</td>\n",
              "    </tr>\n",
              "    <tr>\n",
              "      <th>238</th>\n",
              "      <td>ZAF</td>\n",
              "      <td>South Africa</td>\n",
              "      <td>South Africa</td>\n",
              "      <td>Republic of South Africa</td>\n",
              "      <td>ZA</td>\n",
              "      <td>South African rand</td>\n",
              "      <td>Fiscal year end: March 31; reporting period fo...</td>\n",
              "      <td>Sub-Saharan Africa</td>\n",
              "      <td>Upper middle income</td>\n",
              "      <td>ZA</td>\n",
              "      <td>2005</td>\n",
              "      <td>NaN</td>\n",
              "      <td>Value added at basic prices (VAB)</td>\n",
              "      <td>IBRD</td>\n",
              "      <td>NaN</td>\n",
              "      <td>Country uses the 1993 System of National Accou...</td>\n",
              "      <td>NaN</td>\n",
              "      <td>2005</td>\n",
              "      <td>IMF Balance of Payments Manual, 6th edition.</td>\n",
              "      <td>Preliminary</td>\n",
              "      <td>General trade system</td>\n",
              "      <td>Consolidated central government</td>\n",
              "      <td>Special Data Dissemination Standard (SDDS)</td>\n",
              "      <td>2011</td>\n",
              "      <td>Demographic and Health Survey (DHS), 2003; Wor...</td>\n",
              "      <td>Expenditure survey/budget survey (ES/BS), 2010</td>\n",
              "      <td>NaN</td>\n",
              "      <td>2007</td>\n",
              "      <td>2010.0</td>\n",
              "      <td>2012.0</td>\n",
              "      <td>2000</td>\n",
              "      <td>NaN</td>\n",
              "    </tr>\n",
              "    <tr>\n",
              "      <th>239</th>\n",
              "      <td>ZMB</td>\n",
              "      <td>Zambia</td>\n",
              "      <td>Zambia</td>\n",
              "      <td>Republic of Zambia</td>\n",
              "      <td>ZM</td>\n",
              "      <td>New Zambian kwacha</td>\n",
              "      <td>National accounts data have rebased to reflect...</td>\n",
              "      <td>Sub-Saharan Africa</td>\n",
              "      <td>Lower middle income</td>\n",
              "      <td>ZM</td>\n",
              "      <td>1994</td>\n",
              "      <td>NaN</td>\n",
              "      <td>Value added at basic prices (VAB)</td>\n",
              "      <td>IDA</td>\n",
              "      <td>HIPC</td>\n",
              "      <td>Country uses the 1968 System of National Accou...</td>\n",
              "      <td>1990–92</td>\n",
              "      <td>2005</td>\n",
              "      <td>IMF Balance of Payments Manual, 6th edition.</td>\n",
              "      <td>Actual</td>\n",
              "      <td>Special trade system</td>\n",
              "      <td>Budgetary central government</td>\n",
              "      <td>General Data Dissemination System (GDDS)</td>\n",
              "      <td>2010</td>\n",
              "      <td>Demographic and Health Survey (DHS), 2013</td>\n",
              "      <td>Integrated household survey (IHS), 2010</td>\n",
              "      <td>NaN</td>\n",
              "      <td>2010. Population and Housing Census.</td>\n",
              "      <td>NaN</td>\n",
              "      <td>2011.0</td>\n",
              "      <td>2002</td>\n",
              "      <td>NaN</td>\n",
              "    </tr>\n",
              "    <tr>\n",
              "      <th>240</th>\n",
              "      <td>ZWE</td>\n",
              "      <td>Zimbabwe</td>\n",
              "      <td>Zimbabwe</td>\n",
              "      <td>Republic of Zimbabwe</td>\n",
              "      <td>ZW</td>\n",
              "      <td>U.S. dollar</td>\n",
              "      <td>Fiscal year end: June 30; reporting period for...</td>\n",
              "      <td>Sub-Saharan Africa</td>\n",
              "      <td>Low income</td>\n",
              "      <td>ZW</td>\n",
              "      <td>2009</td>\n",
              "      <td>NaN</td>\n",
              "      <td>Value added at basic prices (VAB)</td>\n",
              "      <td>Blend</td>\n",
              "      <td>NaN</td>\n",
              "      <td>Country uses the 1993 System of National Accou...</td>\n",
              "      <td>1991, 1998</td>\n",
              "      <td>2005</td>\n",
              "      <td>IMF Balance of Payments Manual, 6th edition.</td>\n",
              "      <td>Actual</td>\n",
              "      <td>General trade system</td>\n",
              "      <td>Consolidated central government</td>\n",
              "      <td>General Data Dissemination System (GDDS)</td>\n",
              "      <td>2012</td>\n",
              "      <td>Demographic and Health Survey (DHS), 2010/11</td>\n",
              "      <td>Integrated household survey (IHS), 2011/12</td>\n",
              "      <td>NaN</td>\n",
              "      <td>NaN</td>\n",
              "      <td>NaN</td>\n",
              "      <td>2012.0</td>\n",
              "      <td>2002</td>\n",
              "      <td>NaN</td>\n",
              "    </tr>\n",
              "  </tbody>\n",
              "</table>\n",
              "</div>"
            ],
            "text/plain": [
              "    Country Code    Short Name  ... Latest water withdrawal data Unnamed: 31\n",
              "236          XKX        Kosovo  ...                          NaN         NaN\n",
              "237          YEM         Yemen  ...                         2005         NaN\n",
              "238          ZAF  South Africa  ...                         2000         NaN\n",
              "239          ZMB        Zambia  ...                         2002         NaN\n",
              "240          ZWE      Zimbabwe  ...                         2002         NaN\n",
              "\n",
              "[5 rows x 32 columns]"
            ]
          },
          "metadata": {
            "tags": []
          },
          "execution_count": 462
        }
      ]
    },
    {
      "cell_type": "code",
      "metadata": {
        "colab": {
          "base_uri": "https://localhost:8080/"
        },
        "id": "Ev3CqufKqxe2",
        "outputId": "de769dff-2d32-401f-ed92-97563016ee38"
      },
      "source": [
        "df_StatsCountry.info()"
      ],
      "execution_count": null,
      "outputs": [
        {
          "output_type": "stream",
          "text": [
            "<class 'pandas.core.frame.DataFrame'>\n",
            "RangeIndex: 241 entries, 0 to 240\n",
            "Data columns (total 32 columns):\n",
            " #   Column                                             Non-Null Count  Dtype  \n",
            "---  ------                                             --------------  -----  \n",
            " 0   Country Code                                       241 non-null    object \n",
            " 1   Short Name                                         241 non-null    object \n",
            " 2   Table Name                                         241 non-null    object \n",
            " 3   Long Name                                          241 non-null    object \n",
            " 4   2-alpha code                                       238 non-null    object \n",
            " 5   Currency Unit                                      215 non-null    object \n",
            " 6   Special Notes                                      145 non-null    object \n",
            " 7   Region                                             214 non-null    object \n",
            " 8   Income Group                                       214 non-null    object \n",
            " 9   WB-2 code                                          240 non-null    object \n",
            " 10  National accounts base year                        205 non-null    object \n",
            " 11  National accounts reference year                   32 non-null     float64\n",
            " 12  SNA price valuation                                197 non-null    object \n",
            " 13  Lending category                                   144 non-null    object \n",
            " 14  Other groups                                       58 non-null     object \n",
            " 15  System of National Accounts                        215 non-null    object \n",
            " 16  Alternative conversion factor                      47 non-null     object \n",
            " 17  PPP survey year                                    145 non-null    object \n",
            " 18  Balance of Payments Manual in use                  181 non-null    object \n",
            " 19  External debt Reporting status                     124 non-null    object \n",
            " 20  System of trade                                    200 non-null    object \n",
            " 21  Government Accounting concept                      161 non-null    object \n",
            " 22  IMF data dissemination standard                    181 non-null    object \n",
            " 23  Latest population census                           213 non-null    object \n",
            " 24  Latest household survey                            141 non-null    object \n",
            " 25  Source of most recent Income and expenditure data  160 non-null    object \n",
            " 26  Vital registration complete                        111 non-null    object \n",
            " 27  Latest agricultural census                         142 non-null    object \n",
            " 28  Latest industrial data                             107 non-null    float64\n",
            " 29  Latest trade data                                  185 non-null    float64\n",
            " 30  Latest water withdrawal data                       179 non-null    object \n",
            " 31  Unnamed: 31                                        0 non-null      float64\n",
            "dtypes: float64(4), object(28)\n",
            "memory usage: 60.4+ KB\n"
          ],
          "name": "stdout"
        }
      ]
    },
    {
      "cell_type": "code",
      "metadata": {
        "colab": {
          "base_uri": "https://localhost:8080/"
        },
        "id": "s5THZuYPwZnc",
        "outputId": "c5d40709-4e0d-412f-f658-43fd2d571e9b"
      },
      "source": [
        "df_StatsCountry['Lending category'].nunique()"
      ],
      "execution_count": null,
      "outputs": [
        {
          "output_type": "execute_result",
          "data": {
            "text/plain": [
              "3"
            ]
          },
          "metadata": {
            "tags": []
          },
          "execution_count": 464
        }
      ]
    },
    {
      "cell_type": "code",
      "metadata": {
        "colab": {
          "base_uri": "https://localhost:8080/"
        },
        "id": "hY2lMn0cxMra",
        "outputId": "a30e052a-9247-4165-882c-d40e9b45ff44"
      },
      "source": [
        "df_StatsCountry['Source of most recent Income and expenditure data'].nunique()"
      ],
      "execution_count": null,
      "outputs": [
        {
          "output_type": "execute_result",
          "data": {
            "text/plain": [
              "75"
            ]
          },
          "metadata": {
            "tags": []
          },
          "execution_count": 465
        }
      ]
    },
    {
      "cell_type": "code",
      "metadata": {
        "colab": {
          "base_uri": "https://localhost:8080/"
        },
        "id": "m-z4hTJIvoql",
        "outputId": "5d9870a6-46cd-49ca-d6e8-c8e1a5a447ab"
      },
      "source": [
        "df_StatsCountry['Source of most recent Income and expenditure data'].unique()"
      ],
      "execution_count": null,
      "outputs": [
        {
          "output_type": "execute_result",
          "data": {
            "text/plain": [
              "array([nan, 'Integrated household survey (IHS), 2008',\n",
              "       'Living Standards Measurement Study Survey (LSMS), 2012',\n",
              "       'Integrated household survey (IHS), 2012',\n",
              "       'Expenditure survey/budget survey (ES/BS), 1994',\n",
              "       'Income survey (IS), 2000',\n",
              "       'Expenditure survey/budget survey (ES/BS), 2012',\n",
              "       'Core Welfare Indicator Questionnaire Survey (CWIQ), 2006',\n",
              "       'Integrated household survey (IHS), 2000',\n",
              "       'Core Welfare Indicator Questionnaire Survey (CWIQ), 2011',\n",
              "       'Core Welfare Indicator Questionnaire Survey (CWIQ), 2009',\n",
              "       'Integrated household survey (IHS), 2010',\n",
              "       'Expenditure survey/budget survey (ES/BS), 2007',\n",
              "       'Living Standards Measurement Study Survey (LSMS), 2007',\n",
              "       'Expenditure survey/budget survey (ES/BS), 2011',\n",
              "       'Integrated household survey (IHS), 2009',\n",
              "       'Expenditure survey/budget survey (ES/BS), 2009/10',\n",
              "       'Priority survey (PS), 2008', 'Labor force survey (LFS), 2000',\n",
              "       'Expenditure survey/budget survey (ES/BS), 2000',\n",
              "       'Integrated household survey (IHS), 2011',\n",
              "       'Priority survey (PS), 2007', '1-2-3 survey (1-2-3), 2004/05',\n",
              "       'Core Welfare Indicator Questionnaire Survey (CWIQ)/Priority survey (PS), 2011',\n",
              "       'Integrated household survey (IHS), 2004',\n",
              "       'Income survey (IS), 1996', 'Priority survey (PS), 2002',\n",
              "       'Income tax registers (ITR), 1997',\n",
              "       'Integrated household survey (IHS), 1995',\n",
              "       'Priority survey (PS), 1993',\n",
              "       'Expenditure survey/budget survey (ES/BS), 2004',\n",
              "       'Expenditure survey/budget survey (ES/BS), 2010/11',\n",
              "       'Expenditure survey/budget survey (ES/BS), 2009',\n",
              "       'Expenditure survey/budget survey (ES/BS), 1994/95',\n",
              "       'Core Welfare Indicator Questionnaire Survey (CWIQ)/Integrated household survey (IHS), 2005',\n",
              "       'Income survey (IS), 1999',\n",
              "       'Living Standards Measurement Study Survey (LSMS), 2005/06',\n",
              "       'Core Welfare Indicator Questionnaire Survey (CWIQ), 2012',\n",
              "       'Core Welfare Indicator Questionnaire Survey (CWIQ), 2010',\n",
              "       'Priority survey (PS), 2006',\n",
              "       'Living Standards Measurement Study Survey (LSMS), 2011',\n",
              "       'Integrated household survey (IHS), 1998',\n",
              "       'Expenditure survey/budget survey (ES/BS), 2008',\n",
              "       'Integrated household survey (IHS), 2001',\n",
              "       'Integrated household survey (IHS), 2013',\n",
              "       'Expenditure survey/budget survey (ES/BS), 2005',\n",
              "       'Integrated household survey (IHS), 2007',\n",
              "       'Expenditure survey/budget survey (ES/BS), 2001',\n",
              "       'Living Standards Measurement Study Survey (LSMS), 2010',\n",
              "       'Expenditure survey/budget survey (ES/BS), 2010',\n",
              "       'Income survey (IS), 1993',\n",
              "       'Integrated household survey (IHS), 2005/06',\n",
              "       'Expenditure survey/budget survey (ES/BS), 1998',\n",
              "       'Core Welfare Indicator Questionnaire Survey (CWIQ), 2007',\n",
              "       'Expenditure survey/budget survey (ES/BS), 2002/03',\n",
              "       'Priority survey (PS), 2010',\n",
              "       'Integrated household survey (IHS), 2009/10',\n",
              "       'Expenditure survey/budget survey (ES/BS), 2008/09',\n",
              "       'Integrated household survey (IHS), 2010/11',\n",
              "       'Core Welfare Indicator Questionnaire Survey (CWIQ)/Priority survey (PS), 2007',\n",
              "       'Living Standards Measurement Study Survey (LSMS), 2009',\n",
              "       'Integrated household survey (IHS), 1999',\n",
              "       'Income survey (IS), 1997', 'Labor force survey (LFS), 2010',\n",
              "       'Priority survey (PS), 2010/11', 'Priority survey (PS), 2009/10',\n",
              "       'Expenditure survey/budget survey (ES/BS), 1999',\n",
              "       'Income survey (IS), 2009', 'Budget survey (BS), 2006/07',\n",
              "       'Priority survey (PS), 2002/03',\n",
              "       'Living Standards Measurement Study Survey (LSMS), 1998',\n",
              "       '2013 national accounts estimates are based on IMF reports.',\n",
              "       'Integrated household survey (IHS), 1992',\n",
              "       'Labor force survey (LFS), 2009',\n",
              "       'Expenditure survey/budget survey (ES/BS), 2011/12',\n",
              "       'Integrated household survey (IHS), 2011/12'], dtype=object)"
            ]
          },
          "metadata": {
            "tags": []
          },
          "execution_count": 466
        }
      ]
    },
    {
      "cell_type": "code",
      "metadata": {
        "id": "tU1k0hwL0z2x"
      },
      "source": [
        "df_StatsCountry=df_StatsCountry[['Country Code','Short Name','Income Group']]"
      ],
      "execution_count": null,
      "outputs": []
    },
    {
      "cell_type": "code",
      "metadata": {
        "colab": {
          "base_uri": "https://localhost:8080/",
          "height": 407
        },
        "id": "6grzcaWz1K25",
        "outputId": "fa4305ad-129c-4788-c666-8c92244b8ed2"
      },
      "source": [
        "df_StatsCountry"
      ],
      "execution_count": null,
      "outputs": [
        {
          "output_type": "execute_result",
          "data": {
            "text/html": [
              "<div>\n",
              "<style scoped>\n",
              "    .dataframe tbody tr th:only-of-type {\n",
              "        vertical-align: middle;\n",
              "    }\n",
              "\n",
              "    .dataframe tbody tr th {\n",
              "        vertical-align: top;\n",
              "    }\n",
              "\n",
              "    .dataframe thead th {\n",
              "        text-align: right;\n",
              "    }\n",
              "</style>\n",
              "<table border=\"1\" class=\"dataframe\">\n",
              "  <thead>\n",
              "    <tr style=\"text-align: right;\">\n",
              "      <th></th>\n",
              "      <th>Country Code</th>\n",
              "      <th>Short Name</th>\n",
              "      <th>Income Group</th>\n",
              "    </tr>\n",
              "  </thead>\n",
              "  <tbody>\n",
              "    <tr>\n",
              "      <th>0</th>\n",
              "      <td>ABW</td>\n",
              "      <td>Aruba</td>\n",
              "      <td>High income: nonOECD</td>\n",
              "    </tr>\n",
              "    <tr>\n",
              "      <th>1</th>\n",
              "      <td>AFG</td>\n",
              "      <td>Afghanistan</td>\n",
              "      <td>Low income</td>\n",
              "    </tr>\n",
              "    <tr>\n",
              "      <th>2</th>\n",
              "      <td>AGO</td>\n",
              "      <td>Angola</td>\n",
              "      <td>Upper middle income</td>\n",
              "    </tr>\n",
              "    <tr>\n",
              "      <th>3</th>\n",
              "      <td>ALB</td>\n",
              "      <td>Albania</td>\n",
              "      <td>Upper middle income</td>\n",
              "    </tr>\n",
              "    <tr>\n",
              "      <th>4</th>\n",
              "      <td>AND</td>\n",
              "      <td>Andorra</td>\n",
              "      <td>High income: nonOECD</td>\n",
              "    </tr>\n",
              "    <tr>\n",
              "      <th>...</th>\n",
              "      <td>...</td>\n",
              "      <td>...</td>\n",
              "      <td>...</td>\n",
              "    </tr>\n",
              "    <tr>\n",
              "      <th>236</th>\n",
              "      <td>XKX</td>\n",
              "      <td>Kosovo</td>\n",
              "      <td>Lower middle income</td>\n",
              "    </tr>\n",
              "    <tr>\n",
              "      <th>237</th>\n",
              "      <td>YEM</td>\n",
              "      <td>Yemen</td>\n",
              "      <td>Lower middle income</td>\n",
              "    </tr>\n",
              "    <tr>\n",
              "      <th>238</th>\n",
              "      <td>ZAF</td>\n",
              "      <td>South Africa</td>\n",
              "      <td>Upper middle income</td>\n",
              "    </tr>\n",
              "    <tr>\n",
              "      <th>239</th>\n",
              "      <td>ZMB</td>\n",
              "      <td>Zambia</td>\n",
              "      <td>Lower middle income</td>\n",
              "    </tr>\n",
              "    <tr>\n",
              "      <th>240</th>\n",
              "      <td>ZWE</td>\n",
              "      <td>Zimbabwe</td>\n",
              "      <td>Low income</td>\n",
              "    </tr>\n",
              "  </tbody>\n",
              "</table>\n",
              "<p>241 rows × 3 columns</p>\n",
              "</div>"
            ],
            "text/plain": [
              "    Country Code    Short Name          Income Group\n",
              "0            ABW         Aruba  High income: nonOECD\n",
              "1            AFG   Afghanistan            Low income\n",
              "2            AGO        Angola   Upper middle income\n",
              "3            ALB       Albania   Upper middle income\n",
              "4            AND       Andorra  High income: nonOECD\n",
              "..           ...           ...                   ...\n",
              "236          XKX        Kosovo   Lower middle income\n",
              "237          YEM         Yemen   Lower middle income\n",
              "238          ZAF  South Africa   Upper middle income\n",
              "239          ZMB        Zambia   Lower middle income\n",
              "240          ZWE      Zimbabwe            Low income\n",
              "\n",
              "[241 rows x 3 columns]"
            ]
          },
          "metadata": {
            "tags": []
          },
          "execution_count": 468
        }
      ]
    },
    {
      "cell_type": "code",
      "metadata": {
        "colab": {
          "base_uri": "https://localhost:8080/"
        },
        "id": "wKLPxqzDq6tK",
        "outputId": "177bc943-0bab-42f9-abd9-f2a751298cc2"
      },
      "source": [
        "df_StatsCountry.describe"
      ],
      "execution_count": null,
      "outputs": [
        {
          "output_type": "execute_result",
          "data": {
            "text/plain": [
              "<bound method NDFrame.describe of     Country Code    Short Name          Income Group\n",
              "0            ABW         Aruba  High income: nonOECD\n",
              "1            AFG   Afghanistan            Low income\n",
              "2            AGO        Angola   Upper middle income\n",
              "3            ALB       Albania   Upper middle income\n",
              "4            AND       Andorra  High income: nonOECD\n",
              "..           ...           ...                   ...\n",
              "236          XKX        Kosovo   Lower middle income\n",
              "237          YEM         Yemen   Lower middle income\n",
              "238          ZAF  South Africa   Upper middle income\n",
              "239          ZMB        Zambia   Lower middle income\n",
              "240          ZWE      Zimbabwe            Low income\n",
              "\n",
              "[241 rows x 3 columns]>"
            ]
          },
          "metadata": {
            "tags": []
          },
          "execution_count": 470
        }
      ]
    },
    {
      "cell_type": "code",
      "metadata": {
        "colab": {
          "base_uri": "https://localhost:8080/"
        },
        "id": "YvB_7CtwuqG6",
        "outputId": "8f7e0937-8e8c-424e-c69a-c3346280ddab"
      },
      "source": [
        "df_StatsCountry.columns"
      ],
      "execution_count": null,
      "outputs": [
        {
          "output_type": "execute_result",
          "data": {
            "text/plain": [
              "Index(['Country Code', 'Short Name', 'Income Group'], dtype='object')"
            ]
          },
          "metadata": {
            "tags": []
          },
          "execution_count": 471
        }
      ]
    },
    {
      "cell_type": "code",
      "metadata": {
        "id": "bqH-4yFFr0oz"
      },
      "source": [
        "df_StatsData=pd.read_csv(path+'EdStatsData.csv')"
      ],
      "execution_count": null,
      "outputs": []
    },
    {
      "cell_type": "code",
      "metadata": {
        "colab": {
          "base_uri": "https://localhost:8080/",
          "height": 667
        },
        "id": "02Ogdovfr_pN",
        "outputId": "ff11f687-80ee-4e20-f416-01defd15f2b6"
      },
      "source": [
        "df_StatsData.head()"
      ],
      "execution_count": null,
      "outputs": [
        {
          "output_type": "execute_result",
          "data": {
            "text/html": [
              "<div>\n",
              "<style scoped>\n",
              "    .dataframe tbody tr th:only-of-type {\n",
              "        vertical-align: middle;\n",
              "    }\n",
              "\n",
              "    .dataframe tbody tr th {\n",
              "        vertical-align: top;\n",
              "    }\n",
              "\n",
              "    .dataframe thead th {\n",
              "        text-align: right;\n",
              "    }\n",
              "</style>\n",
              "<table border=\"1\" class=\"dataframe\">\n",
              "  <thead>\n",
              "    <tr style=\"text-align: right;\">\n",
              "      <th></th>\n",
              "      <th>Country Name</th>\n",
              "      <th>Country Code</th>\n",
              "      <th>Indicator Name</th>\n",
              "      <th>Indicator Code</th>\n",
              "      <th>1970</th>\n",
              "      <th>1971</th>\n",
              "      <th>1972</th>\n",
              "      <th>1973</th>\n",
              "      <th>1974</th>\n",
              "      <th>1975</th>\n",
              "      <th>1976</th>\n",
              "      <th>1977</th>\n",
              "      <th>1978</th>\n",
              "      <th>1979</th>\n",
              "      <th>1980</th>\n",
              "      <th>1981</th>\n",
              "      <th>1982</th>\n",
              "      <th>1983</th>\n",
              "      <th>1984</th>\n",
              "      <th>1985</th>\n",
              "      <th>1986</th>\n",
              "      <th>1987</th>\n",
              "      <th>1988</th>\n",
              "      <th>1989</th>\n",
              "      <th>1990</th>\n",
              "      <th>1991</th>\n",
              "      <th>1992</th>\n",
              "      <th>1993</th>\n",
              "      <th>1994</th>\n",
              "      <th>1995</th>\n",
              "      <th>1996</th>\n",
              "      <th>1997</th>\n",
              "      <th>1998</th>\n",
              "      <th>1999</th>\n",
              "      <th>2000</th>\n",
              "      <th>2001</th>\n",
              "      <th>2002</th>\n",
              "      <th>2003</th>\n",
              "      <th>2004</th>\n",
              "      <th>2005</th>\n",
              "      <th>2006</th>\n",
              "      <th>2007</th>\n",
              "      <th>2008</th>\n",
              "      <th>2009</th>\n",
              "      <th>2010</th>\n",
              "      <th>2011</th>\n",
              "      <th>2012</th>\n",
              "      <th>2013</th>\n",
              "      <th>2014</th>\n",
              "      <th>2015</th>\n",
              "      <th>2016</th>\n",
              "      <th>2017</th>\n",
              "      <th>2020</th>\n",
              "      <th>2025</th>\n",
              "      <th>2030</th>\n",
              "      <th>2035</th>\n",
              "      <th>2040</th>\n",
              "      <th>2045</th>\n",
              "      <th>2050</th>\n",
              "      <th>2055</th>\n",
              "      <th>2060</th>\n",
              "      <th>2065</th>\n",
              "      <th>2070</th>\n",
              "      <th>2075</th>\n",
              "      <th>2080</th>\n",
              "      <th>2085</th>\n",
              "      <th>2090</th>\n",
              "      <th>2095</th>\n",
              "      <th>2100</th>\n",
              "      <th>Unnamed: 69</th>\n",
              "    </tr>\n",
              "  </thead>\n",
              "  <tbody>\n",
              "    <tr>\n",
              "      <th>0</th>\n",
              "      <td>Arab World</td>\n",
              "      <td>ARB</td>\n",
              "      <td>Adjusted net enrolment rate, lower secondary, ...</td>\n",
              "      <td>UIS.NERA.2</td>\n",
              "      <td>NaN</td>\n",
              "      <td>NaN</td>\n",
              "      <td>NaN</td>\n",
              "      <td>NaN</td>\n",
              "      <td>NaN</td>\n",
              "      <td>NaN</td>\n",
              "      <td>NaN</td>\n",
              "      <td>NaN</td>\n",
              "      <td>NaN</td>\n",
              "      <td>NaN</td>\n",
              "      <td>NaN</td>\n",
              "      <td>NaN</td>\n",
              "      <td>NaN</td>\n",
              "      <td>NaN</td>\n",
              "      <td>NaN</td>\n",
              "      <td>NaN</td>\n",
              "      <td>NaN</td>\n",
              "      <td>NaN</td>\n",
              "      <td>NaN</td>\n",
              "      <td>NaN</td>\n",
              "      <td>NaN</td>\n",
              "      <td>NaN</td>\n",
              "      <td>NaN</td>\n",
              "      <td>NaN</td>\n",
              "      <td>NaN</td>\n",
              "      <td>NaN</td>\n",
              "      <td>NaN</td>\n",
              "      <td>NaN</td>\n",
              "      <td>NaN</td>\n",
              "      <td>NaN</td>\n",
              "      <td>NaN</td>\n",
              "      <td>NaN</td>\n",
              "      <td>NaN</td>\n",
              "      <td>NaN</td>\n",
              "      <td>NaN</td>\n",
              "      <td>NaN</td>\n",
              "      <td>NaN</td>\n",
              "      <td>NaN</td>\n",
              "      <td>NaN</td>\n",
              "      <td>NaN</td>\n",
              "      <td>NaN</td>\n",
              "      <td>NaN</td>\n",
              "      <td>NaN</td>\n",
              "      <td>NaN</td>\n",
              "      <td>NaN</td>\n",
              "      <td>NaN</td>\n",
              "      <td>NaN</td>\n",
              "      <td>NaN</td>\n",
              "      <td>NaN</td>\n",
              "      <td>NaN</td>\n",
              "      <td>NaN</td>\n",
              "      <td>NaN</td>\n",
              "      <td>NaN</td>\n",
              "      <td>NaN</td>\n",
              "      <td>NaN</td>\n",
              "      <td>NaN</td>\n",
              "      <td>NaN</td>\n",
              "      <td>NaN</td>\n",
              "      <td>NaN</td>\n",
              "      <td>NaN</td>\n",
              "      <td>NaN</td>\n",
              "      <td>NaN</td>\n",
              "      <td>NaN</td>\n",
              "      <td>NaN</td>\n",
              "      <td>NaN</td>\n",
              "      <td>NaN</td>\n",
              "    </tr>\n",
              "    <tr>\n",
              "      <th>1</th>\n",
              "      <td>Arab World</td>\n",
              "      <td>ARB</td>\n",
              "      <td>Adjusted net enrolment rate, lower secondary, ...</td>\n",
              "      <td>UIS.NERA.2.F</td>\n",
              "      <td>NaN</td>\n",
              "      <td>NaN</td>\n",
              "      <td>NaN</td>\n",
              "      <td>NaN</td>\n",
              "      <td>NaN</td>\n",
              "      <td>NaN</td>\n",
              "      <td>NaN</td>\n",
              "      <td>NaN</td>\n",
              "      <td>NaN</td>\n",
              "      <td>NaN</td>\n",
              "      <td>NaN</td>\n",
              "      <td>NaN</td>\n",
              "      <td>NaN</td>\n",
              "      <td>NaN</td>\n",
              "      <td>NaN</td>\n",
              "      <td>NaN</td>\n",
              "      <td>NaN</td>\n",
              "      <td>NaN</td>\n",
              "      <td>NaN</td>\n",
              "      <td>NaN</td>\n",
              "      <td>NaN</td>\n",
              "      <td>NaN</td>\n",
              "      <td>NaN</td>\n",
              "      <td>NaN</td>\n",
              "      <td>NaN</td>\n",
              "      <td>NaN</td>\n",
              "      <td>NaN</td>\n",
              "      <td>NaN</td>\n",
              "      <td>NaN</td>\n",
              "      <td>NaN</td>\n",
              "      <td>NaN</td>\n",
              "      <td>NaN</td>\n",
              "      <td>NaN</td>\n",
              "      <td>NaN</td>\n",
              "      <td>NaN</td>\n",
              "      <td>NaN</td>\n",
              "      <td>NaN</td>\n",
              "      <td>NaN</td>\n",
              "      <td>NaN</td>\n",
              "      <td>NaN</td>\n",
              "      <td>NaN</td>\n",
              "      <td>NaN</td>\n",
              "      <td>NaN</td>\n",
              "      <td>NaN</td>\n",
              "      <td>NaN</td>\n",
              "      <td>NaN</td>\n",
              "      <td>NaN</td>\n",
              "      <td>NaN</td>\n",
              "      <td>NaN</td>\n",
              "      <td>NaN</td>\n",
              "      <td>NaN</td>\n",
              "      <td>NaN</td>\n",
              "      <td>NaN</td>\n",
              "      <td>NaN</td>\n",
              "      <td>NaN</td>\n",
              "      <td>NaN</td>\n",
              "      <td>NaN</td>\n",
              "      <td>NaN</td>\n",
              "      <td>NaN</td>\n",
              "      <td>NaN</td>\n",
              "      <td>NaN</td>\n",
              "      <td>NaN</td>\n",
              "      <td>NaN</td>\n",
              "      <td>NaN</td>\n",
              "      <td>NaN</td>\n",
              "      <td>NaN</td>\n",
              "    </tr>\n",
              "    <tr>\n",
              "      <th>2</th>\n",
              "      <td>Arab World</td>\n",
              "      <td>ARB</td>\n",
              "      <td>Adjusted net enrolment rate, lower secondary, ...</td>\n",
              "      <td>UIS.NERA.2.GPI</td>\n",
              "      <td>NaN</td>\n",
              "      <td>NaN</td>\n",
              "      <td>NaN</td>\n",
              "      <td>NaN</td>\n",
              "      <td>NaN</td>\n",
              "      <td>NaN</td>\n",
              "      <td>NaN</td>\n",
              "      <td>NaN</td>\n",
              "      <td>NaN</td>\n",
              "      <td>NaN</td>\n",
              "      <td>NaN</td>\n",
              "      <td>NaN</td>\n",
              "      <td>NaN</td>\n",
              "      <td>NaN</td>\n",
              "      <td>NaN</td>\n",
              "      <td>NaN</td>\n",
              "      <td>NaN</td>\n",
              "      <td>NaN</td>\n",
              "      <td>NaN</td>\n",
              "      <td>NaN</td>\n",
              "      <td>NaN</td>\n",
              "      <td>NaN</td>\n",
              "      <td>NaN</td>\n",
              "      <td>NaN</td>\n",
              "      <td>NaN</td>\n",
              "      <td>NaN</td>\n",
              "      <td>NaN</td>\n",
              "      <td>NaN</td>\n",
              "      <td>NaN</td>\n",
              "      <td>NaN</td>\n",
              "      <td>NaN</td>\n",
              "      <td>NaN</td>\n",
              "      <td>NaN</td>\n",
              "      <td>NaN</td>\n",
              "      <td>NaN</td>\n",
              "      <td>NaN</td>\n",
              "      <td>NaN</td>\n",
              "      <td>NaN</td>\n",
              "      <td>NaN</td>\n",
              "      <td>NaN</td>\n",
              "      <td>NaN</td>\n",
              "      <td>NaN</td>\n",
              "      <td>NaN</td>\n",
              "      <td>NaN</td>\n",
              "      <td>NaN</td>\n",
              "      <td>NaN</td>\n",
              "      <td>NaN</td>\n",
              "      <td>NaN</td>\n",
              "      <td>NaN</td>\n",
              "      <td>NaN</td>\n",
              "      <td>NaN</td>\n",
              "      <td>NaN</td>\n",
              "      <td>NaN</td>\n",
              "      <td>NaN</td>\n",
              "      <td>NaN</td>\n",
              "      <td>NaN</td>\n",
              "      <td>NaN</td>\n",
              "      <td>NaN</td>\n",
              "      <td>NaN</td>\n",
              "      <td>NaN</td>\n",
              "      <td>NaN</td>\n",
              "      <td>NaN</td>\n",
              "      <td>NaN</td>\n",
              "      <td>NaN</td>\n",
              "      <td>NaN</td>\n",
              "      <td>NaN</td>\n",
              "    </tr>\n",
              "    <tr>\n",
              "      <th>3</th>\n",
              "      <td>Arab World</td>\n",
              "      <td>ARB</td>\n",
              "      <td>Adjusted net enrolment rate, lower secondary, ...</td>\n",
              "      <td>UIS.NERA.2.M</td>\n",
              "      <td>NaN</td>\n",
              "      <td>NaN</td>\n",
              "      <td>NaN</td>\n",
              "      <td>NaN</td>\n",
              "      <td>NaN</td>\n",
              "      <td>NaN</td>\n",
              "      <td>NaN</td>\n",
              "      <td>NaN</td>\n",
              "      <td>NaN</td>\n",
              "      <td>NaN</td>\n",
              "      <td>NaN</td>\n",
              "      <td>NaN</td>\n",
              "      <td>NaN</td>\n",
              "      <td>NaN</td>\n",
              "      <td>NaN</td>\n",
              "      <td>NaN</td>\n",
              "      <td>NaN</td>\n",
              "      <td>NaN</td>\n",
              "      <td>NaN</td>\n",
              "      <td>NaN</td>\n",
              "      <td>NaN</td>\n",
              "      <td>NaN</td>\n",
              "      <td>NaN</td>\n",
              "      <td>NaN</td>\n",
              "      <td>NaN</td>\n",
              "      <td>NaN</td>\n",
              "      <td>NaN</td>\n",
              "      <td>NaN</td>\n",
              "      <td>NaN</td>\n",
              "      <td>NaN</td>\n",
              "      <td>NaN</td>\n",
              "      <td>NaN</td>\n",
              "      <td>NaN</td>\n",
              "      <td>NaN</td>\n",
              "      <td>NaN</td>\n",
              "      <td>NaN</td>\n",
              "      <td>NaN</td>\n",
              "      <td>NaN</td>\n",
              "      <td>NaN</td>\n",
              "      <td>NaN</td>\n",
              "      <td>NaN</td>\n",
              "      <td>NaN</td>\n",
              "      <td>NaN</td>\n",
              "      <td>NaN</td>\n",
              "      <td>NaN</td>\n",
              "      <td>NaN</td>\n",
              "      <td>NaN</td>\n",
              "      <td>NaN</td>\n",
              "      <td>NaN</td>\n",
              "      <td>NaN</td>\n",
              "      <td>NaN</td>\n",
              "      <td>NaN</td>\n",
              "      <td>NaN</td>\n",
              "      <td>NaN</td>\n",
              "      <td>NaN</td>\n",
              "      <td>NaN</td>\n",
              "      <td>NaN</td>\n",
              "      <td>NaN</td>\n",
              "      <td>NaN</td>\n",
              "      <td>NaN</td>\n",
              "      <td>NaN</td>\n",
              "      <td>NaN</td>\n",
              "      <td>NaN</td>\n",
              "      <td>NaN</td>\n",
              "      <td>NaN</td>\n",
              "      <td>NaN</td>\n",
              "    </tr>\n",
              "    <tr>\n",
              "      <th>4</th>\n",
              "      <td>Arab World</td>\n",
              "      <td>ARB</td>\n",
              "      <td>Adjusted net enrolment rate, primary, both sex...</td>\n",
              "      <td>SE.PRM.TENR</td>\n",
              "      <td>54.822121</td>\n",
              "      <td>54.894138</td>\n",
              "      <td>56.209438</td>\n",
              "      <td>57.267109</td>\n",
              "      <td>57.991138</td>\n",
              "      <td>59.36554</td>\n",
              "      <td>60.999962</td>\n",
              "      <td>61.92268</td>\n",
              "      <td>62.69342</td>\n",
              "      <td>64.383186</td>\n",
              "      <td>65.617767</td>\n",
              "      <td>66.085152</td>\n",
              "      <td>66.608139</td>\n",
              "      <td>67.290451</td>\n",
              "      <td>68.510094</td>\n",
              "      <td>69.033211</td>\n",
              "      <td>69.944908</td>\n",
              "      <td>71.04187</td>\n",
              "      <td>71.693779</td>\n",
              "      <td>71.699097</td>\n",
              "      <td>71.995819</td>\n",
              "      <td>72.602837</td>\n",
              "      <td>70.032722</td>\n",
              "      <td>70.464821</td>\n",
              "      <td>72.645683</td>\n",
              "      <td>71.81176</td>\n",
              "      <td>73.903511</td>\n",
              "      <td>74.425201</td>\n",
              "      <td>75.110817</td>\n",
              "      <td>76.254318</td>\n",
              "      <td>77.245682</td>\n",
              "      <td>78.800522</td>\n",
              "      <td>80.051399</td>\n",
              "      <td>80.805389</td>\n",
              "      <td>81.607063</td>\n",
              "      <td>82.489487</td>\n",
              "      <td>82.685509</td>\n",
              "      <td>83.280342</td>\n",
              "      <td>84.011871</td>\n",
              "      <td>84.195961</td>\n",
              "      <td>85.211998</td>\n",
              "      <td>85.24514</td>\n",
              "      <td>86.101669</td>\n",
              "      <td>85.51194</td>\n",
              "      <td>85.320152</td>\n",
              "      <td>NaN</td>\n",
              "      <td>NaN</td>\n",
              "      <td>NaN</td>\n",
              "      <td>NaN</td>\n",
              "      <td>NaN</td>\n",
              "      <td>NaN</td>\n",
              "      <td>NaN</td>\n",
              "      <td>NaN</td>\n",
              "      <td>NaN</td>\n",
              "      <td>NaN</td>\n",
              "      <td>NaN</td>\n",
              "      <td>NaN</td>\n",
              "      <td>NaN</td>\n",
              "      <td>NaN</td>\n",
              "      <td>NaN</td>\n",
              "      <td>NaN</td>\n",
              "      <td>NaN</td>\n",
              "      <td>NaN</td>\n",
              "      <td>NaN</td>\n",
              "      <td>NaN</td>\n",
              "      <td>NaN</td>\n",
              "    </tr>\n",
              "  </tbody>\n",
              "</table>\n",
              "</div>"
            ],
            "text/plain": [
              "  Country Name Country Code  ... 2100 Unnamed: 69\n",
              "0   Arab World          ARB  ...  NaN         NaN\n",
              "1   Arab World          ARB  ...  NaN         NaN\n",
              "2   Arab World          ARB  ...  NaN         NaN\n",
              "3   Arab World          ARB  ...  NaN         NaN\n",
              "4   Arab World          ARB  ...  NaN         NaN\n",
              "\n",
              "[5 rows x 70 columns]"
            ]
          },
          "metadata": {
            "tags": []
          },
          "execution_count": 473
        }
      ]
    },
    {
      "cell_type": "code",
      "metadata": {
        "colab": {
          "base_uri": "https://localhost:8080/",
          "height": 667
        },
        "id": "qEjoVVRMsFMY",
        "outputId": "e4bfdb31-db17-4aaf-833e-e27124bd4dab"
      },
      "source": [
        "df_StatsData.tail()"
      ],
      "execution_count": null,
      "outputs": [
        {
          "output_type": "execute_result",
          "data": {
            "text/html": [
              "<div>\n",
              "<style scoped>\n",
              "    .dataframe tbody tr th:only-of-type {\n",
              "        vertical-align: middle;\n",
              "    }\n",
              "\n",
              "    .dataframe tbody tr th {\n",
              "        vertical-align: top;\n",
              "    }\n",
              "\n",
              "    .dataframe thead th {\n",
              "        text-align: right;\n",
              "    }\n",
              "</style>\n",
              "<table border=\"1\" class=\"dataframe\">\n",
              "  <thead>\n",
              "    <tr style=\"text-align: right;\">\n",
              "      <th></th>\n",
              "      <th>Country Name</th>\n",
              "      <th>Country Code</th>\n",
              "      <th>Indicator Name</th>\n",
              "      <th>Indicator Code</th>\n",
              "      <th>1970</th>\n",
              "      <th>1971</th>\n",
              "      <th>1972</th>\n",
              "      <th>1973</th>\n",
              "      <th>1974</th>\n",
              "      <th>1975</th>\n",
              "      <th>1976</th>\n",
              "      <th>1977</th>\n",
              "      <th>1978</th>\n",
              "      <th>1979</th>\n",
              "      <th>1980</th>\n",
              "      <th>1981</th>\n",
              "      <th>1982</th>\n",
              "      <th>1983</th>\n",
              "      <th>1984</th>\n",
              "      <th>1985</th>\n",
              "      <th>1986</th>\n",
              "      <th>1987</th>\n",
              "      <th>1988</th>\n",
              "      <th>1989</th>\n",
              "      <th>1990</th>\n",
              "      <th>1991</th>\n",
              "      <th>1992</th>\n",
              "      <th>1993</th>\n",
              "      <th>1994</th>\n",
              "      <th>1995</th>\n",
              "      <th>1996</th>\n",
              "      <th>1997</th>\n",
              "      <th>1998</th>\n",
              "      <th>1999</th>\n",
              "      <th>2000</th>\n",
              "      <th>2001</th>\n",
              "      <th>2002</th>\n",
              "      <th>2003</th>\n",
              "      <th>2004</th>\n",
              "      <th>2005</th>\n",
              "      <th>2006</th>\n",
              "      <th>2007</th>\n",
              "      <th>2008</th>\n",
              "      <th>2009</th>\n",
              "      <th>2010</th>\n",
              "      <th>2011</th>\n",
              "      <th>2012</th>\n",
              "      <th>2013</th>\n",
              "      <th>2014</th>\n",
              "      <th>2015</th>\n",
              "      <th>2016</th>\n",
              "      <th>2017</th>\n",
              "      <th>2020</th>\n",
              "      <th>2025</th>\n",
              "      <th>2030</th>\n",
              "      <th>2035</th>\n",
              "      <th>2040</th>\n",
              "      <th>2045</th>\n",
              "      <th>2050</th>\n",
              "      <th>2055</th>\n",
              "      <th>2060</th>\n",
              "      <th>2065</th>\n",
              "      <th>2070</th>\n",
              "      <th>2075</th>\n",
              "      <th>2080</th>\n",
              "      <th>2085</th>\n",
              "      <th>2090</th>\n",
              "      <th>2095</th>\n",
              "      <th>2100</th>\n",
              "      <th>Unnamed: 69</th>\n",
              "    </tr>\n",
              "  </thead>\n",
              "  <tbody>\n",
              "    <tr>\n",
              "      <th>886925</th>\n",
              "      <td>Zimbabwe</td>\n",
              "      <td>ZWE</td>\n",
              "      <td>Youth illiterate population, 15-24 years, male...</td>\n",
              "      <td>UIS.LP.AG15T24.M</td>\n",
              "      <td>NaN</td>\n",
              "      <td>NaN</td>\n",
              "      <td>NaN</td>\n",
              "      <td>NaN</td>\n",
              "      <td>NaN</td>\n",
              "      <td>NaN</td>\n",
              "      <td>NaN</td>\n",
              "      <td>NaN</td>\n",
              "      <td>NaN</td>\n",
              "      <td>NaN</td>\n",
              "      <td>NaN</td>\n",
              "      <td>NaN</td>\n",
              "      <td>47631.000000</td>\n",
              "      <td>NaN</td>\n",
              "      <td>NaN</td>\n",
              "      <td>NaN</td>\n",
              "      <td>NaN</td>\n",
              "      <td>NaN</td>\n",
              "      <td>NaN</td>\n",
              "      <td>NaN</td>\n",
              "      <td>NaN</td>\n",
              "      <td>NaN</td>\n",
              "      <td>38800.000000</td>\n",
              "      <td>NaN</td>\n",
              "      <td>NaN</td>\n",
              "      <td>NaN</td>\n",
              "      <td>NaN</td>\n",
              "      <td>NaN</td>\n",
              "      <td>NaN</td>\n",
              "      <td>NaN</td>\n",
              "      <td>NaN</td>\n",
              "      <td>NaN</td>\n",
              "      <td>NaN</td>\n",
              "      <td>NaN</td>\n",
              "      <td>NaN</td>\n",
              "      <td>NaN</td>\n",
              "      <td>NaN</td>\n",
              "      <td>NaN</td>\n",
              "      <td>NaN</td>\n",
              "      <td>NaN</td>\n",
              "      <td>NaN</td>\n",
              "      <td>166679.00000</td>\n",
              "      <td>NaN</td>\n",
              "      <td>NaN</td>\n",
              "      <td>199464.00000</td>\n",
              "      <td>NaN</td>\n",
              "      <td>NaN</td>\n",
              "      <td>NaN</td>\n",
              "      <td>NaN</td>\n",
              "      <td>NaN</td>\n",
              "      <td>NaN</td>\n",
              "      <td>NaN</td>\n",
              "      <td>NaN</td>\n",
              "      <td>NaN</td>\n",
              "      <td>NaN</td>\n",
              "      <td>NaN</td>\n",
              "      <td>NaN</td>\n",
              "      <td>NaN</td>\n",
              "      <td>NaN</td>\n",
              "      <td>NaN</td>\n",
              "      <td>NaN</td>\n",
              "      <td>NaN</td>\n",
              "      <td>NaN</td>\n",
              "      <td>NaN</td>\n",
              "      <td>NaN</td>\n",
              "      <td>NaN</td>\n",
              "    </tr>\n",
              "    <tr>\n",
              "      <th>886926</th>\n",
              "      <td>Zimbabwe</td>\n",
              "      <td>ZWE</td>\n",
              "      <td>Youth literacy rate, population 15-24 years, b...</td>\n",
              "      <td>SE.ADT.1524.LT.ZS</td>\n",
              "      <td>NaN</td>\n",
              "      <td>NaN</td>\n",
              "      <td>NaN</td>\n",
              "      <td>NaN</td>\n",
              "      <td>NaN</td>\n",
              "      <td>NaN</td>\n",
              "      <td>NaN</td>\n",
              "      <td>NaN</td>\n",
              "      <td>NaN</td>\n",
              "      <td>NaN</td>\n",
              "      <td>NaN</td>\n",
              "      <td>NaN</td>\n",
              "      <td>89.021851</td>\n",
              "      <td>NaN</td>\n",
              "      <td>NaN</td>\n",
              "      <td>NaN</td>\n",
              "      <td>NaN</td>\n",
              "      <td>NaN</td>\n",
              "      <td>NaN</td>\n",
              "      <td>NaN</td>\n",
              "      <td>NaN</td>\n",
              "      <td>NaN</td>\n",
              "      <td>95.411362</td>\n",
              "      <td>NaN</td>\n",
              "      <td>NaN</td>\n",
              "      <td>NaN</td>\n",
              "      <td>NaN</td>\n",
              "      <td>NaN</td>\n",
              "      <td>NaN</td>\n",
              "      <td>NaN</td>\n",
              "      <td>NaN</td>\n",
              "      <td>NaN</td>\n",
              "      <td>NaN</td>\n",
              "      <td>NaN</td>\n",
              "      <td>NaN</td>\n",
              "      <td>NaN</td>\n",
              "      <td>NaN</td>\n",
              "      <td>NaN</td>\n",
              "      <td>NaN</td>\n",
              "      <td>NaN</td>\n",
              "      <td>NaN</td>\n",
              "      <td>90.93070</td>\n",
              "      <td>NaN</td>\n",
              "      <td>NaN</td>\n",
              "      <td>90.42812</td>\n",
              "      <td>NaN</td>\n",
              "      <td>NaN</td>\n",
              "      <td>NaN</td>\n",
              "      <td>NaN</td>\n",
              "      <td>NaN</td>\n",
              "      <td>NaN</td>\n",
              "      <td>NaN</td>\n",
              "      <td>NaN</td>\n",
              "      <td>NaN</td>\n",
              "      <td>NaN</td>\n",
              "      <td>NaN</td>\n",
              "      <td>NaN</td>\n",
              "      <td>NaN</td>\n",
              "      <td>NaN</td>\n",
              "      <td>NaN</td>\n",
              "      <td>NaN</td>\n",
              "      <td>NaN</td>\n",
              "      <td>NaN</td>\n",
              "      <td>NaN</td>\n",
              "      <td>NaN</td>\n",
              "      <td>NaN</td>\n",
              "    </tr>\n",
              "    <tr>\n",
              "      <th>886927</th>\n",
              "      <td>Zimbabwe</td>\n",
              "      <td>ZWE</td>\n",
              "      <td>Youth literacy rate, population 15-24 years, f...</td>\n",
              "      <td>SE.ADT.1524.LT.FE.ZS</td>\n",
              "      <td>NaN</td>\n",
              "      <td>NaN</td>\n",
              "      <td>NaN</td>\n",
              "      <td>NaN</td>\n",
              "      <td>NaN</td>\n",
              "      <td>NaN</td>\n",
              "      <td>NaN</td>\n",
              "      <td>NaN</td>\n",
              "      <td>NaN</td>\n",
              "      <td>NaN</td>\n",
              "      <td>NaN</td>\n",
              "      <td>NaN</td>\n",
              "      <td>84.812241</td>\n",
              "      <td>NaN</td>\n",
              "      <td>NaN</td>\n",
              "      <td>NaN</td>\n",
              "      <td>NaN</td>\n",
              "      <td>NaN</td>\n",
              "      <td>NaN</td>\n",
              "      <td>NaN</td>\n",
              "      <td>NaN</td>\n",
              "      <td>NaN</td>\n",
              "      <td>94.353439</td>\n",
              "      <td>NaN</td>\n",
              "      <td>NaN</td>\n",
              "      <td>NaN</td>\n",
              "      <td>NaN</td>\n",
              "      <td>NaN</td>\n",
              "      <td>NaN</td>\n",
              "      <td>NaN</td>\n",
              "      <td>NaN</td>\n",
              "      <td>NaN</td>\n",
              "      <td>NaN</td>\n",
              "      <td>NaN</td>\n",
              "      <td>NaN</td>\n",
              "      <td>NaN</td>\n",
              "      <td>NaN</td>\n",
              "      <td>NaN</td>\n",
              "      <td>NaN</td>\n",
              "      <td>NaN</td>\n",
              "      <td>NaN</td>\n",
              "      <td>92.12456</td>\n",
              "      <td>NaN</td>\n",
              "      <td>NaN</td>\n",
              "      <td>93.18835</td>\n",
              "      <td>NaN</td>\n",
              "      <td>NaN</td>\n",
              "      <td>NaN</td>\n",
              "      <td>NaN</td>\n",
              "      <td>NaN</td>\n",
              "      <td>NaN</td>\n",
              "      <td>NaN</td>\n",
              "      <td>NaN</td>\n",
              "      <td>NaN</td>\n",
              "      <td>NaN</td>\n",
              "      <td>NaN</td>\n",
              "      <td>NaN</td>\n",
              "      <td>NaN</td>\n",
              "      <td>NaN</td>\n",
              "      <td>NaN</td>\n",
              "      <td>NaN</td>\n",
              "      <td>NaN</td>\n",
              "      <td>NaN</td>\n",
              "      <td>NaN</td>\n",
              "      <td>NaN</td>\n",
              "      <td>NaN</td>\n",
              "    </tr>\n",
              "    <tr>\n",
              "      <th>886928</th>\n",
              "      <td>Zimbabwe</td>\n",
              "      <td>ZWE</td>\n",
              "      <td>Youth literacy rate, population 15-24 years, g...</td>\n",
              "      <td>SE.ADT.1524.LT.FM.ZS</td>\n",
              "      <td>NaN</td>\n",
              "      <td>NaN</td>\n",
              "      <td>NaN</td>\n",
              "      <td>NaN</td>\n",
              "      <td>NaN</td>\n",
              "      <td>NaN</td>\n",
              "      <td>NaN</td>\n",
              "      <td>NaN</td>\n",
              "      <td>NaN</td>\n",
              "      <td>NaN</td>\n",
              "      <td>NaN</td>\n",
              "      <td>NaN</td>\n",
              "      <td>0.903920</td>\n",
              "      <td>NaN</td>\n",
              "      <td>NaN</td>\n",
              "      <td>NaN</td>\n",
              "      <td>NaN</td>\n",
              "      <td>NaN</td>\n",
              "      <td>NaN</td>\n",
              "      <td>NaN</td>\n",
              "      <td>NaN</td>\n",
              "      <td>NaN</td>\n",
              "      <td>0.977340</td>\n",
              "      <td>NaN</td>\n",
              "      <td>NaN</td>\n",
              "      <td>NaN</td>\n",
              "      <td>NaN</td>\n",
              "      <td>NaN</td>\n",
              "      <td>NaN</td>\n",
              "      <td>NaN</td>\n",
              "      <td>NaN</td>\n",
              "      <td>NaN</td>\n",
              "      <td>NaN</td>\n",
              "      <td>NaN</td>\n",
              "      <td>NaN</td>\n",
              "      <td>NaN</td>\n",
              "      <td>NaN</td>\n",
              "      <td>NaN</td>\n",
              "      <td>NaN</td>\n",
              "      <td>NaN</td>\n",
              "      <td>NaN</td>\n",
              "      <td>1.02828</td>\n",
              "      <td>NaN</td>\n",
              "      <td>NaN</td>\n",
              "      <td>1.06389</td>\n",
              "      <td>NaN</td>\n",
              "      <td>NaN</td>\n",
              "      <td>NaN</td>\n",
              "      <td>NaN</td>\n",
              "      <td>NaN</td>\n",
              "      <td>NaN</td>\n",
              "      <td>NaN</td>\n",
              "      <td>NaN</td>\n",
              "      <td>NaN</td>\n",
              "      <td>NaN</td>\n",
              "      <td>NaN</td>\n",
              "      <td>NaN</td>\n",
              "      <td>NaN</td>\n",
              "      <td>NaN</td>\n",
              "      <td>NaN</td>\n",
              "      <td>NaN</td>\n",
              "      <td>NaN</td>\n",
              "      <td>NaN</td>\n",
              "      <td>NaN</td>\n",
              "      <td>NaN</td>\n",
              "      <td>NaN</td>\n",
              "    </tr>\n",
              "    <tr>\n",
              "      <th>886929</th>\n",
              "      <td>Zimbabwe</td>\n",
              "      <td>ZWE</td>\n",
              "      <td>Youth literacy rate, population 15-24 years, m...</td>\n",
              "      <td>SE.ADT.1524.LT.MA.ZS</td>\n",
              "      <td>NaN</td>\n",
              "      <td>NaN</td>\n",
              "      <td>NaN</td>\n",
              "      <td>NaN</td>\n",
              "      <td>NaN</td>\n",
              "      <td>NaN</td>\n",
              "      <td>NaN</td>\n",
              "      <td>NaN</td>\n",
              "      <td>NaN</td>\n",
              "      <td>NaN</td>\n",
              "      <td>NaN</td>\n",
              "      <td>NaN</td>\n",
              "      <td>93.826958</td>\n",
              "      <td>NaN</td>\n",
              "      <td>NaN</td>\n",
              "      <td>NaN</td>\n",
              "      <td>NaN</td>\n",
              "      <td>NaN</td>\n",
              "      <td>NaN</td>\n",
              "      <td>NaN</td>\n",
              "      <td>NaN</td>\n",
              "      <td>NaN</td>\n",
              "      <td>96.540619</td>\n",
              "      <td>NaN</td>\n",
              "      <td>NaN</td>\n",
              "      <td>NaN</td>\n",
              "      <td>NaN</td>\n",
              "      <td>NaN</td>\n",
              "      <td>NaN</td>\n",
              "      <td>NaN</td>\n",
              "      <td>NaN</td>\n",
              "      <td>NaN</td>\n",
              "      <td>NaN</td>\n",
              "      <td>NaN</td>\n",
              "      <td>NaN</td>\n",
              "      <td>NaN</td>\n",
              "      <td>NaN</td>\n",
              "      <td>NaN</td>\n",
              "      <td>NaN</td>\n",
              "      <td>NaN</td>\n",
              "      <td>NaN</td>\n",
              "      <td>89.59058</td>\n",
              "      <td>NaN</td>\n",
              "      <td>NaN</td>\n",
              "      <td>87.59186</td>\n",
              "      <td>NaN</td>\n",
              "      <td>NaN</td>\n",
              "      <td>NaN</td>\n",
              "      <td>NaN</td>\n",
              "      <td>NaN</td>\n",
              "      <td>NaN</td>\n",
              "      <td>NaN</td>\n",
              "      <td>NaN</td>\n",
              "      <td>NaN</td>\n",
              "      <td>NaN</td>\n",
              "      <td>NaN</td>\n",
              "      <td>NaN</td>\n",
              "      <td>NaN</td>\n",
              "      <td>NaN</td>\n",
              "      <td>NaN</td>\n",
              "      <td>NaN</td>\n",
              "      <td>NaN</td>\n",
              "      <td>NaN</td>\n",
              "      <td>NaN</td>\n",
              "      <td>NaN</td>\n",
              "      <td>NaN</td>\n",
              "    </tr>\n",
              "  </tbody>\n",
              "</table>\n",
              "</div>"
            ],
            "text/plain": [
              "       Country Name Country Code  ... 2100 Unnamed: 69\n",
              "886925     Zimbabwe          ZWE  ...  NaN         NaN\n",
              "886926     Zimbabwe          ZWE  ...  NaN         NaN\n",
              "886927     Zimbabwe          ZWE  ...  NaN         NaN\n",
              "886928     Zimbabwe          ZWE  ...  NaN         NaN\n",
              "886929     Zimbabwe          ZWE  ...  NaN         NaN\n",
              "\n",
              "[5 rows x 70 columns]"
            ]
          },
          "metadata": {
            "tags": []
          },
          "execution_count": 474
        }
      ]
    },
    {
      "cell_type": "code",
      "metadata": {
        "colab": {
          "base_uri": "https://localhost:8080/"
        },
        "id": "STIesWun10g6",
        "outputId": "5d4420a7-24b3-4de8-fc59-5b58b9b2ea0a"
      },
      "source": [
        "df_StatsData.columns"
      ],
      "execution_count": null,
      "outputs": [
        {
          "output_type": "execute_result",
          "data": {
            "text/plain": [
              "Index(['Country Name', 'Country Code', 'Indicator Name', 'Indicator Code',\n",
              "       '1970', '1971', '1972', '1973', '1974', '1975', '1976', '1977', '1978',\n",
              "       '1979', '1980', '1981', '1982', '1983', '1984', '1985', '1986', '1987',\n",
              "       '1988', '1989', '1990', '1991', '1992', '1993', '1994', '1995', '1996',\n",
              "       '1997', '1998', '1999', '2000', '2001', '2002', '2003', '2004', '2005',\n",
              "       '2006', '2007', '2008', '2009', '2010', '2011', '2012', '2013', '2014',\n",
              "       '2015', '2016', '2017', '2020', '2025', '2030', '2035', '2040', '2045',\n",
              "       '2050', '2055', '2060', '2065', '2070', '2075', '2080', '2085', '2090',\n",
              "       '2095', '2100', 'Unnamed: 69'],\n",
              "      dtype='object')"
            ]
          },
          "metadata": {
            "tags": []
          },
          "execution_count": 475
        }
      ]
    },
    {
      "cell_type": "code",
      "metadata": {
        "colab": {
          "base_uri": "https://localhost:8080/"
        },
        "id": "jvkC-X1X1-cU",
        "outputId": "97ac429a-eace-49e9-ff35-334d6673bd15"
      },
      "source": [
        "df_StatsData['Indicator Code'].nunique()"
      ],
      "execution_count": null,
      "outputs": [
        {
          "output_type": "execute_result",
          "data": {
            "text/plain": [
              "3665"
            ]
          },
          "metadata": {
            "tags": []
          },
          "execution_count": 476
        }
      ]
    },
    {
      "cell_type": "code",
      "metadata": {
        "colab": {
          "base_uri": "https://localhost:8080/"
        },
        "id": "-esGSxZ124Ho",
        "outputId": "14569226-95b1-4809-8a82-a4935c4053a8"
      },
      "source": [
        "df_StatsData['Indicator Name'].nunique()"
      ],
      "execution_count": null,
      "outputs": [
        {
          "output_type": "execute_result",
          "data": {
            "text/plain": [
              "3665"
            ]
          },
          "metadata": {
            "tags": []
          },
          "execution_count": 477
        }
      ]
    },
    {
      "cell_type": "code",
      "metadata": {
        "colab": {
          "base_uri": "https://localhost:8080/"
        },
        "id": "SsHaybqL2XmN",
        "outputId": "49634a98-1117-4421-a33e-1844ff078f7e"
      },
      "source": [
        "df_StatsData['Country Code'].nunique()"
      ],
      "execution_count": null,
      "outputs": [
        {
          "output_type": "execute_result",
          "data": {
            "text/plain": [
              "242"
            ]
          },
          "metadata": {
            "tags": []
          },
          "execution_count": 478
        }
      ]
    },
    {
      "cell_type": "markdown",
      "metadata": {
        "id": "0wrayDIy2jGE"
      },
      "source": [
        "Country codes 242* Indicator code 3665 gives total rows 886930"
      ]
    },
    {
      "cell_type": "code",
      "metadata": {
        "colab": {
          "base_uri": "https://localhost:8080/"
        },
        "id": "vzFPad1fsVj5",
        "outputId": "efd29310-7ed9-4c86-d8f4-c5510f3b9b3f"
      },
      "source": [
        "df_StatsData.info()"
      ],
      "execution_count": null,
      "outputs": [
        {
          "output_type": "stream",
          "text": [
            "<class 'pandas.core.frame.DataFrame'>\n",
            "RangeIndex: 886930 entries, 0 to 886929\n",
            "Data columns (total 70 columns):\n",
            " #   Column          Non-Null Count   Dtype  \n",
            "---  ------          --------------   -----  \n",
            " 0   Country Name    886930 non-null  object \n",
            " 1   Country Code    886930 non-null  object \n",
            " 2   Indicator Name  886930 non-null  object \n",
            " 3   Indicator Code  886930 non-null  object \n",
            " 4   1970            72288 non-null   float64\n",
            " 5   1971            35537 non-null   float64\n",
            " 6   1972            35619 non-null   float64\n",
            " 7   1973            35545 non-null   float64\n",
            " 8   1974            35730 non-null   float64\n",
            " 9   1975            87306 non-null   float64\n",
            " 10  1976            37483 non-null   float64\n",
            " 11  1977            37574 non-null   float64\n",
            " 12  1978            37576 non-null   float64\n",
            " 13  1979            36809 non-null   float64\n",
            " 14  1980            89122 non-null   float64\n",
            " 15  1981            38777 non-null   float64\n",
            " 16  1982            37511 non-null   float64\n",
            " 17  1983            38460 non-null   float64\n",
            " 18  1984            38606 non-null   float64\n",
            " 19  1985            90296 non-null   float64\n",
            " 20  1986            39372 non-null   float64\n",
            " 21  1987            38641 non-null   float64\n",
            " 22  1988            38552 non-null   float64\n",
            " 23  1989            37540 non-null   float64\n",
            " 24  1990            124405 non-null  float64\n",
            " 25  1991            74437 non-null   float64\n",
            " 26  1992            75543 non-null   float64\n",
            " 27  1993            75793 non-null   float64\n",
            " 28  1994            77462 non-null   float64\n",
            " 29  1995            131361 non-null  float64\n",
            " 30  1996            76807 non-null   float64\n",
            " 31  1997            73453 non-null   float64\n",
            " 32  1998            84914 non-null   float64\n",
            " 33  1999            118839 non-null  float64\n",
            " 34  2000            176676 non-null  float64\n",
            " 35  2001            123509 non-null  float64\n",
            " 36  2002            124205 non-null  float64\n",
            " 37  2003            130363 non-null  float64\n",
            " 38  2004            128814 non-null  float64\n",
            " 39  2005            184108 non-null  float64\n",
            " 40  2006            140312 non-null  float64\n",
            " 41  2007            137272 non-null  float64\n",
            " 42  2008            134387 non-null  float64\n",
            " 43  2009            142108 non-null  float64\n",
            " 44  2010            242442 non-null  float64\n",
            " 45  2011            146012 non-null  float64\n",
            " 46  2012            147264 non-null  float64\n",
            " 47  2013            137509 non-null  float64\n",
            " 48  2014            113789 non-null  float64\n",
            " 49  2015            131058 non-null  float64\n",
            " 50  2016            16460 non-null   float64\n",
            " 51  2017            143 non-null     float64\n",
            " 52  2020            51436 non-null   float64\n",
            " 53  2025            51436 non-null   float64\n",
            " 54  2030            51436 non-null   float64\n",
            " 55  2035            51436 non-null   float64\n",
            " 56  2040            51436 non-null   float64\n",
            " 57  2045            51436 non-null   float64\n",
            " 58  2050            51436 non-null   float64\n",
            " 59  2055            51436 non-null   float64\n",
            " 60  2060            51436 non-null   float64\n",
            " 61  2065            51436 non-null   float64\n",
            " 62  2070            51436 non-null   float64\n",
            " 63  2075            51436 non-null   float64\n",
            " 64  2080            51436 non-null   float64\n",
            " 65  2085            51436 non-null   float64\n",
            " 66  2090            51436 non-null   float64\n",
            " 67  2095            51436 non-null   float64\n",
            " 68  2100            51436 non-null   float64\n",
            " 69  Unnamed: 69     0 non-null       float64\n",
            "dtypes: float64(66), object(4)\n",
            "memory usage: 473.7+ MB\n"
          ],
          "name": "stdout"
        }
      ]
    },
    {
      "cell_type": "code",
      "metadata": {
        "colab": {
          "base_uri": "https://localhost:8080/"
        },
        "id": "F8KZI5lFsk_e",
        "outputId": "bbfb261d-340c-4d2a-b0b4-652fed382e46"
      },
      "source": [
        "df_StatsData.columns"
      ],
      "execution_count": null,
      "outputs": [
        {
          "output_type": "execute_result",
          "data": {
            "text/plain": [
              "Index(['Country Name', 'Country Code', 'Indicator Name', 'Indicator Code',\n",
              "       '1970', '1971', '1972', '1973', '1974', '1975', '1976', '1977', '1978',\n",
              "       '1979', '1980', '1981', '1982', '1983', '1984', '1985', '1986', '1987',\n",
              "       '1988', '1989', '1990', '1991', '1992', '1993', '1994', '1995', '1996',\n",
              "       '1997', '1998', '1999', '2000', '2001', '2002', '2003', '2004', '2005',\n",
              "       '2006', '2007', '2008', '2009', '2010', '2011', '2012', '2013', '2014',\n",
              "       '2015', '2016', '2017', '2020', '2025', '2030', '2035', '2040', '2045',\n",
              "       '2050', '2055', '2060', '2065', '2070', '2075', '2080', '2085', '2090',\n",
              "       '2095', '2100', 'Unnamed: 69'],\n",
              "      dtype='object')"
            ]
          },
          "metadata": {
            "tags": []
          },
          "execution_count": 480
        }
      ]
    },
    {
      "cell_type": "code",
      "metadata": {
        "colab": {
          "base_uri": "https://localhost:8080/"
        },
        "id": "1zfehcZTsoDg",
        "outputId": "dc6c1dd4-f392-4bab-b8fe-0ad1bb764284"
      },
      "source": [
        "df_StatsData['Indicator Name'].nunique()"
      ],
      "execution_count": null,
      "outputs": [
        {
          "output_type": "execute_result",
          "data": {
            "text/plain": [
              "3665"
            ]
          },
          "metadata": {
            "tags": []
          },
          "execution_count": 481
        }
      ]
    },
    {
      "cell_type": "code",
      "metadata": {
        "colab": {
          "base_uri": "https://localhost:8080/"
        },
        "id": "AFJHmuClswJC",
        "outputId": "211897a9-4d57-49b4-b851-6f9f659f37e9"
      },
      "source": [
        "df_StatsData['Country Name'].nunique()"
      ],
      "execution_count": null,
      "outputs": [
        {
          "output_type": "execute_result",
          "data": {
            "text/plain": [
              "242"
            ]
          },
          "metadata": {
            "tags": []
          },
          "execution_count": 482
        }
      ]
    },
    {
      "cell_type": "markdown",
      "metadata": {
        "id": "jYnVytDVWGYq"
      },
      "source": [
        "getting StatsData for a period of 11 years in which we have minimum NAN values "
      ]
    },
    {
      "cell_type": "code",
      "metadata": {
        "id": "WMvBmC0UVbSd"
      },
      "source": [
        "df_StatsData=df_StatsData.loc[:,['Country Name', 'Country Code', 'Indicator Name', 'Indicator Code','2005','2006', '2007', '2008', '2009', '2010', '2011', '2012', '2013', '2014']]"
      ],
      "execution_count": null,
      "outputs": []
    },
    {
      "cell_type": "code",
      "metadata": {
        "colab": {
          "base_uri": "https://localhost:8080/"
        },
        "id": "zL-MW_QYTNMp",
        "outputId": "03a33144-4651-4ffb-800a-9a2b7bfb0dbe"
      },
      "source": [
        "df_StatsData.info()"
      ],
      "execution_count": null,
      "outputs": [
        {
          "output_type": "stream",
          "text": [
            "<class 'pandas.core.frame.DataFrame'>\n",
            "RangeIndex: 886930 entries, 0 to 886929\n",
            "Data columns (total 14 columns):\n",
            " #   Column          Non-Null Count   Dtype  \n",
            "---  ------          --------------   -----  \n",
            " 0   Country Name    886930 non-null  object \n",
            " 1   Country Code    886930 non-null  object \n",
            " 2   Indicator Name  886930 non-null  object \n",
            " 3   Indicator Code  886930 non-null  object \n",
            " 4   2005            184108 non-null  float64\n",
            " 5   2006            140312 non-null  float64\n",
            " 6   2007            137272 non-null  float64\n",
            " 7   2008            134387 non-null  float64\n",
            " 8   2009            142108 non-null  float64\n",
            " 9   2010            242442 non-null  float64\n",
            " 10  2011            146012 non-null  float64\n",
            " 11  2012            147264 non-null  float64\n",
            " 12  2013            137509 non-null  float64\n",
            " 13  2014            113789 non-null  float64\n",
            "dtypes: float64(10), object(4)\n",
            "memory usage: 94.7+ MB\n"
          ],
          "name": "stdout"
        }
      ]
    },
    {
      "cell_type": "code",
      "metadata": {
        "id": "V5XDT0tkw7Jl"
      },
      "source": [
        "df_StatsFootNote=pd.read_csv(path+'EdStatsFootNote.csv')"
      ],
      "execution_count": null,
      "outputs": []
    },
    {
      "cell_type": "code",
      "metadata": {
        "colab": {
          "base_uri": "https://localhost:8080/",
          "height": 198
        },
        "id": "aE3EAOOCUUHJ",
        "outputId": "41f85e2f-f342-4182-fcb5-9dd2851ce59f"
      },
      "source": [
        "df_StatsFootNote.head()"
      ],
      "execution_count": null,
      "outputs": [
        {
          "output_type": "execute_result",
          "data": {
            "text/html": [
              "<div>\n",
              "<style scoped>\n",
              "    .dataframe tbody tr th:only-of-type {\n",
              "        vertical-align: middle;\n",
              "    }\n",
              "\n",
              "    .dataframe tbody tr th {\n",
              "        vertical-align: top;\n",
              "    }\n",
              "\n",
              "    .dataframe thead th {\n",
              "        text-align: right;\n",
              "    }\n",
              "</style>\n",
              "<table border=\"1\" class=\"dataframe\">\n",
              "  <thead>\n",
              "    <tr style=\"text-align: right;\">\n",
              "      <th></th>\n",
              "      <th>CountryCode</th>\n",
              "      <th>SeriesCode</th>\n",
              "      <th>Year</th>\n",
              "      <th>DESCRIPTION</th>\n",
              "      <th>Unnamed: 4</th>\n",
              "    </tr>\n",
              "  </thead>\n",
              "  <tbody>\n",
              "    <tr>\n",
              "      <th>0</th>\n",
              "      <td>ABW</td>\n",
              "      <td>SE.PRE.ENRL.FE</td>\n",
              "      <td>YR2001</td>\n",
              "      <td>Country estimation.</td>\n",
              "      <td>NaN</td>\n",
              "    </tr>\n",
              "    <tr>\n",
              "      <th>1</th>\n",
              "      <td>ABW</td>\n",
              "      <td>SE.TER.TCHR.FE</td>\n",
              "      <td>YR2005</td>\n",
              "      <td>Country estimation.</td>\n",
              "      <td>NaN</td>\n",
              "    </tr>\n",
              "    <tr>\n",
              "      <th>2</th>\n",
              "      <td>ABW</td>\n",
              "      <td>SE.PRE.TCHR.FE</td>\n",
              "      <td>YR2000</td>\n",
              "      <td>Country estimation.</td>\n",
              "      <td>NaN</td>\n",
              "    </tr>\n",
              "    <tr>\n",
              "      <th>3</th>\n",
              "      <td>ABW</td>\n",
              "      <td>SE.SEC.ENRL.GC</td>\n",
              "      <td>YR2004</td>\n",
              "      <td>Country estimation.</td>\n",
              "      <td>NaN</td>\n",
              "    </tr>\n",
              "    <tr>\n",
              "      <th>4</th>\n",
              "      <td>ABW</td>\n",
              "      <td>SE.PRE.TCHR</td>\n",
              "      <td>YR2006</td>\n",
              "      <td>Country estimation.</td>\n",
              "      <td>NaN</td>\n",
              "    </tr>\n",
              "  </tbody>\n",
              "</table>\n",
              "</div>"
            ],
            "text/plain": [
              "  CountryCode      SeriesCode    Year          DESCRIPTION  Unnamed: 4\n",
              "0         ABW  SE.PRE.ENRL.FE  YR2001  Country estimation.         NaN\n",
              "1         ABW  SE.TER.TCHR.FE  YR2005  Country estimation.         NaN\n",
              "2         ABW  SE.PRE.TCHR.FE  YR2000  Country estimation.         NaN\n",
              "3         ABW  SE.SEC.ENRL.GC  YR2004  Country estimation.         NaN\n",
              "4         ABW     SE.PRE.TCHR  YR2006  Country estimation.         NaN"
            ]
          },
          "metadata": {
            "tags": []
          },
          "execution_count": 486
        }
      ]
    },
    {
      "cell_type": "code",
      "metadata": {
        "colab": {
          "base_uri": "https://localhost:8080/",
          "height": 198
        },
        "id": "MgY85AibUX1R",
        "outputId": "f14dca56-f8a8-46da-d63b-2f2cd5e323d2"
      },
      "source": [
        "df_StatsFootNote.tail()"
      ],
      "execution_count": null,
      "outputs": [
        {
          "output_type": "execute_result",
          "data": {
            "text/html": [
              "<div>\n",
              "<style scoped>\n",
              "    .dataframe tbody tr th:only-of-type {\n",
              "        vertical-align: middle;\n",
              "    }\n",
              "\n",
              "    .dataframe tbody tr th {\n",
              "        vertical-align: top;\n",
              "    }\n",
              "\n",
              "    .dataframe thead th {\n",
              "        text-align: right;\n",
              "    }\n",
              "</style>\n",
              "<table border=\"1\" class=\"dataframe\">\n",
              "  <thead>\n",
              "    <tr style=\"text-align: right;\">\n",
              "      <th></th>\n",
              "      <th>CountryCode</th>\n",
              "      <th>SeriesCode</th>\n",
              "      <th>Year</th>\n",
              "      <th>DESCRIPTION</th>\n",
              "      <th>Unnamed: 4</th>\n",
              "    </tr>\n",
              "  </thead>\n",
              "  <tbody>\n",
              "    <tr>\n",
              "      <th>643633</th>\n",
              "      <td>ZWE</td>\n",
              "      <td>SH.DYN.MORT</td>\n",
              "      <td>YR2007</td>\n",
              "      <td>Uncertainty bound is 91.6 - 109.3</td>\n",
              "      <td>NaN</td>\n",
              "    </tr>\n",
              "    <tr>\n",
              "      <th>643634</th>\n",
              "      <td>ZWE</td>\n",
              "      <td>SH.DYN.MORT</td>\n",
              "      <td>YR2014</td>\n",
              "      <td>Uncertainty bound is 54.3 - 76</td>\n",
              "      <td>NaN</td>\n",
              "    </tr>\n",
              "    <tr>\n",
              "      <th>643635</th>\n",
              "      <td>ZWE</td>\n",
              "      <td>SH.DYN.MORT</td>\n",
              "      <td>YR2015</td>\n",
              "      <td>Uncertainty bound is 48.3 - 73.3</td>\n",
              "      <td>NaN</td>\n",
              "    </tr>\n",
              "    <tr>\n",
              "      <th>643636</th>\n",
              "      <td>ZWE</td>\n",
              "      <td>SH.DYN.MORT</td>\n",
              "      <td>YR2017</td>\n",
              "      <td>5-year average value between 0s and 5s</td>\n",
              "      <td>NaN</td>\n",
              "    </tr>\n",
              "    <tr>\n",
              "      <th>643637</th>\n",
              "      <td>ZWE</td>\n",
              "      <td>SP.POP.GROW</td>\n",
              "      <td>YR2017</td>\n",
              "      <td>5-year average value between 0s and 5s</td>\n",
              "      <td>NaN</td>\n",
              "    </tr>\n",
              "  </tbody>\n",
              "</table>\n",
              "</div>"
            ],
            "text/plain": [
              "       CountryCode  ... Unnamed: 4\n",
              "643633         ZWE  ...        NaN\n",
              "643634         ZWE  ...        NaN\n",
              "643635         ZWE  ...        NaN\n",
              "643636         ZWE  ...        NaN\n",
              "643637         ZWE  ...        NaN\n",
              "\n",
              "[5 rows x 5 columns]"
            ]
          },
          "metadata": {
            "tags": []
          },
          "execution_count": 487
        }
      ]
    },
    {
      "cell_type": "code",
      "metadata": {
        "colab": {
          "base_uri": "https://localhost:8080/"
        },
        "id": "hKxTTauKUmu9",
        "outputId": "e850915f-d132-4762-877e-a6280062016a"
      },
      "source": [
        "df_StatsFootNote.info()"
      ],
      "execution_count": null,
      "outputs": [
        {
          "output_type": "stream",
          "text": [
            "<class 'pandas.core.frame.DataFrame'>\n",
            "RangeIndex: 643638 entries, 0 to 643637\n",
            "Data columns (total 5 columns):\n",
            " #   Column       Non-Null Count   Dtype  \n",
            "---  ------       --------------   -----  \n",
            " 0   CountryCode  643638 non-null  object \n",
            " 1   SeriesCode   643638 non-null  object \n",
            " 2   Year         643638 non-null  object \n",
            " 3   DESCRIPTION  643638 non-null  object \n",
            " 4   Unnamed: 4   0 non-null       float64\n",
            "dtypes: float64(1), object(4)\n",
            "memory usage: 24.6+ MB\n"
          ],
          "name": "stdout"
        }
      ]
    },
    {
      "cell_type": "code",
      "metadata": {
        "colab": {
          "base_uri": "https://localhost:8080/"
        },
        "id": "lHEos9VU39wp",
        "outputId": "850c03ce-b06a-4ac8-dfc3-a8819c1c5db6"
      },
      "source": [
        "df_StatsFootNote['DESCRIPTION'].nunique()"
      ],
      "execution_count": null,
      "outputs": [
        {
          "output_type": "execute_result",
          "data": {
            "text/plain": [
              "9102"
            ]
          },
          "metadata": {
            "tags": []
          },
          "execution_count": 489
        }
      ]
    },
    {
      "cell_type": "code",
      "metadata": {
        "colab": {
          "base_uri": "https://localhost:8080/",
          "height": 35
        },
        "id": "j2txxRVZ4K9a",
        "outputId": "33565feb-459d-41a5-f8c2-f9f5374a3f9d"
      },
      "source": [
        "df_StatsFootNote.loc[214,'DESCRIPTION']"
      ],
      "execution_count": null,
      "outputs": [
        {
          "output_type": "execute_result",
          "data": {
            "application/vnd.google.colaboratory.intrinsic+json": {
              "type": "string"
            },
            "text/plain": [
              "'Country data'"
            ]
          },
          "metadata": {
            "tags": []
          },
          "execution_count": 490
        }
      ]
    },
    {
      "cell_type": "code",
      "metadata": {
        "colab": {
          "base_uri": "https://localhost:8080/"
        },
        "id": "CZGLDbOY4led",
        "outputId": "4d1aea22-9da1-4e63-fe0e-4dad2925a8da"
      },
      "source": [
        "df_StatsFootNote['CountryCode'].nunique()"
      ],
      "execution_count": null,
      "outputs": [
        {
          "output_type": "execute_result",
          "data": {
            "text/plain": [
              "239"
            ]
          },
          "metadata": {
            "tags": []
          },
          "execution_count": 491
        }
      ]
    },
    {
      "cell_type": "code",
      "metadata": {
        "colab": {
          "base_uri": "https://localhost:8080/"
        },
        "id": "lyp6oKsD40n7",
        "outputId": "bc418b3d-d202-4c66-ebf0-3ded5f32601e"
      },
      "source": [
        "df_StatsFootNote['SeriesCode'].nunique()"
      ],
      "execution_count": null,
      "outputs": [
        {
          "output_type": "execute_result",
          "data": {
            "text/plain": [
              "1558"
            ]
          },
          "metadata": {
            "tags": []
          },
          "execution_count": 492
        }
      ]
    },
    {
      "cell_type": "code",
      "metadata": {
        "colab": {
          "base_uri": "https://localhost:8080/"
        },
        "id": "sPm9akP95ExI",
        "outputId": "3f4dbc93-3e05-475f-8ca8-e58428f1c783"
      },
      "source": [
        "df_StatsFootNote['Year'].nunique()"
      ],
      "execution_count": null,
      "outputs": [
        {
          "output_type": "execute_result",
          "data": {
            "text/plain": [
              "56"
            ]
          },
          "metadata": {
            "tags": []
          },
          "execution_count": 493
        }
      ]
    },
    {
      "cell_type": "code",
      "metadata": {
        "id": "ogWuzoE85Vm0"
      },
      "source": [
        "df_StatsFootNote=df_StatsFootNote[['CountryCode','SeriesCode','Year']]"
      ],
      "execution_count": null,
      "outputs": []
    },
    {
      "cell_type": "code",
      "metadata": {
        "colab": {
          "base_uri": "https://localhost:8080/"
        },
        "id": "pMRDyRX5UpVZ",
        "outputId": "0dd1bb73-dcdc-4296-afc4-b70d6f107c54"
      },
      "source": [
        "df_StatsFootNote.describe"
      ],
      "execution_count": null,
      "outputs": [
        {
          "output_type": "execute_result",
          "data": {
            "text/plain": [
              "<bound method NDFrame.describe of        CountryCode      SeriesCode    Year\n",
              "0              ABW  SE.PRE.ENRL.FE  YR2001\n",
              "1              ABW  SE.TER.TCHR.FE  YR2005\n",
              "2              ABW  SE.PRE.TCHR.FE  YR2000\n",
              "3              ABW  SE.SEC.ENRL.GC  YR2004\n",
              "4              ABW     SE.PRE.TCHR  YR2006\n",
              "...            ...             ...     ...\n",
              "643633         ZWE     SH.DYN.MORT  YR2007\n",
              "643634         ZWE     SH.DYN.MORT  YR2014\n",
              "643635         ZWE     SH.DYN.MORT  YR2015\n",
              "643636         ZWE     SH.DYN.MORT  YR2017\n",
              "643637         ZWE     SP.POP.GROW  YR2017\n",
              "\n",
              "[643638 rows x 3 columns]>"
            ]
          },
          "metadata": {
            "tags": []
          },
          "execution_count": 495
        }
      ]
    },
    {
      "cell_type": "code",
      "metadata": {
        "colab": {
          "base_uri": "https://localhost:8080/"
        },
        "id": "-X0JFdRCUwg5",
        "outputId": "3aec0fc9-0fb4-4dac-f986-d26d018b4e65"
      },
      "source": [
        "df_StatsFootNote.columns"
      ],
      "execution_count": null,
      "outputs": [
        {
          "output_type": "execute_result",
          "data": {
            "text/plain": [
              "Index(['CountryCode', 'SeriesCode', 'Year'], dtype='object')"
            ]
          },
          "metadata": {
            "tags": []
          },
          "execution_count": 496
        }
      ]
    },
    {
      "cell_type": "code",
      "metadata": {
        "id": "qolxKXNFU1rD"
      },
      "source": [
        "df_StatsSeries=pd.read_csv(path+'EdStatsSeries.csv')"
      ],
      "execution_count": null,
      "outputs": []
    },
    {
      "cell_type": "code",
      "metadata": {
        "colab": {
          "base_uri": "https://localhost:8080/",
          "height": 650
        },
        "id": "I05cGEHdVFSY",
        "outputId": "7569a211-cb8e-4cb6-fd82-824b91c40489"
      },
      "source": [
        "df_StatsSeries.head()"
      ],
      "execution_count": null,
      "outputs": [
        {
          "output_type": "execute_result",
          "data": {
            "text/html": [
              "<div>\n",
              "<style scoped>\n",
              "    .dataframe tbody tr th:only-of-type {\n",
              "        vertical-align: middle;\n",
              "    }\n",
              "\n",
              "    .dataframe tbody tr th {\n",
              "        vertical-align: top;\n",
              "    }\n",
              "\n",
              "    .dataframe thead th {\n",
              "        text-align: right;\n",
              "    }\n",
              "</style>\n",
              "<table border=\"1\" class=\"dataframe\">\n",
              "  <thead>\n",
              "    <tr style=\"text-align: right;\">\n",
              "      <th></th>\n",
              "      <th>Series Code</th>\n",
              "      <th>Topic</th>\n",
              "      <th>Indicator Name</th>\n",
              "      <th>Short definition</th>\n",
              "      <th>Long definition</th>\n",
              "      <th>Unit of measure</th>\n",
              "      <th>Periodicity</th>\n",
              "      <th>Base Period</th>\n",
              "      <th>Other notes</th>\n",
              "      <th>Aggregation method</th>\n",
              "      <th>Limitations and exceptions</th>\n",
              "      <th>Notes from original source</th>\n",
              "      <th>General comments</th>\n",
              "      <th>Source</th>\n",
              "      <th>Statistical concept and methodology</th>\n",
              "      <th>Development relevance</th>\n",
              "      <th>Related source links</th>\n",
              "      <th>Other web links</th>\n",
              "      <th>Related indicators</th>\n",
              "      <th>License Type</th>\n",
              "      <th>Unnamed: 20</th>\n",
              "    </tr>\n",
              "  </thead>\n",
              "  <tbody>\n",
              "    <tr>\n",
              "      <th>0</th>\n",
              "      <td>BAR.NOED.1519.FE.ZS</td>\n",
              "      <td>Attainment</td>\n",
              "      <td>Barro-Lee: Percentage of female population age...</td>\n",
              "      <td>Percentage of female population age 15-19 with...</td>\n",
              "      <td>Percentage of female population age 15-19 with...</td>\n",
              "      <td>NaN</td>\n",
              "      <td>NaN</td>\n",
              "      <td>NaN</td>\n",
              "      <td>NaN</td>\n",
              "      <td>NaN</td>\n",
              "      <td>NaN</td>\n",
              "      <td>NaN</td>\n",
              "      <td>NaN</td>\n",
              "      <td>Robert J. Barro and Jong-Wha Lee: http://www.b...</td>\n",
              "      <td>NaN</td>\n",
              "      <td>NaN</td>\n",
              "      <td>NaN</td>\n",
              "      <td>NaN</td>\n",
              "      <td>NaN</td>\n",
              "      <td>NaN</td>\n",
              "      <td>NaN</td>\n",
              "    </tr>\n",
              "    <tr>\n",
              "      <th>1</th>\n",
              "      <td>BAR.NOED.1519.ZS</td>\n",
              "      <td>Attainment</td>\n",
              "      <td>Barro-Lee: Percentage of population age 15-19 ...</td>\n",
              "      <td>Percentage of population age 15-19 with no edu...</td>\n",
              "      <td>Percentage of population age 15-19 with no edu...</td>\n",
              "      <td>NaN</td>\n",
              "      <td>NaN</td>\n",
              "      <td>NaN</td>\n",
              "      <td>NaN</td>\n",
              "      <td>NaN</td>\n",
              "      <td>NaN</td>\n",
              "      <td>NaN</td>\n",
              "      <td>NaN</td>\n",
              "      <td>Robert J. Barro and Jong-Wha Lee: http://www.b...</td>\n",
              "      <td>NaN</td>\n",
              "      <td>NaN</td>\n",
              "      <td>NaN</td>\n",
              "      <td>NaN</td>\n",
              "      <td>NaN</td>\n",
              "      <td>NaN</td>\n",
              "      <td>NaN</td>\n",
              "    </tr>\n",
              "    <tr>\n",
              "      <th>2</th>\n",
              "      <td>BAR.NOED.15UP.FE.ZS</td>\n",
              "      <td>Attainment</td>\n",
              "      <td>Barro-Lee: Percentage of female population age...</td>\n",
              "      <td>Percentage of female population age 15+ with n...</td>\n",
              "      <td>Percentage of female population age 15+ with n...</td>\n",
              "      <td>NaN</td>\n",
              "      <td>NaN</td>\n",
              "      <td>NaN</td>\n",
              "      <td>NaN</td>\n",
              "      <td>NaN</td>\n",
              "      <td>NaN</td>\n",
              "      <td>NaN</td>\n",
              "      <td>NaN</td>\n",
              "      <td>Robert J. Barro and Jong-Wha Lee: http://www.b...</td>\n",
              "      <td>NaN</td>\n",
              "      <td>NaN</td>\n",
              "      <td>NaN</td>\n",
              "      <td>NaN</td>\n",
              "      <td>NaN</td>\n",
              "      <td>NaN</td>\n",
              "      <td>NaN</td>\n",
              "    </tr>\n",
              "    <tr>\n",
              "      <th>3</th>\n",
              "      <td>BAR.NOED.15UP.ZS</td>\n",
              "      <td>Attainment</td>\n",
              "      <td>Barro-Lee: Percentage of population age 15+ wi...</td>\n",
              "      <td>Percentage of population age 15+ with no educa...</td>\n",
              "      <td>Percentage of population age 15+ with no educa...</td>\n",
              "      <td>NaN</td>\n",
              "      <td>NaN</td>\n",
              "      <td>NaN</td>\n",
              "      <td>NaN</td>\n",
              "      <td>NaN</td>\n",
              "      <td>NaN</td>\n",
              "      <td>NaN</td>\n",
              "      <td>NaN</td>\n",
              "      <td>Robert J. Barro and Jong-Wha Lee: http://www.b...</td>\n",
              "      <td>NaN</td>\n",
              "      <td>NaN</td>\n",
              "      <td>NaN</td>\n",
              "      <td>NaN</td>\n",
              "      <td>NaN</td>\n",
              "      <td>NaN</td>\n",
              "      <td>NaN</td>\n",
              "    </tr>\n",
              "    <tr>\n",
              "      <th>4</th>\n",
              "      <td>BAR.NOED.2024.FE.ZS</td>\n",
              "      <td>Attainment</td>\n",
              "      <td>Barro-Lee: Percentage of female population age...</td>\n",
              "      <td>Percentage of female population age 20-24 with...</td>\n",
              "      <td>Percentage of female population age 20-24 with...</td>\n",
              "      <td>NaN</td>\n",
              "      <td>NaN</td>\n",
              "      <td>NaN</td>\n",
              "      <td>NaN</td>\n",
              "      <td>NaN</td>\n",
              "      <td>NaN</td>\n",
              "      <td>NaN</td>\n",
              "      <td>NaN</td>\n",
              "      <td>Robert J. Barro and Jong-Wha Lee: http://www.b...</td>\n",
              "      <td>NaN</td>\n",
              "      <td>NaN</td>\n",
              "      <td>NaN</td>\n",
              "      <td>NaN</td>\n",
              "      <td>NaN</td>\n",
              "      <td>NaN</td>\n",
              "      <td>NaN</td>\n",
              "    </tr>\n",
              "  </tbody>\n",
              "</table>\n",
              "</div>"
            ],
            "text/plain": [
              "           Series Code       Topic  ... License Type Unnamed: 20\n",
              "0  BAR.NOED.1519.FE.ZS  Attainment  ...          NaN         NaN\n",
              "1     BAR.NOED.1519.ZS  Attainment  ...          NaN         NaN\n",
              "2  BAR.NOED.15UP.FE.ZS  Attainment  ...          NaN         NaN\n",
              "3     BAR.NOED.15UP.ZS  Attainment  ...          NaN         NaN\n",
              "4  BAR.NOED.2024.FE.ZS  Attainment  ...          NaN         NaN\n",
              "\n",
              "[5 rows x 21 columns]"
            ]
          },
          "metadata": {
            "tags": []
          },
          "execution_count": 498
        }
      ]
    },
    {
      "cell_type": "code",
      "metadata": {
        "colab": {
          "base_uri": "https://localhost:8080/",
          "height": 615
        },
        "id": "KHPsdzWaVNNn",
        "outputId": "e5e69938-5a78-4f23-9fb1-51d6f026339e"
      },
      "source": [
        "df_StatsSeries.tail()"
      ],
      "execution_count": null,
      "outputs": [
        {
          "output_type": "execute_result",
          "data": {
            "text/html": [
              "<div>\n",
              "<style scoped>\n",
              "    .dataframe tbody tr th:only-of-type {\n",
              "        vertical-align: middle;\n",
              "    }\n",
              "\n",
              "    .dataframe tbody tr th {\n",
              "        vertical-align: top;\n",
              "    }\n",
              "\n",
              "    .dataframe thead th {\n",
              "        text-align: right;\n",
              "    }\n",
              "</style>\n",
              "<table border=\"1\" class=\"dataframe\">\n",
              "  <thead>\n",
              "    <tr style=\"text-align: right;\">\n",
              "      <th></th>\n",
              "      <th>Series Code</th>\n",
              "      <th>Topic</th>\n",
              "      <th>Indicator Name</th>\n",
              "      <th>Short definition</th>\n",
              "      <th>Long definition</th>\n",
              "      <th>Unit of measure</th>\n",
              "      <th>Periodicity</th>\n",
              "      <th>Base Period</th>\n",
              "      <th>Other notes</th>\n",
              "      <th>Aggregation method</th>\n",
              "      <th>Limitations and exceptions</th>\n",
              "      <th>Notes from original source</th>\n",
              "      <th>General comments</th>\n",
              "      <th>Source</th>\n",
              "      <th>Statistical concept and methodology</th>\n",
              "      <th>Development relevance</th>\n",
              "      <th>Related source links</th>\n",
              "      <th>Other web links</th>\n",
              "      <th>Related indicators</th>\n",
              "      <th>License Type</th>\n",
              "      <th>Unnamed: 20</th>\n",
              "    </tr>\n",
              "  </thead>\n",
              "  <tbody>\n",
              "    <tr>\n",
              "      <th>3660</th>\n",
              "      <td>UIS.XUNIT.USCONST.3.FSGOV</td>\n",
              "      <td>Expenditures</td>\n",
              "      <td>Government expenditure per upper secondary stu...</td>\n",
              "      <td>NaN</td>\n",
              "      <td>Average total (current, capital and transfers)...</td>\n",
              "      <td>NaN</td>\n",
              "      <td>NaN</td>\n",
              "      <td>NaN</td>\n",
              "      <td>NaN</td>\n",
              "      <td>NaN</td>\n",
              "      <td>NaN</td>\n",
              "      <td>NaN</td>\n",
              "      <td>NaN</td>\n",
              "      <td>UNESCO Institute for Statistics</td>\n",
              "      <td>NaN</td>\n",
              "      <td>NaN</td>\n",
              "      <td>NaN</td>\n",
              "      <td>NaN</td>\n",
              "      <td>NaN</td>\n",
              "      <td>NaN</td>\n",
              "      <td>NaN</td>\n",
              "    </tr>\n",
              "    <tr>\n",
              "      <th>3661</th>\n",
              "      <td>UIS.XUNIT.USCONST.4.FSGOV</td>\n",
              "      <td>Expenditures</td>\n",
              "      <td>Government expenditure per post-secondary non-...</td>\n",
              "      <td>NaN</td>\n",
              "      <td>Average total (current, capital and transfers)...</td>\n",
              "      <td>NaN</td>\n",
              "      <td>NaN</td>\n",
              "      <td>NaN</td>\n",
              "      <td>NaN</td>\n",
              "      <td>NaN</td>\n",
              "      <td>NaN</td>\n",
              "      <td>NaN</td>\n",
              "      <td>NaN</td>\n",
              "      <td>UNESCO Institute for Statistics</td>\n",
              "      <td>NaN</td>\n",
              "      <td>NaN</td>\n",
              "      <td>NaN</td>\n",
              "      <td>NaN</td>\n",
              "      <td>NaN</td>\n",
              "      <td>NaN</td>\n",
              "      <td>NaN</td>\n",
              "    </tr>\n",
              "    <tr>\n",
              "      <th>3662</th>\n",
              "      <td>UIS.XUNIT.USCONST.56.FSGOV</td>\n",
              "      <td>Expenditures</td>\n",
              "      <td>Government expenditure per tertiary student (c...</td>\n",
              "      <td>NaN</td>\n",
              "      <td>Average total (current, capital and transfers)...</td>\n",
              "      <td>NaN</td>\n",
              "      <td>NaN</td>\n",
              "      <td>NaN</td>\n",
              "      <td>NaN</td>\n",
              "      <td>NaN</td>\n",
              "      <td>NaN</td>\n",
              "      <td>NaN</td>\n",
              "      <td>NaN</td>\n",
              "      <td>UNESCO Institute for Statistics</td>\n",
              "      <td>NaN</td>\n",
              "      <td>NaN</td>\n",
              "      <td>NaN</td>\n",
              "      <td>NaN</td>\n",
              "      <td>NaN</td>\n",
              "      <td>NaN</td>\n",
              "      <td>NaN</td>\n",
              "    </tr>\n",
              "    <tr>\n",
              "      <th>3663</th>\n",
              "      <td>XGDP.23.FSGOV.FDINSTADM.FFD</td>\n",
              "      <td>Expenditures</td>\n",
              "      <td>Government expenditure in secondary institutio...</td>\n",
              "      <td>Total general (local, regional and central) go...</td>\n",
              "      <td>Total general (local, regional and central) go...</td>\n",
              "      <td>NaN</td>\n",
              "      <td>NaN</td>\n",
              "      <td>NaN</td>\n",
              "      <td>Secondary</td>\n",
              "      <td>NaN</td>\n",
              "      <td>NaN</td>\n",
              "      <td>NaN</td>\n",
              "      <td>NaN</td>\n",
              "      <td>UNESCO Institute for Statistics</td>\n",
              "      <td>NaN</td>\n",
              "      <td>NaN</td>\n",
              "      <td>NaN</td>\n",
              "      <td>NaN</td>\n",
              "      <td>NaN</td>\n",
              "      <td>NaN</td>\n",
              "      <td>NaN</td>\n",
              "    </tr>\n",
              "    <tr>\n",
              "      <th>3664</th>\n",
              "      <td>XGDP.56.FSGOV.FDINSTADM.FFD</td>\n",
              "      <td>Expenditures</td>\n",
              "      <td>Government expenditure in tertiary institution...</td>\n",
              "      <td>Total general (local, regional and central) go...</td>\n",
              "      <td>Total general (local, regional and central) go...</td>\n",
              "      <td>NaN</td>\n",
              "      <td>NaN</td>\n",
              "      <td>NaN</td>\n",
              "      <td>Tertiary</td>\n",
              "      <td>NaN</td>\n",
              "      <td>NaN</td>\n",
              "      <td>NaN</td>\n",
              "      <td>NaN</td>\n",
              "      <td>UNESCO Institute for Statistics</td>\n",
              "      <td>NaN</td>\n",
              "      <td>NaN</td>\n",
              "      <td>NaN</td>\n",
              "      <td>NaN</td>\n",
              "      <td>NaN</td>\n",
              "      <td>NaN</td>\n",
              "      <td>NaN</td>\n",
              "    </tr>\n",
              "  </tbody>\n",
              "</table>\n",
              "</div>"
            ],
            "text/plain": [
              "                      Series Code         Topic  ... License Type Unnamed: 20\n",
              "3660    UIS.XUNIT.USCONST.3.FSGOV  Expenditures  ...          NaN         NaN\n",
              "3661    UIS.XUNIT.USCONST.4.FSGOV  Expenditures  ...          NaN         NaN\n",
              "3662   UIS.XUNIT.USCONST.56.FSGOV  Expenditures  ...          NaN         NaN\n",
              "3663  XGDP.23.FSGOV.FDINSTADM.FFD  Expenditures  ...          NaN         NaN\n",
              "3664  XGDP.56.FSGOV.FDINSTADM.FFD  Expenditures  ...          NaN         NaN\n",
              "\n",
              "[5 rows x 21 columns]"
            ]
          },
          "metadata": {
            "tags": []
          },
          "execution_count": 499
        }
      ]
    },
    {
      "cell_type": "code",
      "metadata": {
        "colab": {
          "base_uri": "https://localhost:8080/"
        },
        "id": "ISfCKafxVQyD",
        "outputId": "81689728-5714-4844-f4c5-b203c0a4d29d"
      },
      "source": [
        "df_StatsSeries.info()"
      ],
      "execution_count": null,
      "outputs": [
        {
          "output_type": "stream",
          "text": [
            "<class 'pandas.core.frame.DataFrame'>\n",
            "RangeIndex: 3665 entries, 0 to 3664\n",
            "Data columns (total 21 columns):\n",
            " #   Column                               Non-Null Count  Dtype  \n",
            "---  ------                               --------------  -----  \n",
            " 0   Series Code                          3665 non-null   object \n",
            " 1   Topic                                3665 non-null   object \n",
            " 2   Indicator Name                       3665 non-null   object \n",
            " 3   Short definition                     2156 non-null   object \n",
            " 4   Long definition                      3665 non-null   object \n",
            " 5   Unit of measure                      0 non-null      float64\n",
            " 6   Periodicity                          99 non-null     object \n",
            " 7   Base Period                          314 non-null    object \n",
            " 8   Other notes                          552 non-null    object \n",
            " 9   Aggregation method                   47 non-null     object \n",
            " 10  Limitations and exceptions           14 non-null     object \n",
            " 11  Notes from original source           0 non-null      float64\n",
            " 12  General comments                     14 non-null     object \n",
            " 13  Source                               3665 non-null   object \n",
            " 14  Statistical concept and methodology  23 non-null     object \n",
            " 15  Development relevance                3 non-null      object \n",
            " 16  Related source links                 215 non-null    object \n",
            " 17  Other web links                      0 non-null      float64\n",
            " 18  Related indicators                   0 non-null      float64\n",
            " 19  License Type                         0 non-null      float64\n",
            " 20  Unnamed: 20                          0 non-null      float64\n",
            "dtypes: float64(6), object(15)\n",
            "memory usage: 601.4+ KB\n"
          ],
          "name": "stdout"
        }
      ]
    },
    {
      "cell_type": "code",
      "metadata": {
        "colab": {
          "base_uri": "https://localhost:8080/"
        },
        "id": "KWIJu66tVTXZ",
        "outputId": "bff35b26-b369-4d7c-c931-8e62f6639150"
      },
      "source": [
        "df_StatsSeries.describe"
      ],
      "execution_count": null,
      "outputs": [
        {
          "output_type": "execute_result",
          "data": {
            "text/plain": [
              "<bound method NDFrame.describe of                       Series Code         Topic  ... License Type Unnamed: 20\n",
              "0             BAR.NOED.1519.FE.ZS    Attainment  ...          NaN         NaN\n",
              "1                BAR.NOED.1519.ZS    Attainment  ...          NaN         NaN\n",
              "2             BAR.NOED.15UP.FE.ZS    Attainment  ...          NaN         NaN\n",
              "3                BAR.NOED.15UP.ZS    Attainment  ...          NaN         NaN\n",
              "4             BAR.NOED.2024.FE.ZS    Attainment  ...          NaN         NaN\n",
              "...                           ...           ...  ...          ...         ...\n",
              "3660    UIS.XUNIT.USCONST.3.FSGOV  Expenditures  ...          NaN         NaN\n",
              "3661    UIS.XUNIT.USCONST.4.FSGOV  Expenditures  ...          NaN         NaN\n",
              "3662   UIS.XUNIT.USCONST.56.FSGOV  Expenditures  ...          NaN         NaN\n",
              "3663  XGDP.23.FSGOV.FDINSTADM.FFD  Expenditures  ...          NaN         NaN\n",
              "3664  XGDP.56.FSGOV.FDINSTADM.FFD  Expenditures  ...          NaN         NaN\n",
              "\n",
              "[3665 rows x 21 columns]>"
            ]
          },
          "metadata": {
            "tags": []
          },
          "execution_count": 501
        }
      ]
    },
    {
      "cell_type": "code",
      "metadata": {
        "colab": {
          "base_uri": "https://localhost:8080/"
        },
        "id": "8uI86gzFVWWm",
        "outputId": "2435930b-415b-4283-d849-f4e3042cbac1"
      },
      "source": [
        "df_StatsSeries.columns"
      ],
      "execution_count": null,
      "outputs": [
        {
          "output_type": "execute_result",
          "data": {
            "text/plain": [
              "Index(['Series Code', 'Topic', 'Indicator Name', 'Short definition',\n",
              "       'Long definition', 'Unit of measure', 'Periodicity', 'Base Period',\n",
              "       'Other notes', 'Aggregation method', 'Limitations and exceptions',\n",
              "       'Notes from original source', 'General comments', 'Source',\n",
              "       'Statistical concept and methodology', 'Development relevance',\n",
              "       'Related source links', 'Other web links', 'Related indicators',\n",
              "       'License Type', 'Unnamed: 20'],\n",
              "      dtype='object')"
            ]
          },
          "metadata": {
            "tags": []
          },
          "execution_count": 502
        }
      ]
    },
    {
      "cell_type": "code",
      "metadata": {
        "id": "BYflHozaWCpA",
        "colab": {
          "base_uri": "https://localhost:8080/"
        },
        "outputId": "664b5248-ddea-4731-bf06-47854d2c3c08"
      },
      "source": [
        "df_StatsSeries['Topic'].nunique()"
      ],
      "execution_count": null,
      "outputs": [
        {
          "output_type": "execute_result",
          "data": {
            "text/plain": [
              "37"
            ]
          },
          "metadata": {
            "tags": []
          },
          "execution_count": 503
        }
      ]
    },
    {
      "cell_type": "code",
      "metadata": {
        "colab": {
          "base_uri": "https://localhost:8080/"
        },
        "id": "hQ6l3hpP8cqJ",
        "outputId": "aa7692e7-4d4b-44e4-aa8f-540217a09d91"
      },
      "source": [
        "df_StatsSeries['Topic'].unique()"
      ],
      "execution_count": null,
      "outputs": [
        {
          "output_type": "execute_result",
          "data": {
            "text/plain": [
              "array(['Attainment', 'Education Equality',\n",
              "       'Infrastructure: Communications', 'Learning Outcomes',\n",
              "       'Economic Policy & Debt: National accounts: US$ at current prices: Aggregate indicators',\n",
              "       'Economic Policy & Debt: National accounts: US$ at constant 2010 prices: Aggregate indicators',\n",
              "       'Economic Policy & Debt: Purchasing power parity',\n",
              "       'Economic Policy & Debt: National accounts: Atlas GNI & GNI per capita',\n",
              "       'Teachers', 'Education Management Information Systems (SABER)',\n",
              "       'Early Child Development (SABER)',\n",
              "       'Engaging the Private Sector (SABER)',\n",
              "       'School Health and School Feeding (SABER)',\n",
              "       'School Autonomy and Accountability (SABER)',\n",
              "       'School Finance (SABER)', 'Student Assessment (SABER)',\n",
              "       'Teachers (SABER)', 'Tertiary Education (SABER)',\n",
              "       'Workforce Development (SABER)', 'Literacy', 'Background',\n",
              "       'Primary', 'Secondary', 'Tertiary', 'Early Childhood Education',\n",
              "       'Pre-Primary', 'Expenditures', 'Health: Risk factors',\n",
              "       'Health: Mortality',\n",
              "       'Social Protection & Labor: Labor force structure', 'Laber',\n",
              "       'Social Protection & Labor: Unemployment',\n",
              "       'Health: Population: Structure', 'Population',\n",
              "       'Health: Population: Dynamics', 'EMIS',\n",
              "       'Post-Secondary/Non-Tertiary'], dtype=object)"
            ]
          },
          "metadata": {
            "tags": []
          },
          "execution_count": 504
        }
      ]
    },
    {
      "cell_type": "code",
      "metadata": {
        "colab": {
          "base_uri": "https://localhost:8080/"
        },
        "id": "XXA-rdi88gZF",
        "outputId": "293f86ed-0dd5-485e-ddbd-243044339328"
      },
      "source": [
        "df_StatsSeries['Series Code'].nunique()"
      ],
      "execution_count": null,
      "outputs": [
        {
          "output_type": "execute_result",
          "data": {
            "text/plain": [
              "3665"
            ]
          },
          "metadata": {
            "tags": []
          },
          "execution_count": 505
        }
      ]
    },
    {
      "cell_type": "code",
      "metadata": {
        "colab": {
          "base_uri": "https://localhost:8080/"
        },
        "id": "7VHb_QUJ8zAL",
        "outputId": "808f1bdb-f347-4c9d-9032-13e89996ffda"
      },
      "source": [
        "df_StatsSeries['Indicator Name'].nunique()"
      ],
      "execution_count": null,
      "outputs": [
        {
          "output_type": "execute_result",
          "data": {
            "text/plain": [
              "3665"
            ]
          },
          "metadata": {
            "tags": []
          },
          "execution_count": 506
        }
      ]
    },
    {
      "cell_type": "code",
      "metadata": {
        "colab": {
          "base_uri": "https://localhost:8080/"
        },
        "id": "d6Vba-hA9Ork",
        "outputId": "467f28f6-3174-45a8-ff6f-679442b7596d"
      },
      "source": [
        "df_StatsSeries['Indicator Name'].unique()"
      ],
      "execution_count": null,
      "outputs": [
        {
          "output_type": "execute_result",
          "data": {
            "text/plain": [
              "array(['Barro-Lee: Percentage of female population age 15-19 with no education',\n",
              "       'Barro-Lee: Percentage of population age 15-19 with no education',\n",
              "       'Barro-Lee: Percentage of female population age 15+ with no education',\n",
              "       ..., 'Government expenditure per tertiary student (constant US$)',\n",
              "       'Government expenditure in secondary institutions education as % of GDP (%)',\n",
              "       'Government expenditure in tertiary institutions as % of GDP (%)'],\n",
              "      dtype=object)"
            ]
          },
          "metadata": {
            "tags": []
          },
          "execution_count": 507
        }
      ]
    },
    {
      "cell_type": "code",
      "metadata": {
        "colab": {
          "base_uri": "https://localhost:8080/"
        },
        "id": "aMMzOWq09R0D",
        "outputId": "6f977308-5787-4223-97c1-415f5475c238"
      },
      "source": [
        "df_StatsSeries['Short definition'].nunique()"
      ],
      "execution_count": null,
      "outputs": [
        {
          "output_type": "execute_result",
          "data": {
            "text/plain": [
              "1169"
            ]
          },
          "metadata": {
            "tags": []
          },
          "execution_count": 508
        }
      ]
    },
    {
      "cell_type": "code",
      "metadata": {
        "colab": {
          "base_uri": "https://localhost:8080/"
        },
        "id": "yMWplZG39agX",
        "outputId": "d43820b9-6ddd-40b6-82bf-2cdee094fcac"
      },
      "source": [
        "df_StatsSeries['Short definition'].unique()"
      ],
      "execution_count": null,
      "outputs": [
        {
          "output_type": "execute_result",
          "data": {
            "text/plain": [
              "array(['Percentage of female population age 15-19 with no education',\n",
              "       'Percentage of population age 15-19 with no education',\n",
              "       'Percentage of female population age 15+ with no education', ...,\n",
              "       'Average total (current, capital and transfers) general government expenditure per student in the given level of education, expressed in nominal purchasing power parity (PPP) dollars. Divide total government expenditure (in PPP$) for a given level of education (ex. primary, secondary) by total enrolment in that same level. For more information, consult the UNESCO Institute of Statistics website: http://www.uis.unesco.org/Education/',\n",
              "       'Average total (current, capital and transfers) general government expenditure per student in the given level of education, expressed in purchasing power parity (PPP) dollars at constant prices. The constant prices base year is normally three years before the year of the data release. Divide total government expenditure (in constant PPP$) for a given level of education (ex. primary, secondary) by total enrolment in that same level. For more information, consult the UNESCO Institute of Statistics website: http://www.uis.unesco.org/Education/',\n",
              "       'Total general (local, regional and central) government expenditure in educational institutions (current and capital) at a given level of education, expressed as a percentage of GDP. It excludes transfers to private entities such as subsidies to households and students, but includes expenditure funded by transfers from international sources to government. Divide total expenditure in public institutions of a given level of education (ex. primary, secondary, or all levels combined) by the GDP, and multiply by 100. For more information, consult the UNESCO Institute of Statistics website: http://www.uis.unesco.org/Education/'],\n",
              "      dtype=object)"
            ]
          },
          "metadata": {
            "tags": []
          },
          "execution_count": 509
        }
      ]
    },
    {
      "cell_type": "code",
      "metadata": {
        "colab": {
          "base_uri": "https://localhost:8080/"
        },
        "id": "VRLdJHik9egE",
        "outputId": "c4ed6170-a1dd-46bf-c2a7-1ee034fca2e5"
      },
      "source": [
        "df_StatsSeries['Long definition'].nunique()"
      ],
      "execution_count": null,
      "outputs": [
        {
          "output_type": "execute_result",
          "data": {
            "text/plain": [
              "2060"
            ]
          },
          "metadata": {
            "tags": []
          },
          "execution_count": 510
        }
      ]
    },
    {
      "cell_type": "code",
      "metadata": {
        "colab": {
          "base_uri": "https://localhost:8080/"
        },
        "id": "eMqZ-dY99nE3",
        "outputId": "23ff56d6-8364-4ebd-db68-19ca04f46f3f"
      },
      "source": [
        "df_StatsSeries['Long definition'].unique()"
      ],
      "execution_count": null,
      "outputs": [
        {
          "output_type": "execute_result",
          "data": {
            "text/plain": [
              "array(['Percentage of female population age 15-19 with no education',\n",
              "       'Percentage of population age 15-19 with no education',\n",
              "       'Percentage of female population age 15+ with no education', ...,\n",
              "       'Average total (current, capital and transfers) general government expenditure per student in the given level of education, expressed in nominal US$ at market exchange rates. Divide total government expenditure (in US$) for a given level of education (ex. primary, secondary) by total enrolment in that same level. This indicator is useful to compare average spending on one student between levels of education, over time, or between countries. Constant US$ allow comparing absolute values using a common currency, however nominal values do not take into account the effect of inflation. This indicator should not be considered a unit cost, since it only includes what the government spends, and not total spending per student (including household contributions). Since it is a simple division of total government expenditure by the number of students at a given level, whether they attend public or private institutions, in countries where private provision and/or funding of education is higher the average amount per student will appear lower. For more information, consult the UNESCO Institute of Statistics website: http://www.uis.unesco.org/Education/',\n",
              "       'Average total (current, capital and transfers) general government expenditure per student in the given level of education, expressed in US$ at market exchange rates, in constant prices. The constant prices base year is normally three years before the year of the data release. Divide total government expenditure (in constant US$) for a given level of education (ex. primary, secondary) by total enrolment in that same level. This indicator is useful to compare average spending on one student between levels of education, over time, or between countries. Constant US$ allow comparing absolute values using a common currency, and taking into account the effect of inflation. This indicator should not be considered a unit cost, since it only includes what the government spends, and not total spending per student (including household contributions). Since it is a simple division of total government expenditure by the number of students at a given level, whether they attend public or private institutions, in countries where private provision and/or funding of education is higher the average amount per student will appear lower. For more information, consult the UNESCO Institute of Statistics website: http://www.uis.unesco.org/Education/',\n",
              "       'Total general (local, regional and central) government expenditure in educational institutions (current and capital) at a given level of education, expressed as a percentage of GDP. It excludes transfers to private entities such as subsidies to households and students, but includes expenditure funded by transfers from international sources to government. Divide total expenditure in public institutions of a given level of education (ex. primary, secondary, or all levels combined) by the GDP, and multiply by 100. For more information, consult the UNESCO Institute of Statistics website: http://www.uis.unesco.org/Education/'],\n",
              "      dtype=object)"
            ]
          },
          "metadata": {
            "tags": []
          },
          "execution_count": 511
        }
      ]
    },
    {
      "cell_type": "code",
      "metadata": {
        "id": "5q9VkQGZ93Lc"
      },
      "source": [
        "df_StatsSeries=df_StatsSeries[['Series Code', 'Topic', 'Indicator Name','Long definition']]"
      ],
      "execution_count": null,
      "outputs": []
    },
    {
      "cell_type": "code",
      "metadata": {
        "colab": {
          "base_uri": "https://localhost:8080/",
          "height": 580
        },
        "id": "ipLyaHIW-INl",
        "outputId": "4f23c905-6ff2-4427-8dee-1b3e7a1ce441"
      },
      "source": [
        "df_StatsSeries"
      ],
      "execution_count": null,
      "outputs": [
        {
          "output_type": "execute_result",
          "data": {
            "text/html": [
              "<div>\n",
              "<style scoped>\n",
              "    .dataframe tbody tr th:only-of-type {\n",
              "        vertical-align: middle;\n",
              "    }\n",
              "\n",
              "    .dataframe tbody tr th {\n",
              "        vertical-align: top;\n",
              "    }\n",
              "\n",
              "    .dataframe thead th {\n",
              "        text-align: right;\n",
              "    }\n",
              "</style>\n",
              "<table border=\"1\" class=\"dataframe\">\n",
              "  <thead>\n",
              "    <tr style=\"text-align: right;\">\n",
              "      <th></th>\n",
              "      <th>Series Code</th>\n",
              "      <th>Topic</th>\n",
              "      <th>Indicator Name</th>\n",
              "      <th>Long definition</th>\n",
              "    </tr>\n",
              "  </thead>\n",
              "  <tbody>\n",
              "    <tr>\n",
              "      <th>0</th>\n",
              "      <td>BAR.NOED.1519.FE.ZS</td>\n",
              "      <td>Attainment</td>\n",
              "      <td>Barro-Lee: Percentage of female population age...</td>\n",
              "      <td>Percentage of female population age 15-19 with...</td>\n",
              "    </tr>\n",
              "    <tr>\n",
              "      <th>1</th>\n",
              "      <td>BAR.NOED.1519.ZS</td>\n",
              "      <td>Attainment</td>\n",
              "      <td>Barro-Lee: Percentage of population age 15-19 ...</td>\n",
              "      <td>Percentage of population age 15-19 with no edu...</td>\n",
              "    </tr>\n",
              "    <tr>\n",
              "      <th>2</th>\n",
              "      <td>BAR.NOED.15UP.FE.ZS</td>\n",
              "      <td>Attainment</td>\n",
              "      <td>Barro-Lee: Percentage of female population age...</td>\n",
              "      <td>Percentage of female population age 15+ with n...</td>\n",
              "    </tr>\n",
              "    <tr>\n",
              "      <th>3</th>\n",
              "      <td>BAR.NOED.15UP.ZS</td>\n",
              "      <td>Attainment</td>\n",
              "      <td>Barro-Lee: Percentage of population age 15+ wi...</td>\n",
              "      <td>Percentage of population age 15+ with no educa...</td>\n",
              "    </tr>\n",
              "    <tr>\n",
              "      <th>4</th>\n",
              "      <td>BAR.NOED.2024.FE.ZS</td>\n",
              "      <td>Attainment</td>\n",
              "      <td>Barro-Lee: Percentage of female population age...</td>\n",
              "      <td>Percentage of female population age 20-24 with...</td>\n",
              "    </tr>\n",
              "    <tr>\n",
              "      <th>...</th>\n",
              "      <td>...</td>\n",
              "      <td>...</td>\n",
              "      <td>...</td>\n",
              "      <td>...</td>\n",
              "    </tr>\n",
              "    <tr>\n",
              "      <th>3660</th>\n",
              "      <td>UIS.XUNIT.USCONST.3.FSGOV</td>\n",
              "      <td>Expenditures</td>\n",
              "      <td>Government expenditure per upper secondary stu...</td>\n",
              "      <td>Average total (current, capital and transfers)...</td>\n",
              "    </tr>\n",
              "    <tr>\n",
              "      <th>3661</th>\n",
              "      <td>UIS.XUNIT.USCONST.4.FSGOV</td>\n",
              "      <td>Expenditures</td>\n",
              "      <td>Government expenditure per post-secondary non-...</td>\n",
              "      <td>Average total (current, capital and transfers)...</td>\n",
              "    </tr>\n",
              "    <tr>\n",
              "      <th>3662</th>\n",
              "      <td>UIS.XUNIT.USCONST.56.FSGOV</td>\n",
              "      <td>Expenditures</td>\n",
              "      <td>Government expenditure per tertiary student (c...</td>\n",
              "      <td>Average total (current, capital and transfers)...</td>\n",
              "    </tr>\n",
              "    <tr>\n",
              "      <th>3663</th>\n",
              "      <td>XGDP.23.FSGOV.FDINSTADM.FFD</td>\n",
              "      <td>Expenditures</td>\n",
              "      <td>Government expenditure in secondary institutio...</td>\n",
              "      <td>Total general (local, regional and central) go...</td>\n",
              "    </tr>\n",
              "    <tr>\n",
              "      <th>3664</th>\n",
              "      <td>XGDP.56.FSGOV.FDINSTADM.FFD</td>\n",
              "      <td>Expenditures</td>\n",
              "      <td>Government expenditure in tertiary institution...</td>\n",
              "      <td>Total general (local, regional and central) go...</td>\n",
              "    </tr>\n",
              "  </tbody>\n",
              "</table>\n",
              "<p>3665 rows × 4 columns</p>\n",
              "</div>"
            ],
            "text/plain": [
              "                      Series Code  ...                                    Long definition\n",
              "0             BAR.NOED.1519.FE.ZS  ...  Percentage of female population age 15-19 with...\n",
              "1                BAR.NOED.1519.ZS  ...  Percentage of population age 15-19 with no edu...\n",
              "2             BAR.NOED.15UP.FE.ZS  ...  Percentage of female population age 15+ with n...\n",
              "3                BAR.NOED.15UP.ZS  ...  Percentage of population age 15+ with no educa...\n",
              "4             BAR.NOED.2024.FE.ZS  ...  Percentage of female population age 20-24 with...\n",
              "...                           ...  ...                                                ...\n",
              "3660    UIS.XUNIT.USCONST.3.FSGOV  ...  Average total (current, capital and transfers)...\n",
              "3661    UIS.XUNIT.USCONST.4.FSGOV  ...  Average total (current, capital and transfers)...\n",
              "3662   UIS.XUNIT.USCONST.56.FSGOV  ...  Average total (current, capital and transfers)...\n",
              "3663  XGDP.23.FSGOV.FDINSTADM.FFD  ...  Total general (local, regional and central) go...\n",
              "3664  XGDP.56.FSGOV.FDINSTADM.FFD  ...  Total general (local, regional and central) go...\n",
              "\n",
              "[3665 rows x 4 columns]"
            ]
          },
          "metadata": {
            "tags": []
          },
          "execution_count": 513
        }
      ]
    },
    {
      "cell_type": "code",
      "metadata": {
        "colab": {
          "base_uri": "https://localhost:8080/"
        },
        "id": "gkbEy6LK-Rz4",
        "outputId": "2302f451-d126-43b0-c0c5-fcbe38fb8ea9"
      },
      "source": [
        "df_StatsSeries.info()"
      ],
      "execution_count": null,
      "outputs": [
        {
          "output_type": "stream",
          "text": [
            "<class 'pandas.core.frame.DataFrame'>\n",
            "RangeIndex: 3665 entries, 0 to 3664\n",
            "Data columns (total 4 columns):\n",
            " #   Column           Non-Null Count  Dtype \n",
            "---  ------           --------------  ----- \n",
            " 0   Series Code      3665 non-null   object\n",
            " 1   Topic            3665 non-null   object\n",
            " 2   Indicator Name   3665 non-null   object\n",
            " 3   Long definition  3665 non-null   object\n",
            "dtypes: object(4)\n",
            "memory usage: 114.7+ KB\n"
          ],
          "name": "stdout"
        }
      ]
    },
    {
      "cell_type": "code",
      "metadata": {
        "id": "jTIJ_Vjd-o9D"
      },
      "source": [
        "merged_statseries_statdata=pd.merge(df_StatsSeries,df_StatsData, on='Indicator Name',how='inner')"
      ],
      "execution_count": null,
      "outputs": []
    },
    {
      "cell_type": "code",
      "metadata": {
        "colab": {
          "base_uri": "https://localhost:8080/",
          "height": 1000
        },
        "collapsed": true,
        "id": "X7yipAirXk1S",
        "outputId": "29456270-cbd4-462f-81aa-3c4200bddf47"
      },
      "source": [
        "merged_statseries_statdata"
      ],
      "execution_count": null,
      "outputs": [
        {
          "output_type": "execute_result",
          "data": {
            "text/html": [
              "<div>\n",
              "<style scoped>\n",
              "    .dataframe tbody tr th:only-of-type {\n",
              "        vertical-align: middle;\n",
              "    }\n",
              "\n",
              "    .dataframe tbody tr th {\n",
              "        vertical-align: top;\n",
              "    }\n",
              "\n",
              "    .dataframe thead th {\n",
              "        text-align: right;\n",
              "    }\n",
              "</style>\n",
              "<table border=\"1\" class=\"dataframe\">\n",
              "  <thead>\n",
              "    <tr style=\"text-align: right;\">\n",
              "      <th></th>\n",
              "      <th>Series Code</th>\n",
              "      <th>Topic</th>\n",
              "      <th>Indicator Name</th>\n",
              "      <th>Long definition</th>\n",
              "      <th>Country Name</th>\n",
              "      <th>Country Code</th>\n",
              "      <th>Indicator Code</th>\n",
              "      <th>2005</th>\n",
              "      <th>2006</th>\n",
              "      <th>2007</th>\n",
              "      <th>2008</th>\n",
              "      <th>2009</th>\n",
              "      <th>2010</th>\n",
              "      <th>2011</th>\n",
              "      <th>2012</th>\n",
              "      <th>2013</th>\n",
              "      <th>2014</th>\n",
              "    </tr>\n",
              "  </thead>\n",
              "  <tbody>\n",
              "    <tr>\n",
              "      <th>0</th>\n",
              "      <td>BAR.NOED.1519.FE.ZS</td>\n",
              "      <td>Attainment</td>\n",
              "      <td>Barro-Lee: Percentage of female population age...</td>\n",
              "      <td>Percentage of female population age 15-19 with...</td>\n",
              "      <td>Arab World</td>\n",
              "      <td>ARB</td>\n",
              "      <td>BAR.NOED.1519.FE.ZS</td>\n",
              "      <td>NaN</td>\n",
              "      <td>NaN</td>\n",
              "      <td>NaN</td>\n",
              "      <td>NaN</td>\n",
              "      <td>NaN</td>\n",
              "      <td>NaN</td>\n",
              "      <td>NaN</td>\n",
              "      <td>NaN</td>\n",
              "      <td>NaN</td>\n",
              "      <td>NaN</td>\n",
              "    </tr>\n",
              "    <tr>\n",
              "      <th>1</th>\n",
              "      <td>BAR.NOED.1519.FE.ZS</td>\n",
              "      <td>Attainment</td>\n",
              "      <td>Barro-Lee: Percentage of female population age...</td>\n",
              "      <td>Percentage of female population age 15-19 with...</td>\n",
              "      <td>East Asia &amp; Pacific</td>\n",
              "      <td>EAS</td>\n",
              "      <td>BAR.NOED.1519.FE.ZS</td>\n",
              "      <td>NaN</td>\n",
              "      <td>NaN</td>\n",
              "      <td>NaN</td>\n",
              "      <td>NaN</td>\n",
              "      <td>NaN</td>\n",
              "      <td>NaN</td>\n",
              "      <td>NaN</td>\n",
              "      <td>NaN</td>\n",
              "      <td>NaN</td>\n",
              "      <td>NaN</td>\n",
              "    </tr>\n",
              "    <tr>\n",
              "      <th>2</th>\n",
              "      <td>BAR.NOED.1519.FE.ZS</td>\n",
              "      <td>Attainment</td>\n",
              "      <td>Barro-Lee: Percentage of female population age...</td>\n",
              "      <td>Percentage of female population age 15-19 with...</td>\n",
              "      <td>East Asia &amp; Pacific (excluding high income)</td>\n",
              "      <td>EAP</td>\n",
              "      <td>BAR.NOED.1519.FE.ZS</td>\n",
              "      <td>NaN</td>\n",
              "      <td>NaN</td>\n",
              "      <td>NaN</td>\n",
              "      <td>NaN</td>\n",
              "      <td>NaN</td>\n",
              "      <td>NaN</td>\n",
              "      <td>NaN</td>\n",
              "      <td>NaN</td>\n",
              "      <td>NaN</td>\n",
              "      <td>NaN</td>\n",
              "    </tr>\n",
              "    <tr>\n",
              "      <th>3</th>\n",
              "      <td>BAR.NOED.1519.FE.ZS</td>\n",
              "      <td>Attainment</td>\n",
              "      <td>Barro-Lee: Percentage of female population age...</td>\n",
              "      <td>Percentage of female population age 15-19 with...</td>\n",
              "      <td>Euro area</td>\n",
              "      <td>EMU</td>\n",
              "      <td>BAR.NOED.1519.FE.ZS</td>\n",
              "      <td>NaN</td>\n",
              "      <td>NaN</td>\n",
              "      <td>NaN</td>\n",
              "      <td>NaN</td>\n",
              "      <td>NaN</td>\n",
              "      <td>NaN</td>\n",
              "      <td>NaN</td>\n",
              "      <td>NaN</td>\n",
              "      <td>NaN</td>\n",
              "      <td>NaN</td>\n",
              "    </tr>\n",
              "    <tr>\n",
              "      <th>4</th>\n",
              "      <td>BAR.NOED.1519.FE.ZS</td>\n",
              "      <td>Attainment</td>\n",
              "      <td>Barro-Lee: Percentage of female population age...</td>\n",
              "      <td>Percentage of female population age 15-19 with...</td>\n",
              "      <td>Europe &amp; Central Asia</td>\n",
              "      <td>ECS</td>\n",
              "      <td>BAR.NOED.1519.FE.ZS</td>\n",
              "      <td>NaN</td>\n",
              "      <td>NaN</td>\n",
              "      <td>NaN</td>\n",
              "      <td>NaN</td>\n",
              "      <td>NaN</td>\n",
              "      <td>NaN</td>\n",
              "      <td>NaN</td>\n",
              "      <td>NaN</td>\n",
              "      <td>NaN</td>\n",
              "      <td>NaN</td>\n",
              "    </tr>\n",
              "    <tr>\n",
              "      <th>...</th>\n",
              "      <td>...</td>\n",
              "      <td>...</td>\n",
              "      <td>...</td>\n",
              "      <td>...</td>\n",
              "      <td>...</td>\n",
              "      <td>...</td>\n",
              "      <td>...</td>\n",
              "      <td>...</td>\n",
              "      <td>...</td>\n",
              "      <td>...</td>\n",
              "      <td>...</td>\n",
              "      <td>...</td>\n",
              "      <td>...</td>\n",
              "      <td>...</td>\n",
              "      <td>...</td>\n",
              "      <td>...</td>\n",
              "      <td>...</td>\n",
              "    </tr>\n",
              "    <tr>\n",
              "      <th>775121</th>\n",
              "      <td>XGDP.56.FSGOV.FDINSTADM.FFD</td>\n",
              "      <td>Expenditures</td>\n",
              "      <td>Government expenditure in tertiary institution...</td>\n",
              "      <td>Total general (local, regional and central) go...</td>\n",
              "      <td>Virgin Islands (U.S.)</td>\n",
              "      <td>VIR</td>\n",
              "      <td>XGDP.56.FSGOV.FDINSTADM.FFD</td>\n",
              "      <td>NaN</td>\n",
              "      <td>NaN</td>\n",
              "      <td>NaN</td>\n",
              "      <td>NaN</td>\n",
              "      <td>NaN</td>\n",
              "      <td>NaN</td>\n",
              "      <td>NaN</td>\n",
              "      <td>NaN</td>\n",
              "      <td>NaN</td>\n",
              "      <td>NaN</td>\n",
              "    </tr>\n",
              "    <tr>\n",
              "      <th>775122</th>\n",
              "      <td>XGDP.56.FSGOV.FDINSTADM.FFD</td>\n",
              "      <td>Expenditures</td>\n",
              "      <td>Government expenditure in tertiary institution...</td>\n",
              "      <td>Total general (local, regional and central) go...</td>\n",
              "      <td>West Bank and Gaza</td>\n",
              "      <td>PSE</td>\n",
              "      <td>XGDP.56.FSGOV.FDINSTADM.FFD</td>\n",
              "      <td>NaN</td>\n",
              "      <td>NaN</td>\n",
              "      <td>NaN</td>\n",
              "      <td>NaN</td>\n",
              "      <td>NaN</td>\n",
              "      <td>NaN</td>\n",
              "      <td>NaN</td>\n",
              "      <td>NaN</td>\n",
              "      <td>NaN</td>\n",
              "      <td>NaN</td>\n",
              "    </tr>\n",
              "    <tr>\n",
              "      <th>775123</th>\n",
              "      <td>XGDP.56.FSGOV.FDINSTADM.FFD</td>\n",
              "      <td>Expenditures</td>\n",
              "      <td>Government expenditure in tertiary institution...</td>\n",
              "      <td>Total general (local, regional and central) go...</td>\n",
              "      <td>Yemen, Rep.</td>\n",
              "      <td>YEM</td>\n",
              "      <td>XGDP.56.FSGOV.FDINSTADM.FFD</td>\n",
              "      <td>NaN</td>\n",
              "      <td>NaN</td>\n",
              "      <td>NaN</td>\n",
              "      <td>NaN</td>\n",
              "      <td>NaN</td>\n",
              "      <td>NaN</td>\n",
              "      <td>NaN</td>\n",
              "      <td>NaN</td>\n",
              "      <td>NaN</td>\n",
              "      <td>NaN</td>\n",
              "    </tr>\n",
              "    <tr>\n",
              "      <th>775124</th>\n",
              "      <td>XGDP.56.FSGOV.FDINSTADM.FFD</td>\n",
              "      <td>Expenditures</td>\n",
              "      <td>Government expenditure in tertiary institution...</td>\n",
              "      <td>Total general (local, regional and central) go...</td>\n",
              "      <td>Zambia</td>\n",
              "      <td>ZMB</td>\n",
              "      <td>XGDP.56.FSGOV.FDINSTADM.FFD</td>\n",
              "      <td>0.2933</td>\n",
              "      <td>NaN</td>\n",
              "      <td>NaN</td>\n",
              "      <td>NaN</td>\n",
              "      <td>NaN</td>\n",
              "      <td>NaN</td>\n",
              "      <td>NaN</td>\n",
              "      <td>NaN</td>\n",
              "      <td>NaN</td>\n",
              "      <td>NaN</td>\n",
              "    </tr>\n",
              "    <tr>\n",
              "      <th>775125</th>\n",
              "      <td>XGDP.56.FSGOV.FDINSTADM.FFD</td>\n",
              "      <td>Expenditures</td>\n",
              "      <td>Government expenditure in tertiary institution...</td>\n",
              "      <td>Total general (local, regional and central) go...</td>\n",
              "      <td>Zimbabwe</td>\n",
              "      <td>ZWE</td>\n",
              "      <td>XGDP.56.FSGOV.FDINSTADM.FFD</td>\n",
              "      <td>NaN</td>\n",
              "      <td>NaN</td>\n",
              "      <td>NaN</td>\n",
              "      <td>NaN</td>\n",
              "      <td>0.26716</td>\n",
              "      <td>0.39715</td>\n",
              "      <td>NaN</td>\n",
              "      <td>NaN</td>\n",
              "      <td>NaN</td>\n",
              "      <td>NaN</td>\n",
              "    </tr>\n",
              "  </tbody>\n",
              "</table>\n",
              "<p>775126 rows × 17 columns</p>\n",
              "</div>"
            ],
            "text/plain": [
              "                        Series Code         Topic  ... 2013 2014\n",
              "0               BAR.NOED.1519.FE.ZS    Attainment  ...  NaN  NaN\n",
              "1               BAR.NOED.1519.FE.ZS    Attainment  ...  NaN  NaN\n",
              "2               BAR.NOED.1519.FE.ZS    Attainment  ...  NaN  NaN\n",
              "3               BAR.NOED.1519.FE.ZS    Attainment  ...  NaN  NaN\n",
              "4               BAR.NOED.1519.FE.ZS    Attainment  ...  NaN  NaN\n",
              "...                             ...           ...  ...  ...  ...\n",
              "775121  XGDP.56.FSGOV.FDINSTADM.FFD  Expenditures  ...  NaN  NaN\n",
              "775122  XGDP.56.FSGOV.FDINSTADM.FFD  Expenditures  ...  NaN  NaN\n",
              "775123  XGDP.56.FSGOV.FDINSTADM.FFD  Expenditures  ...  NaN  NaN\n",
              "775124  XGDP.56.FSGOV.FDINSTADM.FFD  Expenditures  ...  NaN  NaN\n",
              "775125  XGDP.56.FSGOV.FDINSTADM.FFD  Expenditures  ...  NaN  NaN\n",
              "\n",
              "[775126 rows x 17 columns]"
            ]
          },
          "metadata": {
            "tags": []
          },
          "execution_count": 516
        }
      ]
    },
    {
      "cell_type": "code",
      "metadata": {
        "colab": {
          "base_uri": "https://localhost:8080/"
        },
        "id": "N7vfQEGbY-Y5",
        "outputId": "3e685dc6-73e0-4e65-d98e-09bf249ebbbf"
      },
      "source": [
        "merged_statseries_statdata.columns"
      ],
      "execution_count": null,
      "outputs": [
        {
          "output_type": "execute_result",
          "data": {
            "text/plain": [
              "Index(['Series Code', 'Topic', 'Indicator Name', 'Long definition',\n",
              "       'Country Name', 'Country Code', 'Indicator Code', '2005', '2006',\n",
              "       '2007', '2008', '2009', '2010', '2011', '2012', '2013', '2014'],\n",
              "      dtype='object')"
            ]
          },
          "metadata": {
            "tags": []
          },
          "execution_count": 517
        }
      ]
    },
    {
      "cell_type": "code",
      "metadata": {
        "id": "3dIT4m23XpW_"
      },
      "source": [
        "merged_series_Data_country=pd.merge(merged_statseries_statdata,df_StatsCountry, on ='Country Code', how= 'inner')"
      ],
      "execution_count": null,
      "outputs": []
    },
    {
      "cell_type": "code",
      "metadata": {
        "colab": {
          "base_uri": "https://localhost:8080/",
          "height": 1000
        },
        "collapsed": true,
        "id": "YKt9-O04w4TG",
        "outputId": "234f774b-6c4b-4926-ed12-932607643f54"
      },
      "source": [
        "merged_series_Data_country[merged_series_Data_country['Country Code']=='HPC']"
      ],
      "execution_count": null,
      "outputs": [
        {
          "output_type": "execute_result",
          "data": {
            "text/html": [
              "<div>\n",
              "<style scoped>\n",
              "    .dataframe tbody tr th:only-of-type {\n",
              "        vertical-align: middle;\n",
              "    }\n",
              "\n",
              "    .dataframe tbody tr th {\n",
              "        vertical-align: top;\n",
              "    }\n",
              "\n",
              "    .dataframe thead th {\n",
              "        text-align: right;\n",
              "    }\n",
              "</style>\n",
              "<table border=\"1\" class=\"dataframe\">\n",
              "  <thead>\n",
              "    <tr style=\"text-align: right;\">\n",
              "      <th></th>\n",
              "      <th>Series Code</th>\n",
              "      <th>Topic</th>\n",
              "      <th>Indicator Name</th>\n",
              "      <th>Long definition</th>\n",
              "      <th>Country Name</th>\n",
              "      <th>Country Code</th>\n",
              "      <th>Indicator Code</th>\n",
              "      <th>2005</th>\n",
              "      <th>2006</th>\n",
              "      <th>2007</th>\n",
              "      <th>2008</th>\n",
              "      <th>2009</th>\n",
              "      <th>2010</th>\n",
              "      <th>2011</th>\n",
              "      <th>2012</th>\n",
              "      <th>2013</th>\n",
              "      <th>2014</th>\n",
              "      <th>Short Name</th>\n",
              "      <th>Income Group</th>\n",
              "    </tr>\n",
              "  </thead>\n",
              "  <tbody>\n",
              "    <tr>\n",
              "      <th>22421</th>\n",
              "      <td>BAR.NOED.1519.FE.ZS</td>\n",
              "      <td>Attainment</td>\n",
              "      <td>Barro-Lee: Percentage of female population age...</td>\n",
              "      <td>Percentage of female population age 15-19 with...</td>\n",
              "      <td>Heavily indebted poor countries (HIPC)</td>\n",
              "      <td>HPC</td>\n",
              "      <td>BAR.NOED.1519.FE.ZS</td>\n",
              "      <td>NaN</td>\n",
              "      <td>NaN</td>\n",
              "      <td>NaN</td>\n",
              "      <td>NaN</td>\n",
              "      <td>NaN</td>\n",
              "      <td>NaN</td>\n",
              "      <td>NaN</td>\n",
              "      <td>NaN</td>\n",
              "      <td>NaN</td>\n",
              "      <td>NaN</td>\n",
              "      <td>Heavily indebted poor countries (HIPC)</td>\n",
              "      <td>NaN</td>\n",
              "    </tr>\n",
              "    <tr>\n",
              "      <th>22422</th>\n",
              "      <td>BAR.NOED.1519.ZS</td>\n",
              "      <td>Attainment</td>\n",
              "      <td>Barro-Lee: Percentage of population age 15-19 ...</td>\n",
              "      <td>Percentage of population age 15-19 with no edu...</td>\n",
              "      <td>Heavily indebted poor countries (HIPC)</td>\n",
              "      <td>HPC</td>\n",
              "      <td>BAR.NOED.1519.ZS</td>\n",
              "      <td>NaN</td>\n",
              "      <td>NaN</td>\n",
              "      <td>NaN</td>\n",
              "      <td>NaN</td>\n",
              "      <td>NaN</td>\n",
              "      <td>NaN</td>\n",
              "      <td>NaN</td>\n",
              "      <td>NaN</td>\n",
              "      <td>NaN</td>\n",
              "      <td>NaN</td>\n",
              "      <td>Heavily indebted poor countries (HIPC)</td>\n",
              "      <td>NaN</td>\n",
              "    </tr>\n",
              "    <tr>\n",
              "      <th>22423</th>\n",
              "      <td>BAR.NOED.15UP.FE.ZS</td>\n",
              "      <td>Attainment</td>\n",
              "      <td>Barro-Lee: Percentage of female population age...</td>\n",
              "      <td>Percentage of female population age 15+ with n...</td>\n",
              "      <td>Heavily indebted poor countries (HIPC)</td>\n",
              "      <td>HPC</td>\n",
              "      <td>BAR.NOED.15UP.FE.ZS</td>\n",
              "      <td>NaN</td>\n",
              "      <td>NaN</td>\n",
              "      <td>NaN</td>\n",
              "      <td>NaN</td>\n",
              "      <td>NaN</td>\n",
              "      <td>NaN</td>\n",
              "      <td>NaN</td>\n",
              "      <td>NaN</td>\n",
              "      <td>NaN</td>\n",
              "      <td>NaN</td>\n",
              "      <td>Heavily indebted poor countries (HIPC)</td>\n",
              "      <td>NaN</td>\n",
              "    </tr>\n",
              "    <tr>\n",
              "      <th>22424</th>\n",
              "      <td>BAR.NOED.15UP.ZS</td>\n",
              "      <td>Attainment</td>\n",
              "      <td>Barro-Lee: Percentage of population age 15+ wi...</td>\n",
              "      <td>Percentage of population age 15+ with no educa...</td>\n",
              "      <td>Heavily indebted poor countries (HIPC)</td>\n",
              "      <td>HPC</td>\n",
              "      <td>BAR.NOED.15UP.ZS</td>\n",
              "      <td>NaN</td>\n",
              "      <td>NaN</td>\n",
              "      <td>NaN</td>\n",
              "      <td>NaN</td>\n",
              "      <td>NaN</td>\n",
              "      <td>NaN</td>\n",
              "      <td>NaN</td>\n",
              "      <td>NaN</td>\n",
              "      <td>NaN</td>\n",
              "      <td>NaN</td>\n",
              "      <td>Heavily indebted poor countries (HIPC)</td>\n",
              "      <td>NaN</td>\n",
              "    </tr>\n",
              "    <tr>\n",
              "      <th>22425</th>\n",
              "      <td>BAR.NOED.2024.FE.ZS</td>\n",
              "      <td>Attainment</td>\n",
              "      <td>Barro-Lee: Percentage of female population age...</td>\n",
              "      <td>Percentage of female population age 20-24 with...</td>\n",
              "      <td>Heavily indebted poor countries (HIPC)</td>\n",
              "      <td>HPC</td>\n",
              "      <td>BAR.NOED.2024.FE.ZS</td>\n",
              "      <td>NaN</td>\n",
              "      <td>NaN</td>\n",
              "      <td>NaN</td>\n",
              "      <td>NaN</td>\n",
              "      <td>NaN</td>\n",
              "      <td>NaN</td>\n",
              "      <td>NaN</td>\n",
              "      <td>NaN</td>\n",
              "      <td>NaN</td>\n",
              "      <td>NaN</td>\n",
              "      <td>Heavily indebted poor countries (HIPC)</td>\n",
              "      <td>NaN</td>\n",
              "    </tr>\n",
              "    <tr>\n",
              "      <th>...</th>\n",
              "      <td>...</td>\n",
              "      <td>...</td>\n",
              "      <td>...</td>\n",
              "      <td>...</td>\n",
              "      <td>...</td>\n",
              "      <td>...</td>\n",
              "      <td>...</td>\n",
              "      <td>...</td>\n",
              "      <td>...</td>\n",
              "      <td>...</td>\n",
              "      <td>...</td>\n",
              "      <td>...</td>\n",
              "      <td>...</td>\n",
              "      <td>...</td>\n",
              "      <td>...</td>\n",
              "      <td>...</td>\n",
              "      <td>...</td>\n",
              "      <td>...</td>\n",
              "      <td>...</td>\n",
              "    </tr>\n",
              "    <tr>\n",
              "      <th>25619</th>\n",
              "      <td>UIS.XUNIT.USCONST.3.FSGOV</td>\n",
              "      <td>Expenditures</td>\n",
              "      <td>Government expenditure per upper secondary stu...</td>\n",
              "      <td>Average total (current, capital and transfers)...</td>\n",
              "      <td>Heavily indebted poor countries (HIPC)</td>\n",
              "      <td>HPC</td>\n",
              "      <td>UIS.XUNIT.USCONST.3.FSGOV</td>\n",
              "      <td>NaN</td>\n",
              "      <td>NaN</td>\n",
              "      <td>NaN</td>\n",
              "      <td>NaN</td>\n",
              "      <td>NaN</td>\n",
              "      <td>NaN</td>\n",
              "      <td>NaN</td>\n",
              "      <td>NaN</td>\n",
              "      <td>NaN</td>\n",
              "      <td>NaN</td>\n",
              "      <td>Heavily indebted poor countries (HIPC)</td>\n",
              "      <td>NaN</td>\n",
              "    </tr>\n",
              "    <tr>\n",
              "      <th>25620</th>\n",
              "      <td>UIS.XUNIT.USCONST.4.FSGOV</td>\n",
              "      <td>Expenditures</td>\n",
              "      <td>Government expenditure per post-secondary non-...</td>\n",
              "      <td>Average total (current, capital and transfers)...</td>\n",
              "      <td>Heavily indebted poor countries (HIPC)</td>\n",
              "      <td>HPC</td>\n",
              "      <td>UIS.XUNIT.USCONST.4.FSGOV</td>\n",
              "      <td>NaN</td>\n",
              "      <td>NaN</td>\n",
              "      <td>NaN</td>\n",
              "      <td>NaN</td>\n",
              "      <td>NaN</td>\n",
              "      <td>NaN</td>\n",
              "      <td>NaN</td>\n",
              "      <td>NaN</td>\n",
              "      <td>NaN</td>\n",
              "      <td>NaN</td>\n",
              "      <td>Heavily indebted poor countries (HIPC)</td>\n",
              "      <td>NaN</td>\n",
              "    </tr>\n",
              "    <tr>\n",
              "      <th>25621</th>\n",
              "      <td>UIS.XUNIT.USCONST.56.FSGOV</td>\n",
              "      <td>Expenditures</td>\n",
              "      <td>Government expenditure per tertiary student (c...</td>\n",
              "      <td>Average total (current, capital and transfers)...</td>\n",
              "      <td>Heavily indebted poor countries (HIPC)</td>\n",
              "      <td>HPC</td>\n",
              "      <td>UIS.XUNIT.USCONST.56.FSGOV</td>\n",
              "      <td>NaN</td>\n",
              "      <td>NaN</td>\n",
              "      <td>NaN</td>\n",
              "      <td>NaN</td>\n",
              "      <td>NaN</td>\n",
              "      <td>NaN</td>\n",
              "      <td>NaN</td>\n",
              "      <td>NaN</td>\n",
              "      <td>NaN</td>\n",
              "      <td>NaN</td>\n",
              "      <td>Heavily indebted poor countries (HIPC)</td>\n",
              "      <td>NaN</td>\n",
              "    </tr>\n",
              "    <tr>\n",
              "      <th>25622</th>\n",
              "      <td>XGDP.23.FSGOV.FDINSTADM.FFD</td>\n",
              "      <td>Expenditures</td>\n",
              "      <td>Government expenditure in secondary institutio...</td>\n",
              "      <td>Total general (local, regional and central) go...</td>\n",
              "      <td>Heavily indebted poor countries (HIPC)</td>\n",
              "      <td>HPC</td>\n",
              "      <td>XGDP.23.FSGOV.FDINSTADM.FFD</td>\n",
              "      <td>NaN</td>\n",
              "      <td>NaN</td>\n",
              "      <td>NaN</td>\n",
              "      <td>NaN</td>\n",
              "      <td>NaN</td>\n",
              "      <td>NaN</td>\n",
              "      <td>NaN</td>\n",
              "      <td>NaN</td>\n",
              "      <td>NaN</td>\n",
              "      <td>NaN</td>\n",
              "      <td>Heavily indebted poor countries (HIPC)</td>\n",
              "      <td>NaN</td>\n",
              "    </tr>\n",
              "    <tr>\n",
              "      <th>25623</th>\n",
              "      <td>XGDP.56.FSGOV.FDINSTADM.FFD</td>\n",
              "      <td>Expenditures</td>\n",
              "      <td>Government expenditure in tertiary institution...</td>\n",
              "      <td>Total general (local, regional and central) go...</td>\n",
              "      <td>Heavily indebted poor countries (HIPC)</td>\n",
              "      <td>HPC</td>\n",
              "      <td>XGDP.56.FSGOV.FDINSTADM.FFD</td>\n",
              "      <td>NaN</td>\n",
              "      <td>NaN</td>\n",
              "      <td>NaN</td>\n",
              "      <td>NaN</td>\n",
              "      <td>NaN</td>\n",
              "      <td>NaN</td>\n",
              "      <td>NaN</td>\n",
              "      <td>NaN</td>\n",
              "      <td>NaN</td>\n",
              "      <td>NaN</td>\n",
              "      <td>Heavily indebted poor countries (HIPC)</td>\n",
              "      <td>NaN</td>\n",
              "    </tr>\n",
              "  </tbody>\n",
              "</table>\n",
              "<p>3203 rows × 19 columns</p>\n",
              "</div>"
            ],
            "text/plain": [
              "                       Series Code  ... Income Group\n",
              "22421          BAR.NOED.1519.FE.ZS  ...          NaN\n",
              "22422             BAR.NOED.1519.ZS  ...          NaN\n",
              "22423          BAR.NOED.15UP.FE.ZS  ...          NaN\n",
              "22424             BAR.NOED.15UP.ZS  ...          NaN\n",
              "22425          BAR.NOED.2024.FE.ZS  ...          NaN\n",
              "...                            ...  ...          ...\n",
              "25619    UIS.XUNIT.USCONST.3.FSGOV  ...          NaN\n",
              "25620    UIS.XUNIT.USCONST.4.FSGOV  ...          NaN\n",
              "25621   UIS.XUNIT.USCONST.56.FSGOV  ...          NaN\n",
              "25622  XGDP.23.FSGOV.FDINSTADM.FFD  ...          NaN\n",
              "25623  XGDP.56.FSGOV.FDINSTADM.FFD  ...          NaN\n",
              "\n",
              "[3203 rows x 19 columns]"
            ]
          },
          "metadata": {
            "tags": []
          },
          "execution_count": 519
        }
      ]
    },
    {
      "cell_type": "code",
      "metadata": {
        "colab": {
          "base_uri": "https://localhost:8080/",
          "height": 400
        },
        "id": "N82lNTZaY5Pc",
        "outputId": "7940bac0-6f78-49d5-9c0d-cfe9a0484fb7"
      },
      "source": [
        "merged_series_Data_country.head(3)"
      ],
      "execution_count": null,
      "outputs": [
        {
          "output_type": "execute_result",
          "data": {
            "text/html": [
              "<div>\n",
              "<style scoped>\n",
              "    .dataframe tbody tr th:only-of-type {\n",
              "        vertical-align: middle;\n",
              "    }\n",
              "\n",
              "    .dataframe tbody tr th {\n",
              "        vertical-align: top;\n",
              "    }\n",
              "\n",
              "    .dataframe thead th {\n",
              "        text-align: right;\n",
              "    }\n",
              "</style>\n",
              "<table border=\"1\" class=\"dataframe\">\n",
              "  <thead>\n",
              "    <tr style=\"text-align: right;\">\n",
              "      <th></th>\n",
              "      <th>Series Code</th>\n",
              "      <th>Topic</th>\n",
              "      <th>Indicator Name</th>\n",
              "      <th>Long definition</th>\n",
              "      <th>Country Name</th>\n",
              "      <th>Country Code</th>\n",
              "      <th>Indicator Code</th>\n",
              "      <th>2005</th>\n",
              "      <th>2006</th>\n",
              "      <th>2007</th>\n",
              "      <th>2008</th>\n",
              "      <th>2009</th>\n",
              "      <th>2010</th>\n",
              "      <th>2011</th>\n",
              "      <th>2012</th>\n",
              "      <th>2013</th>\n",
              "      <th>2014</th>\n",
              "      <th>Short Name</th>\n",
              "      <th>Income Group</th>\n",
              "    </tr>\n",
              "  </thead>\n",
              "  <tbody>\n",
              "    <tr>\n",
              "      <th>0</th>\n",
              "      <td>BAR.NOED.1519.FE.ZS</td>\n",
              "      <td>Attainment</td>\n",
              "      <td>Barro-Lee: Percentage of female population age...</td>\n",
              "      <td>Percentage of female population age 15-19 with...</td>\n",
              "      <td>Arab World</td>\n",
              "      <td>ARB</td>\n",
              "      <td>BAR.NOED.1519.FE.ZS</td>\n",
              "      <td>NaN</td>\n",
              "      <td>NaN</td>\n",
              "      <td>NaN</td>\n",
              "      <td>NaN</td>\n",
              "      <td>NaN</td>\n",
              "      <td>NaN</td>\n",
              "      <td>NaN</td>\n",
              "      <td>NaN</td>\n",
              "      <td>NaN</td>\n",
              "      <td>NaN</td>\n",
              "      <td>Arab World</td>\n",
              "      <td>NaN</td>\n",
              "    </tr>\n",
              "    <tr>\n",
              "      <th>1</th>\n",
              "      <td>BAR.NOED.1519.ZS</td>\n",
              "      <td>Attainment</td>\n",
              "      <td>Barro-Lee: Percentage of population age 15-19 ...</td>\n",
              "      <td>Percentage of population age 15-19 with no edu...</td>\n",
              "      <td>Arab World</td>\n",
              "      <td>ARB</td>\n",
              "      <td>BAR.NOED.1519.ZS</td>\n",
              "      <td>NaN</td>\n",
              "      <td>NaN</td>\n",
              "      <td>NaN</td>\n",
              "      <td>NaN</td>\n",
              "      <td>NaN</td>\n",
              "      <td>NaN</td>\n",
              "      <td>NaN</td>\n",
              "      <td>NaN</td>\n",
              "      <td>NaN</td>\n",
              "      <td>NaN</td>\n",
              "      <td>Arab World</td>\n",
              "      <td>NaN</td>\n",
              "    </tr>\n",
              "    <tr>\n",
              "      <th>2</th>\n",
              "      <td>BAR.NOED.15UP.FE.ZS</td>\n",
              "      <td>Attainment</td>\n",
              "      <td>Barro-Lee: Percentage of female population age...</td>\n",
              "      <td>Percentage of female population age 15+ with n...</td>\n",
              "      <td>Arab World</td>\n",
              "      <td>ARB</td>\n",
              "      <td>BAR.NOED.15UP.FE.ZS</td>\n",
              "      <td>NaN</td>\n",
              "      <td>NaN</td>\n",
              "      <td>NaN</td>\n",
              "      <td>NaN</td>\n",
              "      <td>NaN</td>\n",
              "      <td>NaN</td>\n",
              "      <td>NaN</td>\n",
              "      <td>NaN</td>\n",
              "      <td>NaN</td>\n",
              "      <td>NaN</td>\n",
              "      <td>Arab World</td>\n",
              "      <td>NaN</td>\n",
              "    </tr>\n",
              "  </tbody>\n",
              "</table>\n",
              "</div>"
            ],
            "text/plain": [
              "           Series Code       Topic  ...  Short Name Income Group\n",
              "0  BAR.NOED.1519.FE.ZS  Attainment  ...  Arab World          NaN\n",
              "1     BAR.NOED.1519.ZS  Attainment  ...  Arab World          NaN\n",
              "2  BAR.NOED.15UP.FE.ZS  Attainment  ...  Arab World          NaN\n",
              "\n",
              "[3 rows x 19 columns]"
            ]
          },
          "metadata": {
            "tags": []
          },
          "execution_count": 520
        }
      ]
    },
    {
      "cell_type": "code",
      "metadata": {
        "colab": {
          "base_uri": "https://localhost:8080/"
        },
        "id": "_2hlL1hGZFqy",
        "outputId": "bd1b1a6c-70b3-4c11-d1b6-dbc5dc6ece35"
      },
      "source": [
        "merged_series_Data_country.info()"
      ],
      "execution_count": null,
      "outputs": [
        {
          "output_type": "stream",
          "text": [
            "<class 'pandas.core.frame.DataFrame'>\n",
            "Int64Index: 771923 entries, 0 to 771922\n",
            "Data columns (total 19 columns):\n",
            " #   Column           Non-Null Count   Dtype  \n",
            "---  ------           --------------   -----  \n",
            " 0   Series Code      771923 non-null  object \n",
            " 1   Topic            771923 non-null  object \n",
            " 2   Indicator Name   771923 non-null  object \n",
            " 3   Long definition  771923 non-null  object \n",
            " 4   Country Name     771923 non-null  object \n",
            " 5   Country Code     771923 non-null  object \n",
            " 6   Indicator Code   771923 non-null  object \n",
            " 7   2005             170311 non-null  float64\n",
            " 8   2006             126423 non-null  float64\n",
            " 9   2007             123910 non-null  float64\n",
            " 10  2008             121174 non-null  float64\n",
            " 11  2009             128556 non-null  float64\n",
            " 12  2010             177482 non-null  float64\n",
            " 13  2011             132305 non-null  float64\n",
            " 14  2012             133623 non-null  float64\n",
            " 15  2013             123760 non-null  float64\n",
            " 16  2014             109916 non-null  float64\n",
            " 17  Short Name       771923 non-null  object \n",
            " 18  Income Group     685442 non-null  object \n",
            "dtypes: float64(10), object(9)\n",
            "memory usage: 117.8+ MB\n"
          ],
          "name": "stdout"
        }
      ]
    },
    {
      "cell_type": "code",
      "metadata": {
        "colab": {
          "base_uri": "https://localhost:8080/"
        },
        "id": "2AcJIkQIjmDI",
        "outputId": "0816fd7a-a600-4127-f7ff-b7e1b94057be"
      },
      "source": [
        "merged_series_Data_country['Country Code'].unique()"
      ],
      "execution_count": null,
      "outputs": [
        {
          "output_type": "execute_result",
          "data": {
            "text/plain": [
              "array(['ARB', 'EAS', 'EAP', 'EMU', 'ECS', 'ECA', 'EUU', 'HPC', 'HIC',\n",
              "       'LCN', 'LAC', 'LDC', 'LMY', 'LIC', 'LMC', 'MEA', 'MNA', 'MIC',\n",
              "       'NAC', 'OED', 'SAS', 'SSF', 'SSA', 'UMC', 'WLD', 'AFG', 'ALB',\n",
              "       'DZA', 'ASM', 'AND', 'AGO', 'ATG', 'ARG', 'ARM', 'ABW', 'AUS',\n",
              "       'AUT', 'AZE', 'BHS', 'BHR', 'BGD', 'BRB', 'BLR', 'BEL', 'BLZ',\n",
              "       'BEN', 'BMU', 'BTN', 'BOL', 'BIH', 'BWA', 'BRA', 'BRN', 'BGR',\n",
              "       'BFA', 'BDI', 'CPV', 'KHM', 'CMR', 'CAN', 'CYM', 'CAF', 'TCD',\n",
              "       'CHI', 'CHL', 'CHN', 'COL', 'COM', 'COD', 'COG', 'CRI', 'CIV',\n",
              "       'HRV', 'CUB', 'CUW', 'CYP', 'CZE', 'DNK', 'DJI', 'DMA', 'DOM',\n",
              "       'ECU', 'EGY', 'SLV', 'GNQ', 'ERI', 'EST', 'ETH', 'FRO', 'FJI',\n",
              "       'FIN', 'FRA', 'PYF', 'GAB', 'GMB', 'GEO', 'DEU', 'GHA', 'GIB',\n",
              "       'GRC', 'GRL', 'GRD', 'GUM', 'GTM', 'GIN', 'GNB', 'GUY', 'HTI',\n",
              "       'HND', 'HKG', 'HUN', 'ISL', 'IND', 'IDN', 'IRN', 'IRQ', 'IRL',\n",
              "       'IMN', 'ISR', 'ITA', 'JAM', 'JPN', 'JOR', 'KAZ', 'KEN', 'KIR',\n",
              "       'PRK', 'KOR', 'XKX', 'KWT', 'KGZ', 'LAO', 'LVA', 'LBN', 'LSO',\n",
              "       'LBR', 'LBY', 'LIE', 'LTU', 'LUX', 'MAC', 'MKD', 'MDG', 'MWI',\n",
              "       'MYS', 'MDV', 'MLI', 'MLT', 'MHL', 'MRT', 'MUS', 'MEX', 'FSM',\n",
              "       'MDA', 'MCO', 'MNG', 'MNE', 'MAR', 'MOZ', 'MMR', 'NAM', 'NRU',\n",
              "       'NPL', 'NLD', 'NCL', 'NZL', 'NIC', 'NER', 'NGA', 'MNP', 'NOR',\n",
              "       'OMN', 'PAK', 'PLW', 'PAN', 'PNG', 'PRY', 'PER', 'PHL', 'POL',\n",
              "       'PRT', 'PRI', 'QAT', 'ROU', 'RUS', 'RWA', 'WSM', 'SMR', 'STP',\n",
              "       'SAU', 'SEN', 'SRB', 'SYC', 'SLE', 'SGP', 'SXM', 'SVK', 'SVN',\n",
              "       'SLB', 'SOM', 'ZAF', 'SSD', 'ESP', 'LKA', 'KNA', 'LCA', 'MAF',\n",
              "       'VCT', 'SDN', 'SUR', 'SWZ', 'SWE', 'CHE', 'SYR', 'TJK', 'TZA',\n",
              "       'THA', 'TLS', 'TGO', 'TON', 'TTO', 'TUN', 'TUR', 'TKM', 'TCA',\n",
              "       'TUV', 'UGA', 'UKR', 'ARE', 'GBR', 'USA', 'URY', 'UZB', 'VUT',\n",
              "       'VEN', 'VNM', 'VIR', 'PSE', 'YEM', 'ZMB', 'ZWE'], dtype=object)"
            ]
          },
          "metadata": {
            "tags": []
          },
          "execution_count": 522
        }
      ]
    },
    {
      "cell_type": "code",
      "metadata": {
        "colab": {
          "base_uri": "https://localhost:8080/"
        },
        "id": "kEQgt8WvZ6HY",
        "outputId": "aa8a6916-ed0f-479e-f467-0f731a6d4e2b"
      },
      "source": [
        "merged_series_Data_country['Topic'].unique()"
      ],
      "execution_count": null,
      "outputs": [
        {
          "output_type": "execute_result",
          "data": {
            "text/plain": [
              "array(['Attainment', 'Education Equality',\n",
              "       'Infrastructure: Communications', 'Learning Outcomes',\n",
              "       'Economic Policy & Debt: Purchasing power parity',\n",
              "       'Economic Policy & Debt: National accounts: US$ at current prices: Aggregate indicators',\n",
              "       'Economic Policy & Debt: National accounts: Atlas GNI & GNI per capita',\n",
              "       'Teachers', 'Education Management Information Systems (SABER)',\n",
              "       'Early Child Development (SABER)',\n",
              "       'Engaging the Private Sector (SABER)',\n",
              "       'School Health and School Feeding (SABER)',\n",
              "       'School Finance (SABER)', 'Student Assessment (SABER)',\n",
              "       'Teachers (SABER)', 'Tertiary Education (SABER)',\n",
              "       'Workforce Development (SABER)', 'Literacy', 'Background',\n",
              "       'Primary', 'Secondary', 'Tertiary', 'Early Childhood Education',\n",
              "       'Pre-Primary', 'Expenditures', 'Health: Risk factors',\n",
              "       'Social Protection & Labor: Labor force structure', 'Population',\n",
              "       'Health: Population: Dynamics', 'Health: Population: Structure',\n",
              "       'EMIS', 'Post-Secondary/Non-Tertiary'], dtype=object)"
            ]
          },
          "metadata": {
            "tags": []
          },
          "execution_count": 523
        }
      ]
    },
    {
      "cell_type": "code",
      "metadata": {
        "id": "i3MaboogaqWr"
      },
      "source": [
        "somecountries_df=merged_series_Data_country.loc[merged_series_Data_country['Country Code'].isin(['ARB', 'EAS', 'EAP', 'EMU', 'ECS', 'ECA', 'EUU', 'HPC', 'HIC']),:]"
      ],
      "execution_count": null,
      "outputs": []
    },
    {
      "cell_type": "code",
      "metadata": {
        "id": "FqxH2OexbDyh"
      },
      "source": [
        "somecountries_df_Population=somecountries_df.loc[somecountries_df['Topic']=='Health: Population: Dynamics',:]"
      ],
      "execution_count": null,
      "outputs": []
    },
    {
      "cell_type": "code",
      "metadata": {
        "colab": {
          "base_uri": "https://localhost:8080/"
        },
        "id": "RtmG182CqMH4",
        "outputId": "7ebbf029-9f17-4f90-f395-e6a3a91856e2"
      },
      "source": [
        "somecountries_df_Population.columns"
      ],
      "execution_count": null,
      "outputs": [
        {
          "output_type": "execute_result",
          "data": {
            "text/plain": [
              "Index(['Series Code', 'Topic', 'Indicator Name', 'Long definition',\n",
              "       'Country Name', 'Country Code', 'Indicator Code', '2005', '2006',\n",
              "       '2007', '2008', '2009', '2010', '2011', '2012', '2013', '2014',\n",
              "       'Short Name', 'Income Group'],\n",
              "      dtype='object')"
            ]
          },
          "metadata": {
            "tags": []
          },
          "execution_count": 526
        }
      ]
    },
    {
      "cell_type": "code",
      "metadata": {
        "id": "U3tcvcv-cRPe"
      },
      "source": [
        "somecountries_df_Population=somecountries_df_Population[['Country Code', '2005', '2006','2007', '2008', '2009', '2010', '2011', '2012', '2013', '2014']]"
      ],
      "execution_count": null,
      "outputs": []
    },
    {
      "cell_type": "code",
      "metadata": {
        "id": "vb9vEvAnqbcs"
      },
      "source": [
        "somecountries_df_Population.reset_index(drop=True, inplace=True)"
      ],
      "execution_count": null,
      "outputs": []
    },
    {
      "cell_type": "code",
      "metadata": {
        "id": "aix3tygpq3-g"
      },
      "source": [
        "somecountries_df_Population.set_index(somecountries_df_Population['Country Code'], drop=True, append=False, inplace=True, verify_integrity=False)"
      ],
      "execution_count": null,
      "outputs": []
    },
    {
      "cell_type": "code",
      "metadata": {
        "id": "YMmjyQw2rv5B"
      },
      "source": [
        "somecountries_df_Population.drop('Country Code',axis=1,inplace=True)"
      ],
      "execution_count": null,
      "outputs": []
    },
    {
      "cell_type": "code",
      "metadata": {
        "colab": {
          "base_uri": "https://localhost:8080/",
          "height": 245
        },
        "id": "-ytONxuusEAO",
        "outputId": "43573a91-8305-4bd3-8d49-bdc6bb2a7ec2"
      },
      "source": [
        "somecountries_df_Population.head()"
      ],
      "execution_count": null,
      "outputs": [
        {
          "output_type": "execute_result",
          "data": {
            "text/html": [
              "<div>\n",
              "<style scoped>\n",
              "    .dataframe tbody tr th:only-of-type {\n",
              "        vertical-align: middle;\n",
              "    }\n",
              "\n",
              "    .dataframe tbody tr th {\n",
              "        vertical-align: top;\n",
              "    }\n",
              "\n",
              "    .dataframe thead th {\n",
              "        text-align: right;\n",
              "    }\n",
              "</style>\n",
              "<table border=\"1\" class=\"dataframe\">\n",
              "  <thead>\n",
              "    <tr style=\"text-align: right;\">\n",
              "      <th></th>\n",
              "      <th>2005</th>\n",
              "      <th>2006</th>\n",
              "      <th>2007</th>\n",
              "      <th>2008</th>\n",
              "      <th>2009</th>\n",
              "      <th>2010</th>\n",
              "      <th>2011</th>\n",
              "      <th>2012</th>\n",
              "      <th>2013</th>\n",
              "      <th>2014</th>\n",
              "    </tr>\n",
              "    <tr>\n",
              "      <th>Country Code</th>\n",
              "      <th></th>\n",
              "      <th></th>\n",
              "      <th></th>\n",
              "      <th></th>\n",
              "      <th></th>\n",
              "      <th></th>\n",
              "      <th></th>\n",
              "      <th></th>\n",
              "      <th></th>\n",
              "      <th></th>\n",
              "    </tr>\n",
              "  </thead>\n",
              "  <tbody>\n",
              "    <tr>\n",
              "      <th>ARB</th>\n",
              "      <td>2.311472</td>\n",
              "      <td>2.356627</td>\n",
              "      <td>2.386344</td>\n",
              "      <td>2.381136</td>\n",
              "      <td>2.323576</td>\n",
              "      <td>2.230786</td>\n",
              "      <td>2.128048</td>\n",
              "      <td>2.063874</td>\n",
              "      <td>2.012570</td>\n",
              "      <td>NaN</td>\n",
              "    </tr>\n",
              "    <tr>\n",
              "      <th>EAS</th>\n",
              "      <td>0.756093</td>\n",
              "      <td>0.741996</td>\n",
              "      <td>0.707903</td>\n",
              "      <td>0.712832</td>\n",
              "      <td>0.688428</td>\n",
              "      <td>0.675724</td>\n",
              "      <td>0.668431</td>\n",
              "      <td>0.678831</td>\n",
              "      <td>0.676462</td>\n",
              "      <td>0.681871</td>\n",
              "    </tr>\n",
              "    <tr>\n",
              "      <th>EAP</th>\n",
              "      <td>0.815590</td>\n",
              "      <td>0.782519</td>\n",
              "      <td>0.747518</td>\n",
              "      <td>0.734261</td>\n",
              "      <td>0.722499</td>\n",
              "      <td>0.713743</td>\n",
              "      <td>0.714412</td>\n",
              "      <td>0.721732</td>\n",
              "      <td>0.723835</td>\n",
              "      <td>0.726614</td>\n",
              "    </tr>\n",
              "    <tr>\n",
              "      <th>EMU</th>\n",
              "      <td>0.518157</td>\n",
              "      <td>0.468263</td>\n",
              "      <td>0.520479</td>\n",
              "      <td>0.489880</td>\n",
              "      <td>0.324929</td>\n",
              "      <td>0.235744</td>\n",
              "      <td>-0.215869</td>\n",
              "      <td>0.221052</td>\n",
              "      <td>0.336016</td>\n",
              "      <td>0.335839</td>\n",
              "    </tr>\n",
              "    <tr>\n",
              "      <th>ECS</th>\n",
              "      <td>0.302387</td>\n",
              "      <td>0.307291</td>\n",
              "      <td>0.356747</td>\n",
              "      <td>0.398402</td>\n",
              "      <td>0.411113</td>\n",
              "      <td>0.386694</td>\n",
              "      <td>0.233825</td>\n",
              "      <td>0.400822</td>\n",
              "      <td>0.468157</td>\n",
              "      <td>0.471662</td>\n",
              "    </tr>\n",
              "  </tbody>\n",
              "</table>\n",
              "</div>"
            ],
            "text/plain": [
              "                  2005      2006      2007  ...      2012      2013      2014\n",
              "Country Code                                ...                              \n",
              "ARB           2.311472  2.356627  2.386344  ...  2.063874  2.012570       NaN\n",
              "EAS           0.756093  0.741996  0.707903  ...  0.678831  0.676462  0.681871\n",
              "EAP           0.815590  0.782519  0.747518  ...  0.721732  0.723835  0.726614\n",
              "EMU           0.518157  0.468263  0.520479  ...  0.221052  0.336016  0.335839\n",
              "ECS           0.302387  0.307291  0.356747  ...  0.400822  0.468157  0.471662\n",
              "\n",
              "[5 rows x 10 columns]"
            ]
          },
          "metadata": {
            "tags": []
          },
          "execution_count": 531
        }
      ]
    },
    {
      "cell_type": "code",
      "metadata": {
        "id": "x0vvB6aqsMTj"
      },
      "source": [
        "somecountries_df_Population=somecountries_df_Population.ffill(axis=1)"
      ],
      "execution_count": null,
      "outputs": []
    },
    {
      "cell_type": "code",
      "metadata": {
        "colab": {
          "base_uri": "https://localhost:8080/",
          "height": 365
        },
        "id": "MD4f6tiZsgk9",
        "outputId": "05afe56f-9619-4c35-d43b-84095416fda5"
      },
      "source": [
        "somecountries_df_Population"
      ],
      "execution_count": null,
      "outputs": [
        {
          "output_type": "execute_result",
          "data": {
            "text/html": [
              "<div>\n",
              "<style scoped>\n",
              "    .dataframe tbody tr th:only-of-type {\n",
              "        vertical-align: middle;\n",
              "    }\n",
              "\n",
              "    .dataframe tbody tr th {\n",
              "        vertical-align: top;\n",
              "    }\n",
              "\n",
              "    .dataframe thead th {\n",
              "        text-align: right;\n",
              "    }\n",
              "</style>\n",
              "<table border=\"1\" class=\"dataframe\">\n",
              "  <thead>\n",
              "    <tr style=\"text-align: right;\">\n",
              "      <th></th>\n",
              "      <th>2005</th>\n",
              "      <th>2006</th>\n",
              "      <th>2007</th>\n",
              "      <th>2008</th>\n",
              "      <th>2009</th>\n",
              "      <th>2010</th>\n",
              "      <th>2011</th>\n",
              "      <th>2012</th>\n",
              "      <th>2013</th>\n",
              "      <th>2014</th>\n",
              "    </tr>\n",
              "    <tr>\n",
              "      <th>Country Code</th>\n",
              "      <th></th>\n",
              "      <th></th>\n",
              "      <th></th>\n",
              "      <th></th>\n",
              "      <th></th>\n",
              "      <th></th>\n",
              "      <th></th>\n",
              "      <th></th>\n",
              "      <th></th>\n",
              "      <th></th>\n",
              "    </tr>\n",
              "  </thead>\n",
              "  <tbody>\n",
              "    <tr>\n",
              "      <th>ARB</th>\n",
              "      <td>2.311472</td>\n",
              "      <td>2.356627</td>\n",
              "      <td>2.386344</td>\n",
              "      <td>2.381136</td>\n",
              "      <td>2.323576</td>\n",
              "      <td>2.230786</td>\n",
              "      <td>2.128048</td>\n",
              "      <td>2.063874</td>\n",
              "      <td>2.012570</td>\n",
              "      <td>2.012570</td>\n",
              "    </tr>\n",
              "    <tr>\n",
              "      <th>EAS</th>\n",
              "      <td>0.756093</td>\n",
              "      <td>0.741996</td>\n",
              "      <td>0.707903</td>\n",
              "      <td>0.712832</td>\n",
              "      <td>0.688428</td>\n",
              "      <td>0.675724</td>\n",
              "      <td>0.668431</td>\n",
              "      <td>0.678831</td>\n",
              "      <td>0.676462</td>\n",
              "      <td>0.681871</td>\n",
              "    </tr>\n",
              "    <tr>\n",
              "      <th>EAP</th>\n",
              "      <td>0.815590</td>\n",
              "      <td>0.782519</td>\n",
              "      <td>0.747518</td>\n",
              "      <td>0.734261</td>\n",
              "      <td>0.722499</td>\n",
              "      <td>0.713743</td>\n",
              "      <td>0.714412</td>\n",
              "      <td>0.721732</td>\n",
              "      <td>0.723835</td>\n",
              "      <td>0.726614</td>\n",
              "    </tr>\n",
              "    <tr>\n",
              "      <th>EMU</th>\n",
              "      <td>0.518157</td>\n",
              "      <td>0.468263</td>\n",
              "      <td>0.520479</td>\n",
              "      <td>0.489880</td>\n",
              "      <td>0.324929</td>\n",
              "      <td>0.235744</td>\n",
              "      <td>-0.215869</td>\n",
              "      <td>0.221052</td>\n",
              "      <td>0.336016</td>\n",
              "      <td>0.335839</td>\n",
              "    </tr>\n",
              "    <tr>\n",
              "      <th>ECS</th>\n",
              "      <td>0.302387</td>\n",
              "      <td>0.307291</td>\n",
              "      <td>0.356747</td>\n",
              "      <td>0.398402</td>\n",
              "      <td>0.411113</td>\n",
              "      <td>0.386694</td>\n",
              "      <td>0.233825</td>\n",
              "      <td>0.400822</td>\n",
              "      <td>0.468157</td>\n",
              "      <td>0.471662</td>\n",
              "    </tr>\n",
              "    <tr>\n",
              "      <th>ECA</th>\n",
              "      <td>0.101871</td>\n",
              "      <td>0.136323</td>\n",
              "      <td>0.171445</td>\n",
              "      <td>0.262204</td>\n",
              "      <td>0.433747</td>\n",
              "      <td>0.497604</td>\n",
              "      <td>0.508403</td>\n",
              "      <td>0.538721</td>\n",
              "      <td>0.593579</td>\n",
              "      <td>0.581359</td>\n",
              "    </tr>\n",
              "    <tr>\n",
              "      <th>EUU</th>\n",
              "      <td>0.399184</td>\n",
              "      <td>0.377971</td>\n",
              "      <td>0.371947</td>\n",
              "      <td>0.378363</td>\n",
              "      <td>0.295701</td>\n",
              "      <td>0.243054</td>\n",
              "      <td>0.277257</td>\n",
              "      <td>-0.077211</td>\n",
              "      <td>0.217339</td>\n",
              "      <td>0.217339</td>\n",
              "    </tr>\n",
              "    <tr>\n",
              "      <th>HPC</th>\n",
              "      <td>2.884986</td>\n",
              "      <td>2.860946</td>\n",
              "      <td>2.843188</td>\n",
              "      <td>2.833066</td>\n",
              "      <td>2.833217</td>\n",
              "      <td>2.839076</td>\n",
              "      <td>2.844792</td>\n",
              "      <td>2.844731</td>\n",
              "      <td>2.837758</td>\n",
              "      <td>2.822207</td>\n",
              "    </tr>\n",
              "    <tr>\n",
              "      <th>HIC</th>\n",
              "      <td>0.700656</td>\n",
              "      <td>0.747870</td>\n",
              "      <td>0.786987</td>\n",
              "      <td>0.830238</td>\n",
              "      <td>0.736660</td>\n",
              "      <td>0.659063</td>\n",
              "      <td>0.477359</td>\n",
              "      <td>0.597501</td>\n",
              "      <td>0.597611</td>\n",
              "      <td>0.609384</td>\n",
              "    </tr>\n",
              "  </tbody>\n",
              "</table>\n",
              "</div>"
            ],
            "text/plain": [
              "                  2005      2006      2007  ...      2012      2013      2014\n",
              "Country Code                                ...                              \n",
              "ARB           2.311472  2.356627  2.386344  ...  2.063874  2.012570  2.012570\n",
              "EAS           0.756093  0.741996  0.707903  ...  0.678831  0.676462  0.681871\n",
              "EAP           0.815590  0.782519  0.747518  ...  0.721732  0.723835  0.726614\n",
              "EMU           0.518157  0.468263  0.520479  ...  0.221052  0.336016  0.335839\n",
              "ECS           0.302387  0.307291  0.356747  ...  0.400822  0.468157  0.471662\n",
              "ECA           0.101871  0.136323  0.171445  ...  0.538721  0.593579  0.581359\n",
              "EUU           0.399184  0.377971  0.371947  ... -0.077211  0.217339  0.217339\n",
              "HPC           2.884986  2.860946  2.843188  ...  2.844731  2.837758  2.822207\n",
              "HIC           0.700656  0.747870  0.786987  ...  0.597501  0.597611  0.609384\n",
              "\n",
              "[9 rows x 10 columns]"
            ]
          },
          "metadata": {
            "tags": []
          },
          "execution_count": 533
        }
      ]
    },
    {
      "cell_type": "code",
      "metadata": {
        "id": "euJolRtzcTPc"
      },
      "source": [
        "import matplotlib.pyplot as plt\r\n",
        "%matplotlib inline"
      ],
      "execution_count": null,
      "outputs": []
    },
    {
      "cell_type": "code",
      "metadata": {
        "id": "t2StwMB_wJs8"
      },
      "source": [
        "somecountries_df_Population=somecountries_df_Population.transpose()"
      ],
      "execution_count": null,
      "outputs": []
    },
    {
      "cell_type": "code",
      "metadata": {
        "colab": {
          "base_uri": "https://localhost:8080/",
          "height": 348
        },
        "id": "27nQq7_pwOJG",
        "outputId": "39709703-e10c-4428-c8cc-210b210fada5"
      },
      "source": [
        "somecountries_df_Population"
      ],
      "execution_count": null,
      "outputs": [
        {
          "output_type": "execute_result",
          "data": {
            "text/html": [
              "<div>\n",
              "<style scoped>\n",
              "    .dataframe tbody tr th:only-of-type {\n",
              "        vertical-align: middle;\n",
              "    }\n",
              "\n",
              "    .dataframe tbody tr th {\n",
              "        vertical-align: top;\n",
              "    }\n",
              "\n",
              "    .dataframe thead th {\n",
              "        text-align: right;\n",
              "    }\n",
              "</style>\n",
              "<table border=\"1\" class=\"dataframe\">\n",
              "  <thead>\n",
              "    <tr style=\"text-align: right;\">\n",
              "      <th>Country Code</th>\n",
              "      <th>ARB</th>\n",
              "      <th>EAS</th>\n",
              "      <th>EAP</th>\n",
              "      <th>EMU</th>\n",
              "      <th>ECS</th>\n",
              "      <th>ECA</th>\n",
              "      <th>EUU</th>\n",
              "      <th>HPC</th>\n",
              "      <th>HIC</th>\n",
              "    </tr>\n",
              "  </thead>\n",
              "  <tbody>\n",
              "    <tr>\n",
              "      <th>2005</th>\n",
              "      <td>2.311472</td>\n",
              "      <td>0.756093</td>\n",
              "      <td>0.815590</td>\n",
              "      <td>0.518157</td>\n",
              "      <td>0.302387</td>\n",
              "      <td>0.101871</td>\n",
              "      <td>0.399184</td>\n",
              "      <td>2.884986</td>\n",
              "      <td>0.700656</td>\n",
              "    </tr>\n",
              "    <tr>\n",
              "      <th>2006</th>\n",
              "      <td>2.356627</td>\n",
              "      <td>0.741996</td>\n",
              "      <td>0.782519</td>\n",
              "      <td>0.468263</td>\n",
              "      <td>0.307291</td>\n",
              "      <td>0.136323</td>\n",
              "      <td>0.377971</td>\n",
              "      <td>2.860946</td>\n",
              "      <td>0.747870</td>\n",
              "    </tr>\n",
              "    <tr>\n",
              "      <th>2007</th>\n",
              "      <td>2.386344</td>\n",
              "      <td>0.707903</td>\n",
              "      <td>0.747518</td>\n",
              "      <td>0.520479</td>\n",
              "      <td>0.356747</td>\n",
              "      <td>0.171445</td>\n",
              "      <td>0.371947</td>\n",
              "      <td>2.843188</td>\n",
              "      <td>0.786987</td>\n",
              "    </tr>\n",
              "    <tr>\n",
              "      <th>2008</th>\n",
              "      <td>2.381136</td>\n",
              "      <td>0.712832</td>\n",
              "      <td>0.734261</td>\n",
              "      <td>0.489880</td>\n",
              "      <td>0.398402</td>\n",
              "      <td>0.262204</td>\n",
              "      <td>0.378363</td>\n",
              "      <td>2.833066</td>\n",
              "      <td>0.830238</td>\n",
              "    </tr>\n",
              "    <tr>\n",
              "      <th>2009</th>\n",
              "      <td>2.323576</td>\n",
              "      <td>0.688428</td>\n",
              "      <td>0.722499</td>\n",
              "      <td>0.324929</td>\n",
              "      <td>0.411113</td>\n",
              "      <td>0.433747</td>\n",
              "      <td>0.295701</td>\n",
              "      <td>2.833217</td>\n",
              "      <td>0.736660</td>\n",
              "    </tr>\n",
              "    <tr>\n",
              "      <th>2010</th>\n",
              "      <td>2.230786</td>\n",
              "      <td>0.675724</td>\n",
              "      <td>0.713743</td>\n",
              "      <td>0.235744</td>\n",
              "      <td>0.386694</td>\n",
              "      <td>0.497604</td>\n",
              "      <td>0.243054</td>\n",
              "      <td>2.839076</td>\n",
              "      <td>0.659063</td>\n",
              "    </tr>\n",
              "    <tr>\n",
              "      <th>2011</th>\n",
              "      <td>2.128048</td>\n",
              "      <td>0.668431</td>\n",
              "      <td>0.714412</td>\n",
              "      <td>-0.215869</td>\n",
              "      <td>0.233825</td>\n",
              "      <td>0.508403</td>\n",
              "      <td>0.277257</td>\n",
              "      <td>2.844792</td>\n",
              "      <td>0.477359</td>\n",
              "    </tr>\n",
              "    <tr>\n",
              "      <th>2012</th>\n",
              "      <td>2.063874</td>\n",
              "      <td>0.678831</td>\n",
              "      <td>0.721732</td>\n",
              "      <td>0.221052</td>\n",
              "      <td>0.400822</td>\n",
              "      <td>0.538721</td>\n",
              "      <td>-0.077211</td>\n",
              "      <td>2.844731</td>\n",
              "      <td>0.597501</td>\n",
              "    </tr>\n",
              "    <tr>\n",
              "      <th>2013</th>\n",
              "      <td>2.012570</td>\n",
              "      <td>0.676462</td>\n",
              "      <td>0.723835</td>\n",
              "      <td>0.336016</td>\n",
              "      <td>0.468157</td>\n",
              "      <td>0.593579</td>\n",
              "      <td>0.217339</td>\n",
              "      <td>2.837758</td>\n",
              "      <td>0.597611</td>\n",
              "    </tr>\n",
              "    <tr>\n",
              "      <th>2014</th>\n",
              "      <td>2.012570</td>\n",
              "      <td>0.681871</td>\n",
              "      <td>0.726614</td>\n",
              "      <td>0.335839</td>\n",
              "      <td>0.471662</td>\n",
              "      <td>0.581359</td>\n",
              "      <td>0.217339</td>\n",
              "      <td>2.822207</td>\n",
              "      <td>0.609384</td>\n",
              "    </tr>\n",
              "  </tbody>\n",
              "</table>\n",
              "</div>"
            ],
            "text/plain": [
              "Country Code       ARB       EAS       EAP  ...       EUU       HPC       HIC\n",
              "2005          2.311472  0.756093  0.815590  ...  0.399184  2.884986  0.700656\n",
              "2006          2.356627  0.741996  0.782519  ...  0.377971  2.860946  0.747870\n",
              "2007          2.386344  0.707903  0.747518  ...  0.371947  2.843188  0.786987\n",
              "2008          2.381136  0.712832  0.734261  ...  0.378363  2.833066  0.830238\n",
              "2009          2.323576  0.688428  0.722499  ...  0.295701  2.833217  0.736660\n",
              "2010          2.230786  0.675724  0.713743  ...  0.243054  2.839076  0.659063\n",
              "2011          2.128048  0.668431  0.714412  ...  0.277257  2.844792  0.477359\n",
              "2012          2.063874  0.678831  0.721732  ... -0.077211  2.844731  0.597501\n",
              "2013          2.012570  0.676462  0.723835  ...  0.217339  2.837758  0.597611\n",
              "2014          2.012570  0.681871  0.726614  ...  0.217339  2.822207  0.609384\n",
              "\n",
              "[10 rows x 9 columns]"
            ]
          },
          "metadata": {
            "tags": []
          },
          "execution_count": 536
        }
      ]
    },
    {
      "cell_type": "code",
      "metadata": {
        "colab": {
          "base_uri": "https://localhost:8080/",
          "height": 313
        },
        "id": "uKSFQf7hnCbN",
        "outputId": "0ccb8396-5977-4066-c7e8-62950c2f0f65"
      },
      "source": [
        "somecountries_df_Population.plot()\r\n",
        "\r\n",
        "plt.title('Population growth each year for different countries')\r\n",
        "plt.ylabel('Population growth %')\r\n",
        "plt.xlabel('Years')"
      ],
      "execution_count": null,
      "outputs": [
        {
          "output_type": "execute_result",
          "data": {
            "text/plain": [
              "Text(0.5, 0, 'Years')"
            ]
          },
          "metadata": {
            "tags": []
          },
          "execution_count": 537
        },
        {
          "output_type": "display_data",
          "data": {
            "image/png": "[encoded data removed]",
            "text/plain": [
              "<Figure size 432x288 with 1 Axes>"
            ]
          },
          "metadata": {
            "tags": [],
            "needs_background": "light"
          }
        }
      ]
    },
    {
      "cell_type": "markdown",
      "metadata": {
        "id": "gOLxoEaQwg3v"
      },
      "source": [
        "#Inference from plot\r\n",
        "The overall population growth of Arab is maximum as compared to other countries in the dataframe and for EMU ie Euro Area the population growth was minimum in the year 2011"
      ]
    },
    {
      "cell_type": "markdown",
      "metadata": {
        "id": "XMSnf1yUG-bC"
      },
      "source": [
        "The workforce development has no records for any country in the givenn span of years"
      ]
    },
    {
      "cell_type": "code",
      "metadata": {
        "id": "3JBMWIc9s_ZJ"
      },
      "source": [
        "somecountries_df_Infra=somecountries_df.loc[somecountries_df['Topic']=='Infrastructure: Communications',:]"
      ],
      "execution_count": null,
      "outputs": []
    },
    {
      "cell_type": "code",
      "metadata": {
        "colab": {
          "base_uri": "https://localhost:8080/",
          "height": 581
        },
        "id": "FJ_JuSFqAxEJ",
        "outputId": "434693f7-8046-4799-a4d1-d1534aa67eda"
      },
      "source": [
        "somecountries_df_Infra.head()"
      ],
      "execution_count": null,
      "outputs": [
        {
          "output_type": "execute_result",
          "data": {
            "text/html": [
              "<div>\n",
              "<style scoped>\n",
              "    .dataframe tbody tr th:only-of-type {\n",
              "        vertical-align: middle;\n",
              "    }\n",
              "\n",
              "    .dataframe tbody tr th {\n",
              "        vertical-align: top;\n",
              "    }\n",
              "\n",
              "    .dataframe thead th {\n",
              "        text-align: right;\n",
              "    }\n",
              "</style>\n",
              "<table border=\"1\" class=\"dataframe\">\n",
              "  <thead>\n",
              "    <tr style=\"text-align: right;\">\n",
              "      <th></th>\n",
              "      <th>Series Code</th>\n",
              "      <th>Topic</th>\n",
              "      <th>Indicator Name</th>\n",
              "      <th>Long definition</th>\n",
              "      <th>Country Name</th>\n",
              "      <th>Country Code</th>\n",
              "      <th>Indicator Code</th>\n",
              "      <th>2005</th>\n",
              "      <th>2006</th>\n",
              "      <th>2007</th>\n",
              "      <th>2008</th>\n",
              "      <th>2009</th>\n",
              "      <th>2010</th>\n",
              "      <th>2011</th>\n",
              "      <th>2012</th>\n",
              "      <th>2013</th>\n",
              "      <th>2014</th>\n",
              "      <th>Short Name</th>\n",
              "      <th>Income Group</th>\n",
              "    </tr>\n",
              "  </thead>\n",
              "  <tbody>\n",
              "    <tr>\n",
              "      <th>610</th>\n",
              "      <td>IT.CMP.PCMP.P2</td>\n",
              "      <td>Infrastructure: Communications</td>\n",
              "      <td>Personal computers (per 100 people)</td>\n",
              "      <td>Personal computers are self-contained computer...</td>\n",
              "      <td>Arab World</td>\n",
              "      <td>ARB</td>\n",
              "      <td>IT.CMP.PCMP.P2</td>\n",
              "      <td>5.305007</td>\n",
              "      <td>6.676681</td>\n",
              "      <td>NaN</td>\n",
              "      <td>NaN</td>\n",
              "      <td>NaN</td>\n",
              "      <td>NaN</td>\n",
              "      <td>NaN</td>\n",
              "      <td>NaN</td>\n",
              "      <td>NaN</td>\n",
              "      <td>NaN</td>\n",
              "      <td>Arab World</td>\n",
              "      <td>NaN</td>\n",
              "    </tr>\n",
              "    <tr>\n",
              "      <th>611</th>\n",
              "      <td>IT.NET.USER.P2</td>\n",
              "      <td>Infrastructure: Communications</td>\n",
              "      <td>Internet users (per 100 people)</td>\n",
              "      <td>Internet users are individuals who have used t...</td>\n",
              "      <td>Arab World</td>\n",
              "      <td>ARB</td>\n",
              "      <td>IT.NET.USER.P2</td>\n",
              "      <td>8.393142</td>\n",
              "      <td>11.654648</td>\n",
              "      <td>14.205902</td>\n",
              "      <td>18.593531</td>\n",
              "      <td>22.973689</td>\n",
              "      <td>26.747251</td>\n",
              "      <td>29.707761</td>\n",
              "      <td>34.014224</td>\n",
              "      <td>36.868602</td>\n",
              "      <td>NaN</td>\n",
              "      <td>Arab World</td>\n",
              "      <td>NaN</td>\n",
              "    </tr>\n",
              "    <tr>\n",
              "      <th>3813</th>\n",
              "      <td>IT.CMP.PCMP.P2</td>\n",
              "      <td>Infrastructure: Communications</td>\n",
              "      <td>Personal computers (per 100 people)</td>\n",
              "      <td>Personal computers are self-contained computer...</td>\n",
              "      <td>East Asia &amp; Pacific</td>\n",
              "      <td>EAS</td>\n",
              "      <td>IT.CMP.PCMP.P2</td>\n",
              "      <td>6.937880</td>\n",
              "      <td>7.953008</td>\n",
              "      <td>NaN</td>\n",
              "      <td>NaN</td>\n",
              "      <td>NaN</td>\n",
              "      <td>NaN</td>\n",
              "      <td>NaN</td>\n",
              "      <td>NaN</td>\n",
              "      <td>NaN</td>\n",
              "      <td>NaN</td>\n",
              "      <td>East Asia &amp; Pacific (all income levels)</td>\n",
              "      <td>NaN</td>\n",
              "    </tr>\n",
              "    <tr>\n",
              "      <th>3814</th>\n",
              "      <td>IT.NET.USER.P2</td>\n",
              "      <td>Infrastructure: Communications</td>\n",
              "      <td>Internet users (per 100 people)</td>\n",
              "      <td>Internet users are individuals who have used t...</td>\n",
              "      <td>East Asia &amp; Pacific</td>\n",
              "      <td>EAS</td>\n",
              "      <td>IT.NET.USER.P2</td>\n",
              "      <td>14.666359</td>\n",
              "      <td>16.617828</td>\n",
              "      <td>20.766523</td>\n",
              "      <td>25.253566</td>\n",
              "      <td>29.513198</td>\n",
              "      <td>34.230838</td>\n",
              "      <td>37.365156</td>\n",
              "      <td>40.709345</td>\n",
              "      <td>44.577349</td>\n",
              "      <td>46.812103</td>\n",
              "      <td>East Asia &amp; Pacific (all income levels)</td>\n",
              "      <td>NaN</td>\n",
              "    </tr>\n",
              "    <tr>\n",
              "      <th>7016</th>\n",
              "      <td>IT.CMP.PCMP.P2</td>\n",
              "      <td>Infrastructure: Communications</td>\n",
              "      <td>Personal computers (per 100 people)</td>\n",
              "      <td>Personal computers are self-contained computer...</td>\n",
              "      <td>East Asia &amp; Pacific (excluding high income)</td>\n",
              "      <td>EAP</td>\n",
              "      <td>IT.CMP.PCMP.P2</td>\n",
              "      <td>4.696416</td>\n",
              "      <td>5.495883</td>\n",
              "      <td>NaN</td>\n",
              "      <td>NaN</td>\n",
              "      <td>NaN</td>\n",
              "      <td>NaN</td>\n",
              "      <td>NaN</td>\n",
              "      <td>NaN</td>\n",
              "      <td>NaN</td>\n",
              "      <td>NaN</td>\n",
              "      <td>East Asia &amp; Pacific (developing only)</td>\n",
              "      <td>NaN</td>\n",
              "    </tr>\n",
              "  </tbody>\n",
              "</table>\n",
              "</div>"
            ],
            "text/plain": [
              "         Series Code  ... Income Group\n",
              "610   IT.CMP.PCMP.P2  ...          NaN\n",
              "611   IT.NET.USER.P2  ...          NaN\n",
              "3813  IT.CMP.PCMP.P2  ...          NaN\n",
              "3814  IT.NET.USER.P2  ...          NaN\n",
              "7016  IT.CMP.PCMP.P2  ...          NaN\n",
              "\n",
              "[5 rows x 19 columns]"
            ]
          },
          "metadata": {
            "tags": []
          },
          "execution_count": 539
        }
      ]
    },
    {
      "cell_type": "code",
      "metadata": {
        "id": "91Uhx0piBBKZ"
      },
      "source": [
        "somecountries_df_Infra=somecountries_df_Infra.loc[somecountries_df_Infra['Country Code'].isin(['ARB', 'EAS', 'EAP', 'EMU', 'ECS', 'ECA', 'EUU', 'HPC', 'HIC']),:]"
      ],
      "execution_count": null,
      "outputs": []
    },
    {
      "cell_type": "code",
      "metadata": {
        "id": "egq7JuYZJgzw"
      },
      "source": [
        "somecountries_df_Infra=somecountries_df_Infra.loc[somecountries_df_Infra['Indicator Code']=='IT.NET.USER.P2',:]"
      ],
      "execution_count": null,
      "outputs": []
    },
    {
      "cell_type": "code",
      "metadata": {
        "colab": {
          "base_uri": "https://localhost:8080/",
          "height": 581
        },
        "id": "7CfXSU9-BsjQ",
        "outputId": "a29d145f-0286-40b5-9cd3-993b0ad13f99"
      },
      "source": [
        "somecountries_df_Infra.head()"
      ],
      "execution_count": null,
      "outputs": [
        {
          "output_type": "execute_result",
          "data": {
            "text/html": [
              "<div>\n",
              "<style scoped>\n",
              "    .dataframe tbody tr th:only-of-type {\n",
              "        vertical-align: middle;\n",
              "    }\n",
              "\n",
              "    .dataframe tbody tr th {\n",
              "        vertical-align: top;\n",
              "    }\n",
              "\n",
              "    .dataframe thead th {\n",
              "        text-align: right;\n",
              "    }\n",
              "</style>\n",
              "<table border=\"1\" class=\"dataframe\">\n",
              "  <thead>\n",
              "    <tr style=\"text-align: right;\">\n",
              "      <th></th>\n",
              "      <th>Series Code</th>\n",
              "      <th>Topic</th>\n",
              "      <th>Indicator Name</th>\n",
              "      <th>Long definition</th>\n",
              "      <th>Country Name</th>\n",
              "      <th>Country Code</th>\n",
              "      <th>Indicator Code</th>\n",
              "      <th>2005</th>\n",
              "      <th>2006</th>\n",
              "      <th>2007</th>\n",
              "      <th>2008</th>\n",
              "      <th>2009</th>\n",
              "      <th>2010</th>\n",
              "      <th>2011</th>\n",
              "      <th>2012</th>\n",
              "      <th>2013</th>\n",
              "      <th>2014</th>\n",
              "      <th>Short Name</th>\n",
              "      <th>Income Group</th>\n",
              "    </tr>\n",
              "  </thead>\n",
              "  <tbody>\n",
              "    <tr>\n",
              "      <th>611</th>\n",
              "      <td>IT.NET.USER.P2</td>\n",
              "      <td>Infrastructure: Communications</td>\n",
              "      <td>Internet users (per 100 people)</td>\n",
              "      <td>Internet users are individuals who have used t...</td>\n",
              "      <td>Arab World</td>\n",
              "      <td>ARB</td>\n",
              "      <td>IT.NET.USER.P2</td>\n",
              "      <td>8.393142</td>\n",
              "      <td>11.654648</td>\n",
              "      <td>14.205902</td>\n",
              "      <td>18.593531</td>\n",
              "      <td>22.973689</td>\n",
              "      <td>26.747251</td>\n",
              "      <td>29.707761</td>\n",
              "      <td>34.014224</td>\n",
              "      <td>36.868602</td>\n",
              "      <td>NaN</td>\n",
              "      <td>Arab World</td>\n",
              "      <td>NaN</td>\n",
              "    </tr>\n",
              "    <tr>\n",
              "      <th>3814</th>\n",
              "      <td>IT.NET.USER.P2</td>\n",
              "      <td>Infrastructure: Communications</td>\n",
              "      <td>Internet users (per 100 people)</td>\n",
              "      <td>Internet users are individuals who have used t...</td>\n",
              "      <td>East Asia &amp; Pacific</td>\n",
              "      <td>EAS</td>\n",
              "      <td>IT.NET.USER.P2</td>\n",
              "      <td>14.666359</td>\n",
              "      <td>16.617828</td>\n",
              "      <td>20.766523</td>\n",
              "      <td>25.253566</td>\n",
              "      <td>29.513198</td>\n",
              "      <td>34.230838</td>\n",
              "      <td>37.365156</td>\n",
              "      <td>40.709345</td>\n",
              "      <td>44.577349</td>\n",
              "      <td>46.812103</td>\n",
              "      <td>East Asia &amp; Pacific (all income levels)</td>\n",
              "      <td>NaN</td>\n",
              "    </tr>\n",
              "    <tr>\n",
              "      <th>7017</th>\n",
              "      <td>IT.NET.USER.P2</td>\n",
              "      <td>Infrastructure: Communications</td>\n",
              "      <td>Internet users (per 100 people)</td>\n",
              "      <td>Internet users are individuals who have used t...</td>\n",
              "      <td>East Asia &amp; Pacific (excluding high income)</td>\n",
              "      <td>EAP</td>\n",
              "      <td>IT.NET.USER.P2</td>\n",
              "      <td>8.319143</td>\n",
              "      <td>10.173972</td>\n",
              "      <td>14.382694</td>\n",
              "      <td>19.260138</td>\n",
              "      <td>23.769242</td>\n",
              "      <td>28.957572</td>\n",
              "      <td>32.385761</td>\n",
              "      <td>36.068349</td>\n",
              "      <td>39.708933</td>\n",
              "      <td>42.062234</td>\n",
              "      <td>East Asia &amp; Pacific (developing only)</td>\n",
              "      <td>NaN</td>\n",
              "    </tr>\n",
              "    <tr>\n",
              "      <th>10220</th>\n",
              "      <td>IT.NET.USER.P2</td>\n",
              "      <td>Infrastructure: Communications</td>\n",
              "      <td>Internet users (per 100 people)</td>\n",
              "      <td>Internet users are individuals who have used t...</td>\n",
              "      <td>Euro area</td>\n",
              "      <td>EMU</td>\n",
              "      <td>IT.NET.USER.P2</td>\n",
              "      <td>51.260509</td>\n",
              "      <td>54.936501</td>\n",
              "      <td>61.383050</td>\n",
              "      <td>64.843610</td>\n",
              "      <td>67.129830</td>\n",
              "      <td>71.036722</td>\n",
              "      <td>72.001164</td>\n",
              "      <td>74.092136</td>\n",
              "      <td>75.821560</td>\n",
              "      <td>77.002322</td>\n",
              "      <td>Euro area</td>\n",
              "      <td>NaN</td>\n",
              "    </tr>\n",
              "    <tr>\n",
              "      <th>13423</th>\n",
              "      <td>IT.NET.USER.P2</td>\n",
              "      <td>Infrastructure: Communications</td>\n",
              "      <td>Internet users (per 100 people)</td>\n",
              "      <td>Internet users are individuals who have used t...</td>\n",
              "      <td>Europe &amp; Central Asia</td>\n",
              "      <td>ECS</td>\n",
              "      <td>IT.NET.USER.P2</td>\n",
              "      <td>35.226932</td>\n",
              "      <td>38.083487</td>\n",
              "      <td>43.674382</td>\n",
              "      <td>47.359045</td>\n",
              "      <td>50.566038</td>\n",
              "      <td>56.119117</td>\n",
              "      <td>58.834630</td>\n",
              "      <td>63.486253</td>\n",
              "      <td>66.306669</td>\n",
              "      <td>68.944351</td>\n",
              "      <td>Europe &amp; Central Asia (all income levels)</td>\n",
              "      <td>NaN</td>\n",
              "    </tr>\n",
              "  </tbody>\n",
              "</table>\n",
              "</div>"
            ],
            "text/plain": [
              "          Series Code  ... Income Group\n",
              "611    IT.NET.USER.P2  ...          NaN\n",
              "3814   IT.NET.USER.P2  ...          NaN\n",
              "7017   IT.NET.USER.P2  ...          NaN\n",
              "10220  IT.NET.USER.P2  ...          NaN\n",
              "13423  IT.NET.USER.P2  ...          NaN\n",
              "\n",
              "[5 rows x 19 columns]"
            ]
          },
          "metadata": {
            "tags": []
          },
          "execution_count": 542
        }
      ]
    },
    {
      "cell_type": "code",
      "metadata": {
        "colab": {
          "base_uri": "https://localhost:8080/"
        },
        "id": "FLsl1jElMw0i",
        "outputId": "bd953ba1-d11e-4349-b321-1ef6c2514bc5"
      },
      "source": [
        "somecountries_df_Infra['Long definition'].unique()"
      ],
      "execution_count": null,
      "outputs": [
        {
          "output_type": "execute_result",
          "data": {
            "text/plain": [
              "array(['Internet users are individuals who have used the Internet (from any location) in the last 3 months. The Internet can be used via a computer, mobile phone, personal digital assistant, games machine, digital TV etc.'],\n",
              "      dtype=object)"
            ]
          },
          "metadata": {
            "tags": []
          },
          "execution_count": 543
        }
      ]
    },
    {
      "cell_type": "code",
      "metadata": {
        "id": "pUbdkFXdLEHM"
      },
      "source": [
        "somecountries_df_Infra=somecountries_df_Infra[['Country Code', '2005', '2006','2007', '2008', '2009', '2010', '2011', '2012', '2013', '2014']]"
      ],
      "execution_count": null,
      "outputs": []
    },
    {
      "cell_type": "code",
      "metadata": {
        "id": "E-h4Re3xAUsd"
      },
      "source": [
        "somecountries_df_Infra.set_index(somecountries_df_Infra['Country Code'], drop=True, append=False, inplace=True, verify_integrity=False)"
      ],
      "execution_count": null,
      "outputs": []
    },
    {
      "cell_type": "code",
      "metadata": {
        "id": "pvnsZd1BLVKM"
      },
      "source": [
        "somecountries_df_Infra.drop('Country Code',axis=1,inplace=True)"
      ],
      "execution_count": null,
      "outputs": []
    },
    {
      "cell_type": "code",
      "metadata": {
        "id": "uFCQOPXvL0g-"
      },
      "source": [
        "somecountries_df_Infra=somecountries_df_Infra.ffill(axis=1)"
      ],
      "execution_count": null,
      "outputs": []
    },
    {
      "cell_type": "code",
      "metadata": {
        "id": "2B9lhioTMAAU"
      },
      "source": [
        "somecountries_df_Infra=somecountries_df_Infra.transpose()"
      ],
      "execution_count": null,
      "outputs": []
    },
    {
      "cell_type": "code",
      "metadata": {
        "colab": {
          "base_uri": "https://localhost:8080/",
          "height": 365
        },
        "id": "9_-k1FpvAlji",
        "outputId": "8dbcb39f-e67b-46b8-82c2-bbd772bb6437"
      },
      "source": [
        "somecountries_df_Infra"
      ],
      "execution_count": null,
      "outputs": [
        {
          "output_type": "execute_result",
          "data": {
            "text/html": [
              "<div>\n",
              "<style scoped>\n",
              "    .dataframe tbody tr th:only-of-type {\n",
              "        vertical-align: middle;\n",
              "    }\n",
              "\n",
              "    .dataframe tbody tr th {\n",
              "        vertical-align: top;\n",
              "    }\n",
              "\n",
              "    .dataframe thead th {\n",
              "        text-align: right;\n",
              "    }\n",
              "</style>\n",
              "<table border=\"1\" class=\"dataframe\">\n",
              "  <thead>\n",
              "    <tr style=\"text-align: right;\">\n",
              "      <th>Country Code</th>\n",
              "      <th>ARB</th>\n",
              "      <th>EAS</th>\n",
              "      <th>EAP</th>\n",
              "      <th>EMU</th>\n",
              "      <th>ECS</th>\n",
              "      <th>ECA</th>\n",
              "      <th>EUU</th>\n",
              "      <th>HPC</th>\n",
              "      <th>HIC</th>\n",
              "    </tr>\n",
              "  </thead>\n",
              "  <tbody>\n",
              "    <tr>\n",
              "      <th>2005</th>\n",
              "      <td>8.393142</td>\n",
              "      <td>14.666359</td>\n",
              "      <td>8.319143</td>\n",
              "      <td>51.260509</td>\n",
              "      <td>35.226932</td>\n",
              "      <td>12.711557</td>\n",
              "      <td>50.972086</td>\n",
              "      <td>1.213447</td>\n",
              "      <td>58.782014</td>\n",
              "    </tr>\n",
              "    <tr>\n",
              "      <th>2006</th>\n",
              "      <td>11.654648</td>\n",
              "      <td>16.617828</td>\n",
              "      <td>10.173972</td>\n",
              "      <td>54.936501</td>\n",
              "      <td>38.083487</td>\n",
              "      <td>15.270499</td>\n",
              "      <td>54.546314</td>\n",
              "      <td>1.557896</td>\n",
              "      <td>61.473182</td>\n",
              "    </tr>\n",
              "    <tr>\n",
              "      <th>2007</th>\n",
              "      <td>14.205902</td>\n",
              "      <td>20.766523</td>\n",
              "      <td>14.382694</td>\n",
              "      <td>61.383050</td>\n",
              "      <td>43.674382</td>\n",
              "      <td>20.621900</td>\n",
              "      <td>60.295278</td>\n",
              "      <td>2.426621</td>\n",
              "      <td>66.890396</td>\n",
              "    </tr>\n",
              "    <tr>\n",
              "      <th>2008</th>\n",
              "      <td>18.593531</td>\n",
              "      <td>25.253566</td>\n",
              "      <td>19.260138</td>\n",
              "      <td>64.843610</td>\n",
              "      <td>47.359045</td>\n",
              "      <td>24.129248</td>\n",
              "      <td>64.189137</td>\n",
              "      <td>2.527283</td>\n",
              "      <td>68.980459</td>\n",
              "    </tr>\n",
              "    <tr>\n",
              "      <th>2009</th>\n",
              "      <td>22.973689</td>\n",
              "      <td>29.513198</td>\n",
              "      <td>23.769242</td>\n",
              "      <td>67.129830</td>\n",
              "      <td>50.566038</td>\n",
              "      <td>27.739555</td>\n",
              "      <td>67.214643</td>\n",
              "      <td>3.153333</td>\n",
              "      <td>70.190163</td>\n",
              "    </tr>\n",
              "    <tr>\n",
              "      <th>2010</th>\n",
              "      <td>26.747251</td>\n",
              "      <td>34.230838</td>\n",
              "      <td>28.957572</td>\n",
              "      <td>71.036722</td>\n",
              "      <td>56.119117</td>\n",
              "      <td>35.884481</td>\n",
              "      <td>70.630896</td>\n",
              "      <td>4.929979</td>\n",
              "      <td>72.280414</td>\n",
              "    </tr>\n",
              "    <tr>\n",
              "      <th>2011</th>\n",
              "      <td>29.707761</td>\n",
              "      <td>37.365156</td>\n",
              "      <td>32.385761</td>\n",
              "      <td>72.001164</td>\n",
              "      <td>58.834630</td>\n",
              "      <td>40.787203</td>\n",
              "      <td>71.558066</td>\n",
              "      <td>5.408633</td>\n",
              "      <td>72.819457</td>\n",
              "    </tr>\n",
              "    <tr>\n",
              "      <th>2012</th>\n",
              "      <td>34.014224</td>\n",
              "      <td>40.709345</td>\n",
              "      <td>36.068349</td>\n",
              "      <td>74.092136</td>\n",
              "      <td>63.486253</td>\n",
              "      <td>48.703942</td>\n",
              "      <td>73.699365</td>\n",
              "      <td>6.684818</td>\n",
              "      <td>75.525010</td>\n",
              "    </tr>\n",
              "    <tr>\n",
              "      <th>2013</th>\n",
              "      <td>36.868602</td>\n",
              "      <td>44.577349</td>\n",
              "      <td>39.708933</td>\n",
              "      <td>75.821560</td>\n",
              "      <td>66.306669</td>\n",
              "      <td>52.870309</td>\n",
              "      <td>75.497623</td>\n",
              "      <td>8.144384</td>\n",
              "      <td>76.842757</td>\n",
              "    </tr>\n",
              "    <tr>\n",
              "      <th>2014</th>\n",
              "      <td>36.868602</td>\n",
              "      <td>46.812103</td>\n",
              "      <td>42.062234</td>\n",
              "      <td>77.002322</td>\n",
              "      <td>68.944351</td>\n",
              "      <td>56.901420</td>\n",
              "      <td>75.497623</td>\n",
              "      <td>10.459854</td>\n",
              "      <td>78.472283</td>\n",
              "    </tr>\n",
              "  </tbody>\n",
              "</table>\n",
              "</div>"
            ],
            "text/plain": [
              "Country Code        ARB        EAS        EAP  ...        EUU        HPC        HIC\n",
              "2005           8.393142  14.666359   8.319143  ...  50.972086   1.213447  58.782014\n",
              "2006          11.654648  16.617828  10.173972  ...  54.546314   1.557896  61.473182\n",
              "2007          14.205902  20.766523  14.382694  ...  60.295278   2.426621  66.890396\n",
              "2008          18.593531  25.253566  19.260138  ...  64.189137   2.527283  68.980459\n",
              "2009          22.973689  29.513198  23.769242  ...  67.214643   3.153333  70.190163\n",
              "2010          26.747251  34.230838  28.957572  ...  70.630896   4.929979  72.280414\n",
              "2011          29.707761  37.365156  32.385761  ...  71.558066   5.408633  72.819457\n",
              "2012          34.014224  40.709345  36.068349  ...  73.699365   6.684818  75.525010\n",
              "2013          36.868602  44.577349  39.708933  ...  75.497623   8.144384  76.842757\n",
              "2014          36.868602  46.812103  42.062234  ...  75.497623  10.459854  78.472283\n",
              "\n",
              "[10 rows x 9 columns]"
            ]
          },
          "metadata": {
            "tags": []
          },
          "execution_count": 549
        }
      ]
    },
    {
      "cell_type": "code",
      "metadata": {
        "colab": {
          "base_uri": "https://localhost:8080/",
          "height": 313
        },
        "id": "v5clLEQ0K1sL",
        "outputId": "bd46af0c-a3b4-4338-b011-70088ce1b7f9"
      },
      "source": [
        "somecountries_df_Infra.plot()\r\n",
        "\r\n",
        "plt.title('Internet users per 100 people from different countries')\r\n",
        "plt.ylabel('No of users')\r\n",
        "plt.xlabel('Years')"
      ],
      "execution_count": null,
      "outputs": [
        {
          "output_type": "execute_result",
          "data": {
            "text/plain": [
              "Text(0.5, 0, 'Years')"
            ]
          },
          "metadata": {
            "tags": []
          },
          "execution_count": 550
        },
        {
          "output_type": "display_data",
          "data": {
            "image/png": "[encoded data removed]",
            "text/plain": [
              "<Figure size 432x288 with 1 Axes>"
            ]
          },
          "metadata": {
            "tags": [],
            "needs_background": "light"
          }
        }
      ]
    },
    {
      "cell_type": "markdown",
      "metadata": {
        "id": "LuIq1IzlOI4b"
      },
      "source": [
        "#Inference from the graph\r\n",
        "No of internet users is the maximum in HIC i.e., High Income countries. And HPC i.e., Heavily indebted poor countries have the minimum no of internet users"
      ]
    },
    {
      "cell_type": "code",
      "metadata": {
        "id": "CRow-QQ6NJ0_"
      },
      "source": [
        "somecountries_df_HRisk=somecountries_df.loc[somecountries_df['Topic']=='Health: Risk factors',:]"
      ],
      "execution_count": null,
      "outputs": []
    },
    {
      "cell_type": "code",
      "metadata": {
        "id": "Sq_NtcMWZrlN"
      },
      "source": [
        "somecountries_df_HRisk=somecountries_df_HRisk.loc[somecountries_df_HRisk['Country Code'].isin(['ARB', 'EAS', 'EAP', 'EMU', 'ECS', 'ECA', 'EUU', 'HPC', 'HIC']),:]"
      ],
      "execution_count": null,
      "outputs": []
    },
    {
      "cell_type": "code",
      "metadata": {
        "colab": {
          "base_uri": "https://localhost:8080/",
          "height": 995
        },
        "id": "V08QZH_pZ_8F",
        "outputId": "55dba234-4b24-4f5a-d41b-f5bf71d477cb"
      },
      "source": [
        "somecountries_df_HRisk"
      ],
      "execution_count": null,
      "outputs": [
        {
          "output_type": "execute_result",
          "data": {
            "text/html": [
              "<div>\n",
              "<style scoped>\n",
              "    .dataframe tbody tr th:only-of-type {\n",
              "        vertical-align: middle;\n",
              "    }\n",
              "\n",
              "    .dataframe tbody tr th {\n",
              "        vertical-align: top;\n",
              "    }\n",
              "\n",
              "    .dataframe thead th {\n",
              "        text-align: right;\n",
              "    }\n",
              "</style>\n",
              "<table border=\"1\" class=\"dataframe\">\n",
              "  <thead>\n",
              "    <tr style=\"text-align: right;\">\n",
              "      <th></th>\n",
              "      <th>Series Code</th>\n",
              "      <th>Topic</th>\n",
              "      <th>Indicator Name</th>\n",
              "      <th>Long definition</th>\n",
              "      <th>Country Name</th>\n",
              "      <th>Country Code</th>\n",
              "      <th>Indicator Code</th>\n",
              "      <th>2005</th>\n",
              "      <th>2006</th>\n",
              "      <th>2007</th>\n",
              "      <th>2008</th>\n",
              "      <th>2009</th>\n",
              "      <th>2010</th>\n",
              "      <th>2011</th>\n",
              "      <th>2012</th>\n",
              "      <th>2013</th>\n",
              "      <th>2014</th>\n",
              "      <th>Short Name</th>\n",
              "      <th>Income Group</th>\n",
              "    </tr>\n",
              "  </thead>\n",
              "  <tbody>\n",
              "    <tr>\n",
              "      <th>1996</th>\n",
              "      <td>SH.DYN.AIDS.ZS</td>\n",
              "      <td>Health: Risk factors</td>\n",
              "      <td>Prevalence of HIV, total (% of population ages...</td>\n",
              "      <td>Prevalence of HIV refers to the percentage of ...</td>\n",
              "      <td>Arab World</td>\n",
              "      <td>ARB</td>\n",
              "      <td>SH.DYN.AIDS.ZS</td>\n",
              "      <td>0.139399</td>\n",
              "      <td>NaN</td>\n",
              "      <td>NaN</td>\n",
              "      <td>NaN</td>\n",
              "      <td>NaN</td>\n",
              "      <td>NaN</td>\n",
              "      <td>NaN</td>\n",
              "      <td>NaN</td>\n",
              "      <td>NaN</td>\n",
              "      <td>NaN</td>\n",
              "      <td>Arab World</td>\n",
              "      <td>NaN</td>\n",
              "    </tr>\n",
              "    <tr>\n",
              "      <th>5199</th>\n",
              "      <td>SH.DYN.AIDS.ZS</td>\n",
              "      <td>Health: Risk factors</td>\n",
              "      <td>Prevalence of HIV, total (% of population ages...</td>\n",
              "      <td>Prevalence of HIV refers to the percentage of ...</td>\n",
              "      <td>East Asia &amp; Pacific</td>\n",
              "      <td>EAS</td>\n",
              "      <td>SH.DYN.AIDS.ZS</td>\n",
              "      <td>NaN</td>\n",
              "      <td>NaN</td>\n",
              "      <td>NaN</td>\n",
              "      <td>NaN</td>\n",
              "      <td>NaN</td>\n",
              "      <td>NaN</td>\n",
              "      <td>NaN</td>\n",
              "      <td>NaN</td>\n",
              "      <td>NaN</td>\n",
              "      <td>NaN</td>\n",
              "      <td>East Asia &amp; Pacific (all income levels)</td>\n",
              "      <td>NaN</td>\n",
              "    </tr>\n",
              "    <tr>\n",
              "      <th>8402</th>\n",
              "      <td>SH.DYN.AIDS.ZS</td>\n",
              "      <td>Health: Risk factors</td>\n",
              "      <td>Prevalence of HIV, total (% of population ages...</td>\n",
              "      <td>Prevalence of HIV refers to the percentage of ...</td>\n",
              "      <td>East Asia &amp; Pacific (excluding high income)</td>\n",
              "      <td>EAP</td>\n",
              "      <td>SH.DYN.AIDS.ZS</td>\n",
              "      <td>NaN</td>\n",
              "      <td>NaN</td>\n",
              "      <td>NaN</td>\n",
              "      <td>NaN</td>\n",
              "      <td>NaN</td>\n",
              "      <td>NaN</td>\n",
              "      <td>NaN</td>\n",
              "      <td>NaN</td>\n",
              "      <td>NaN</td>\n",
              "      <td>NaN</td>\n",
              "      <td>East Asia &amp; Pacific (developing only)</td>\n",
              "      <td>NaN</td>\n",
              "    </tr>\n",
              "    <tr>\n",
              "      <th>11605</th>\n",
              "      <td>SH.DYN.AIDS.ZS</td>\n",
              "      <td>Health: Risk factors</td>\n",
              "      <td>Prevalence of HIV, total (% of population ages...</td>\n",
              "      <td>Prevalence of HIV refers to the percentage of ...</td>\n",
              "      <td>Euro area</td>\n",
              "      <td>EMU</td>\n",
              "      <td>SH.DYN.AIDS.ZS</td>\n",
              "      <td>NaN</td>\n",
              "      <td>NaN</td>\n",
              "      <td>NaN</td>\n",
              "      <td>NaN</td>\n",
              "      <td>NaN</td>\n",
              "      <td>NaN</td>\n",
              "      <td>NaN</td>\n",
              "      <td>NaN</td>\n",
              "      <td>NaN</td>\n",
              "      <td>NaN</td>\n",
              "      <td>Euro area</td>\n",
              "      <td>NaN</td>\n",
              "    </tr>\n",
              "    <tr>\n",
              "      <th>14808</th>\n",
              "      <td>SH.DYN.AIDS.ZS</td>\n",
              "      <td>Health: Risk factors</td>\n",
              "      <td>Prevalence of HIV, total (% of population ages...</td>\n",
              "      <td>Prevalence of HIV refers to the percentage of ...</td>\n",
              "      <td>Europe &amp; Central Asia</td>\n",
              "      <td>ECS</td>\n",
              "      <td>SH.DYN.AIDS.ZS</td>\n",
              "      <td>NaN</td>\n",
              "      <td>NaN</td>\n",
              "      <td>NaN</td>\n",
              "      <td>NaN</td>\n",
              "      <td>NaN</td>\n",
              "      <td>NaN</td>\n",
              "      <td>NaN</td>\n",
              "      <td>NaN</td>\n",
              "      <td>NaN</td>\n",
              "      <td>NaN</td>\n",
              "      <td>Europe &amp; Central Asia (all income levels)</td>\n",
              "      <td>NaN</td>\n",
              "    </tr>\n",
              "    <tr>\n",
              "      <th>18011</th>\n",
              "      <td>SH.DYN.AIDS.ZS</td>\n",
              "      <td>Health: Risk factors</td>\n",
              "      <td>Prevalence of HIV, total (% of population ages...</td>\n",
              "      <td>Prevalence of HIV refers to the percentage of ...</td>\n",
              "      <td>Europe &amp; Central Asia (excluding high income)</td>\n",
              "      <td>ECA</td>\n",
              "      <td>SH.DYN.AIDS.ZS</td>\n",
              "      <td>NaN</td>\n",
              "      <td>NaN</td>\n",
              "      <td>NaN</td>\n",
              "      <td>NaN</td>\n",
              "      <td>NaN</td>\n",
              "      <td>NaN</td>\n",
              "      <td>NaN</td>\n",
              "      <td>NaN</td>\n",
              "      <td>NaN</td>\n",
              "      <td>NaN</td>\n",
              "      <td>Europe &amp; Central Asia (developing only)</td>\n",
              "      <td>NaN</td>\n",
              "    </tr>\n",
              "    <tr>\n",
              "      <th>21214</th>\n",
              "      <td>SH.DYN.AIDS.ZS</td>\n",
              "      <td>Health: Risk factors</td>\n",
              "      <td>Prevalence of HIV, total (% of population ages...</td>\n",
              "      <td>Prevalence of HIV refers to the percentage of ...</td>\n",
              "      <td>European Union</td>\n",
              "      <td>EUU</td>\n",
              "      <td>SH.DYN.AIDS.ZS</td>\n",
              "      <td>NaN</td>\n",
              "      <td>NaN</td>\n",
              "      <td>NaN</td>\n",
              "      <td>NaN</td>\n",
              "      <td>NaN</td>\n",
              "      <td>NaN</td>\n",
              "      <td>NaN</td>\n",
              "      <td>NaN</td>\n",
              "      <td>NaN</td>\n",
              "      <td>NaN</td>\n",
              "      <td>European Union</td>\n",
              "      <td>NaN</td>\n",
              "    </tr>\n",
              "    <tr>\n",
              "      <th>24417</th>\n",
              "      <td>SH.DYN.AIDS.ZS</td>\n",
              "      <td>Health: Risk factors</td>\n",
              "      <td>Prevalence of HIV, total (% of population ages...</td>\n",
              "      <td>Prevalence of HIV refers to the percentage of ...</td>\n",
              "      <td>Heavily indebted poor countries (HIPC)</td>\n",
              "      <td>HPC</td>\n",
              "      <td>SH.DYN.AIDS.ZS</td>\n",
              "      <td>3.506696</td>\n",
              "      <td>3.377594</td>\n",
              "      <td>3.256784</td>\n",
              "      <td>3.155965</td>\n",
              "      <td>3.071804</td>\n",
              "      <td>2.989492</td>\n",
              "      <td>2.904175</td>\n",
              "      <td>2.831297</td>\n",
              "      <td>2.74988</td>\n",
              "      <td>2.677808</td>\n",
              "      <td>Heavily indebted poor countries (HIPC)</td>\n",
              "      <td>NaN</td>\n",
              "    </tr>\n",
              "    <tr>\n",
              "      <th>27620</th>\n",
              "      <td>SH.DYN.AIDS.ZS</td>\n",
              "      <td>Health: Risk factors</td>\n",
              "      <td>Prevalence of HIV, total (% of population ages...</td>\n",
              "      <td>Prevalence of HIV refers to the percentage of ...</td>\n",
              "      <td>High income</td>\n",
              "      <td>HIC</td>\n",
              "      <td>SH.DYN.AIDS.ZS</td>\n",
              "      <td>NaN</td>\n",
              "      <td>NaN</td>\n",
              "      <td>NaN</td>\n",
              "      <td>NaN</td>\n",
              "      <td>NaN</td>\n",
              "      <td>NaN</td>\n",
              "      <td>NaN</td>\n",
              "      <td>NaN</td>\n",
              "      <td>NaN</td>\n",
              "      <td>NaN</td>\n",
              "      <td>High income</td>\n",
              "      <td>NaN</td>\n",
              "    </tr>\n",
              "  </tbody>\n",
              "</table>\n",
              "</div>"
            ],
            "text/plain": [
              "          Series Code  ... Income Group\n",
              "1996   SH.DYN.AIDS.ZS  ...          NaN\n",
              "5199   SH.DYN.AIDS.ZS  ...          NaN\n",
              "8402   SH.DYN.AIDS.ZS  ...          NaN\n",
              "11605  SH.DYN.AIDS.ZS  ...          NaN\n",
              "14808  SH.DYN.AIDS.ZS  ...          NaN\n",
              "18011  SH.DYN.AIDS.ZS  ...          NaN\n",
              "21214  SH.DYN.AIDS.ZS  ...          NaN\n",
              "24417  SH.DYN.AIDS.ZS  ...          NaN\n",
              "27620  SH.DYN.AIDS.ZS  ...          NaN\n",
              "\n",
              "[9 rows x 19 columns]"
            ]
          },
          "metadata": {
            "tags": []
          },
          "execution_count": 555
        }
      ]
    },
    {
      "cell_type": "markdown",
      "metadata": {
        "id": "XOdqJu3dagMG"
      },
      "source": [
        "Health risk factor data is not available for most of the countries"
      ]
    },
    {
      "cell_type": "code",
      "metadata": {
        "id": "OIpA0t9yaFM4"
      },
      "source": [
        "somecountries_df_Ler=somecountries_df.loc[somecountries_df['Topic']=='Learning Outcomes',:]"
      ],
      "execution_count": null,
      "outputs": []
    },
    {
      "cell_type": "code",
      "metadata": {
        "id": "hJ13yAada3Cq"
      },
      "source": [
        "somecountries_df_Ler=somecountries_df_Ler.loc[somecountries_df_Ler['Country Code'].isin(['ARB', 'EAS', 'EAP', 'EMU', 'ECS', 'ECA', 'EUU', 'HPC', 'HIC']),:]"
      ],
      "execution_count": null,
      "outputs": []
    },
    {
      "cell_type": "code",
      "metadata": {
        "colab": {
          "base_uri": "https://localhost:8080/",
          "height": 1000
        },
        "id": "Dr7oqfsda-XB",
        "outputId": "366e987a-cecf-44ff-bd97-3351f182087a"
      },
      "source": [
        "somecountries_df_Ler"
      ],
      "execution_count": null,
      "outputs": [
        {
          "output_type": "execute_result",
          "data": {
            "text/html": [
              "<div>\n",
              "<style scoped>\n",
              "    .dataframe tbody tr th:only-of-type {\n",
              "        vertical-align: middle;\n",
              "    }\n",
              "\n",
              "    .dataframe tbody tr th {\n",
              "        vertical-align: top;\n",
              "    }\n",
              "\n",
              "    .dataframe thead th {\n",
              "        text-align: right;\n",
              "    }\n",
              "</style>\n",
              "<table border=\"1\" class=\"dataframe\">\n",
              "  <thead>\n",
              "    <tr style=\"text-align: right;\">\n",
              "      <th></th>\n",
              "      <th>Series Code</th>\n",
              "      <th>Topic</th>\n",
              "      <th>Indicator Name</th>\n",
              "      <th>Long definition</th>\n",
              "      <th>Country Name</th>\n",
              "      <th>Country Code</th>\n",
              "      <th>Indicator Code</th>\n",
              "      <th>2005</th>\n",
              "      <th>2006</th>\n",
              "      <th>2007</th>\n",
              "      <th>2008</th>\n",
              "      <th>2009</th>\n",
              "      <th>2010</th>\n",
              "      <th>2011</th>\n",
              "      <th>2012</th>\n",
              "      <th>2013</th>\n",
              "      <th>2014</th>\n",
              "      <th>Short Name</th>\n",
              "      <th>Income Group</th>\n",
              "    </tr>\n",
              "  </thead>\n",
              "  <tbody>\n",
              "    <tr>\n",
              "      <th>1794</th>\n",
              "      <td>SABER.TER.GOAL1</td>\n",
              "      <td>Tertiary Education (SABER)</td>\n",
              "      <td>SABER: (Tertiary Education) Policy Goal 1: Vis...</td>\n",
              "      <td>Data Interpretation: 1=Latent; 2=Emerging; 3=E...</td>\n",
              "      <td>Arab World</td>\n",
              "      <td>ARB</td>\n",
              "      <td>SABER.TER.GOAL1</td>\n",
              "      <td>NaN</td>\n",
              "      <td>NaN</td>\n",
              "      <td>NaN</td>\n",
              "      <td>NaN</td>\n",
              "      <td>NaN</td>\n",
              "      <td>NaN</td>\n",
              "      <td>NaN</td>\n",
              "      <td>NaN</td>\n",
              "      <td>NaN</td>\n",
              "      <td>NaN</td>\n",
              "      <td>Arab World</td>\n",
              "      <td>NaN</td>\n",
              "    </tr>\n",
              "    <tr>\n",
              "      <th>1795</th>\n",
              "      <td>SABER.TER.GOAL1.LVL1</td>\n",
              "      <td>Tertiary Education (SABER)</td>\n",
              "      <td>SABER: (Tertiary Education) Policy Goal 1 Leve...</td>\n",
              "      <td>Data Interpretation: 1=Latent; 2=Emerging; 3=E...</td>\n",
              "      <td>Arab World</td>\n",
              "      <td>ARB</td>\n",
              "      <td>SABER.TER.GOAL1.LVL1</td>\n",
              "      <td>NaN</td>\n",
              "      <td>NaN</td>\n",
              "      <td>NaN</td>\n",
              "      <td>NaN</td>\n",
              "      <td>NaN</td>\n",
              "      <td>NaN</td>\n",
              "      <td>NaN</td>\n",
              "      <td>NaN</td>\n",
              "      <td>NaN</td>\n",
              "      <td>NaN</td>\n",
              "      <td>Arab World</td>\n",
              "      <td>NaN</td>\n",
              "    </tr>\n",
              "    <tr>\n",
              "      <th>1796</th>\n",
              "      <td>SABER.TER.GOAL2</td>\n",
              "      <td>Tertiary Education (SABER)</td>\n",
              "      <td>SABER: (Tertiary Education) Policy Goal 2: Reg...</td>\n",
              "      <td>Data Interpretation: 1=Latent; 2=Emerging; 3=E...</td>\n",
              "      <td>Arab World</td>\n",
              "      <td>ARB</td>\n",
              "      <td>SABER.TER.GOAL2</td>\n",
              "      <td>NaN</td>\n",
              "      <td>NaN</td>\n",
              "      <td>NaN</td>\n",
              "      <td>NaN</td>\n",
              "      <td>NaN</td>\n",
              "      <td>NaN</td>\n",
              "      <td>NaN</td>\n",
              "      <td>NaN</td>\n",
              "      <td>NaN</td>\n",
              "      <td>NaN</td>\n",
              "      <td>Arab World</td>\n",
              "      <td>NaN</td>\n",
              "    </tr>\n",
              "    <tr>\n",
              "      <th>1797</th>\n",
              "      <td>SABER.TER.GOAL2.LVL1</td>\n",
              "      <td>Tertiary Education (SABER)</td>\n",
              "      <td>SABER: (Tertiary Education) Policy Goal 2 Leve...</td>\n",
              "      <td>Data Interpretation: 1=Latent; 2=Emerging; 3=E...</td>\n",
              "      <td>Arab World</td>\n",
              "      <td>ARB</td>\n",
              "      <td>SABER.TER.GOAL2.LVL1</td>\n",
              "      <td>NaN</td>\n",
              "      <td>NaN</td>\n",
              "      <td>NaN</td>\n",
              "      <td>NaN</td>\n",
              "      <td>NaN</td>\n",
              "      <td>NaN</td>\n",
              "      <td>NaN</td>\n",
              "      <td>NaN</td>\n",
              "      <td>NaN</td>\n",
              "      <td>NaN</td>\n",
              "      <td>Arab World</td>\n",
              "      <td>NaN</td>\n",
              "    </tr>\n",
              "    <tr>\n",
              "      <th>1798</th>\n",
              "      <td>SABER.TER.GOAL3</td>\n",
              "      <td>Tertiary Education (SABER)</td>\n",
              "      <td>SABER: (Tertiary Education) Policy Goal 3: Gov...</td>\n",
              "      <td>Data Interpretation: 1=Latent; 2=Emerging; 3=E...</td>\n",
              "      <td>Arab World</td>\n",
              "      <td>ARB</td>\n",
              "      <td>SABER.TER.GOAL3</td>\n",
              "      <td>NaN</td>\n",
              "      <td>NaN</td>\n",
              "      <td>NaN</td>\n",
              "      <td>NaN</td>\n",
              "      <td>NaN</td>\n",
              "      <td>NaN</td>\n",
              "      <td>NaN</td>\n",
              "      <td>NaN</td>\n",
              "      <td>NaN</td>\n",
              "      <td>NaN</td>\n",
              "      <td>Arab World</td>\n",
              "      <td>NaN</td>\n",
              "    </tr>\n",
              "    <tr>\n",
              "      <th>...</th>\n",
              "      <td>...</td>\n",
              "      <td>...</td>\n",
              "      <td>...</td>\n",
              "      <td>...</td>\n",
              "      <td>...</td>\n",
              "      <td>...</td>\n",
              "      <td>...</td>\n",
              "      <td>...</td>\n",
              "      <td>...</td>\n",
              "      <td>...</td>\n",
              "      <td>...</td>\n",
              "      <td>...</td>\n",
              "      <td>...</td>\n",
              "      <td>...</td>\n",
              "      <td>...</td>\n",
              "      <td>...</td>\n",
              "      <td>...</td>\n",
              "      <td>...</td>\n",
              "      <td>...</td>\n",
              "    </tr>\n",
              "    <tr>\n",
              "      <th>27430</th>\n",
              "      <td>SABER.TER.GOAL5.LVL1</td>\n",
              "      <td>Tertiary Education (SABER)</td>\n",
              "      <td>SABER: (Tertiary Education) Policy Goal 5 Leve...</td>\n",
              "      <td>Data Interpretation: 1=Latent; 2=Emerging; 3=E...</td>\n",
              "      <td>High income</td>\n",
              "      <td>HIC</td>\n",
              "      <td>SABER.TER.GOAL5.LVL1</td>\n",
              "      <td>NaN</td>\n",
              "      <td>NaN</td>\n",
              "      <td>NaN</td>\n",
              "      <td>NaN</td>\n",
              "      <td>NaN</td>\n",
              "      <td>NaN</td>\n",
              "      <td>NaN</td>\n",
              "      <td>NaN</td>\n",
              "      <td>NaN</td>\n",
              "      <td>NaN</td>\n",
              "      <td>High income</td>\n",
              "      <td>NaN</td>\n",
              "    </tr>\n",
              "    <tr>\n",
              "      <th>27431</th>\n",
              "      <td>SABER.TER.GOAL6</td>\n",
              "      <td>Tertiary Education (SABER)</td>\n",
              "      <td>SABER: (Tertiary Education) Policy Goal 6: The...</td>\n",
              "      <td>Data Interpretation: 1=Latent; 2=Emerging; 3=E...</td>\n",
              "      <td>High income</td>\n",
              "      <td>HIC</td>\n",
              "      <td>SABER.TER.GOAL6</td>\n",
              "      <td>NaN</td>\n",
              "      <td>NaN</td>\n",
              "      <td>NaN</td>\n",
              "      <td>NaN</td>\n",
              "      <td>NaN</td>\n",
              "      <td>NaN</td>\n",
              "      <td>NaN</td>\n",
              "      <td>NaN</td>\n",
              "      <td>NaN</td>\n",
              "      <td>NaN</td>\n",
              "      <td>High income</td>\n",
              "      <td>NaN</td>\n",
              "    </tr>\n",
              "    <tr>\n",
              "      <th>27432</th>\n",
              "      <td>SABER.TER.GOAL6.LVL1</td>\n",
              "      <td>Tertiary Education (SABER)</td>\n",
              "      <td>SABER: (Tertiary Education) Policy Goal 6 Leve...</td>\n",
              "      <td>Data Interpretation: 1=Latent; 2=Emerging; 3=E...</td>\n",
              "      <td>High income</td>\n",
              "      <td>HIC</td>\n",
              "      <td>SABER.TER.GOAL6.LVL1</td>\n",
              "      <td>NaN</td>\n",
              "      <td>NaN</td>\n",
              "      <td>NaN</td>\n",
              "      <td>NaN</td>\n",
              "      <td>NaN</td>\n",
              "      <td>NaN</td>\n",
              "      <td>NaN</td>\n",
              "      <td>NaN</td>\n",
              "      <td>NaN</td>\n",
              "      <td>NaN</td>\n",
              "      <td>High income</td>\n",
              "      <td>NaN</td>\n",
              "    </tr>\n",
              "    <tr>\n",
              "      <th>27433</th>\n",
              "      <td>SABER.TER.GOAL6.LVL2</td>\n",
              "      <td>Tertiary Education (SABER)</td>\n",
              "      <td>SABER: (Tertiary Education) Policy Goal 6 Leve...</td>\n",
              "      <td>Data Interpretation: 1=Latent; 2=Emerging; 3=E...</td>\n",
              "      <td>High income</td>\n",
              "      <td>HIC</td>\n",
              "      <td>SABER.TER.GOAL6.LVL2</td>\n",
              "      <td>NaN</td>\n",
              "      <td>NaN</td>\n",
              "      <td>NaN</td>\n",
              "      <td>NaN</td>\n",
              "      <td>NaN</td>\n",
              "      <td>NaN</td>\n",
              "      <td>NaN</td>\n",
              "      <td>NaN</td>\n",
              "      <td>NaN</td>\n",
              "      <td>NaN</td>\n",
              "      <td>High income</td>\n",
              "      <td>NaN</td>\n",
              "    </tr>\n",
              "    <tr>\n",
              "      <th>27434</th>\n",
              "      <td>SABER.TER.GOAL6.LVL3</td>\n",
              "      <td>Tertiary Education (SABER)</td>\n",
              "      <td>SABER: (Tertiary Education) Policy Goal 6 Leve...</td>\n",
              "      <td>Data Interpretation: 1=Latent; 2=Emerging; 3=E...</td>\n",
              "      <td>High income</td>\n",
              "      <td>HIC</td>\n",
              "      <td>SABER.TER.GOAL6.LVL3</td>\n",
              "      <td>NaN</td>\n",
              "      <td>NaN</td>\n",
              "      <td>NaN</td>\n",
              "      <td>NaN</td>\n",
              "      <td>NaN</td>\n",
              "      <td>NaN</td>\n",
              "      <td>NaN</td>\n",
              "      <td>NaN</td>\n",
              "      <td>NaN</td>\n",
              "      <td>NaN</td>\n",
              "      <td>High income</td>\n",
              "      <td>NaN</td>\n",
              "    </tr>\n",
              "  </tbody>\n",
              "</table>\n",
              "<p>153 rows × 19 columns</p>\n",
              "</div>"
            ],
            "text/plain": [
              "                Series Code  ... Income Group\n",
              "1794        SABER.TER.GOAL1  ...          NaN\n",
              "1795   SABER.TER.GOAL1.LVL1  ...          NaN\n",
              "1796        SABER.TER.GOAL2  ...          NaN\n",
              "1797   SABER.TER.GOAL2.LVL1  ...          NaN\n",
              "1798        SABER.TER.GOAL3  ...          NaN\n",
              "...                     ...  ...          ...\n",
              "27430  SABER.TER.GOAL5.LVL1  ...          NaN\n",
              "27431       SABER.TER.GOAL6  ...          NaN\n",
              "27432  SABER.TER.GOAL6.LVL1  ...          NaN\n",
              "27433  SABER.TER.GOAL6.LVL2  ...          NaN\n",
              "27434  SABER.TER.GOAL6.LVL3  ...          NaN\n",
              "\n",
              "[153 rows x 19 columns]"
            ]
          },
          "metadata": {
            "tags": []
          },
          "execution_count": 557
        }
      ]
    },
    {
      "cell_type": "markdown",
      "metadata": {
        "id": "Aj1ug-HbeqEp"
      },
      "source": [
        "Learning outcome data is not available for most of the countries"
      ]
    },
    {
      "cell_type": "code",
      "metadata": {
        "id": "W5BIg9_5bEsX"
      },
      "source": [
        "somecountries_df_TEd=somecountries_df.loc[somecountries_df['Topic']=='Tertiary Education (SABER)',:]"
      ],
      "execution_count": null,
      "outputs": []
    },
    {
      "cell_type": "code",
      "metadata": {
        "id": "Oi9Qb_7qfPk0"
      },
      "source": [
        "somecountries_df_TEd=somecountries_df_TEd.loc[somecountries_df_TEd['Country Code'].isin(['ARB', 'EAS', 'EAP', 'EMU', 'ECS', 'ECA', 'EUU', 'HPC', 'HIC']),:]"
      ],
      "execution_count": null,
      "outputs": []
    },
    {
      "cell_type": "code",
      "metadata": {
        "colab": {
          "base_uri": "https://localhost:8080/",
          "height": 85
        },
        "id": "7PcfPbLJfgbT",
        "outputId": "9c53ed2b-e278-4cc0-8e2d-ec4b610d23b1"
      },
      "source": [
        "somecountries_df_TEd"
      ],
      "execution_count": null,
      "outputs": [
        {
          "output_type": "execute_result",
          "data": {
            "text/html": [
              "<div>\n",
              "<style scoped>\n",
              "    .dataframe tbody tr th:only-of-type {\n",
              "        vertical-align: middle;\n",
              "    }\n",
              "\n",
              "    .dataframe tbody tr th {\n",
              "        vertical-align: top;\n",
              "    }\n",
              "\n",
              "    .dataframe thead th {\n",
              "        text-align: right;\n",
              "    }\n",
              "</style>\n",
              "<table border=\"1\" class=\"dataframe\">\n",
              "  <thead>\n",
              "    <tr style=\"text-align: right;\">\n",
              "      <th></th>\n",
              "      <th>Series Code</th>\n",
              "      <th>Topic</th>\n",
              "      <th>Indicator Name</th>\n",
              "      <th>Long definition</th>\n",
              "      <th>Country Name</th>\n",
              "      <th>Country Code</th>\n",
              "      <th>Indicator Code</th>\n",
              "      <th>2005</th>\n",
              "      <th>2006</th>\n",
              "      <th>2007</th>\n",
              "      <th>2008</th>\n",
              "      <th>2009</th>\n",
              "      <th>2010</th>\n",
              "      <th>2011</th>\n",
              "      <th>2012</th>\n",
              "      <th>2013</th>\n",
              "      <th>2014</th>\n",
              "      <th>Short Name</th>\n",
              "      <th>Income Group</th>\n",
              "    </tr>\n",
              "  </thead>\n",
              "  <tbody>\n",
              "  </tbody>\n",
              "</table>\n",
              "</div>"
            ],
            "text/plain": [
              "Empty DataFrame\n",
              "Columns: [Series Code, Topic, Indicator Name, Long definition, Country Name, Country Code, Indicator Code, 2005, 2006, 2007, 2008, 2009, 2010, 2011, 2012, 2013, 2014, Short Name, Income Group]\n",
              "Index: []"
            ]
          },
          "metadata": {
            "tags": []
          },
          "execution_count": 559
        }
      ]
    },
    {
      "cell_type": "code",
      "metadata": {
        "id": "5Sa-LzQJfjL8"
      },
      "source": [
        "somecountries_df_SF=somecountries_df.loc[somecountries_df['Topic']=='School Finance (SABER)',:]"
      ],
      "execution_count": null,
      "outputs": []
    },
    {
      "cell_type": "code",
      "metadata": {
        "id": "JexhLsOtgnC_"
      },
      "source": [
        "somecountries_df_SF=somecountries_df_SF.loc[somecountries_df_SF['Country Code'].isin(['ARB', 'EAS', 'EAP', 'EMU', 'ECS', 'ECA', 'EUU', 'HPC', 'HIC']),:]"
      ],
      "execution_count": null,
      "outputs": []
    },
    {
      "cell_type": "code",
      "metadata": {
        "colab": {
          "base_uri": "https://localhost:8080/",
          "height": 1000
        },
        "id": "ETEHr0i2gvTi",
        "outputId": "ecbb52c5-c4dd-488c-c8fa-cad890c9f290"
      },
      "source": [
        "somecountries_df_SF"
      ],
      "execution_count": null,
      "outputs": [
        {
          "output_type": "execute_result",
          "data": {
            "text/html": [
              "<div>\n",
              "<style scoped>\n",
              "    .dataframe tbody tr th:only-of-type {\n",
              "        vertical-align: middle;\n",
              "    }\n",
              "\n",
              "    .dataframe tbody tr th {\n",
              "        vertical-align: top;\n",
              "    }\n",
              "\n",
              "    .dataframe thead th {\n",
              "        text-align: right;\n",
              "    }\n",
              "</style>\n",
              "<table border=\"1\" class=\"dataframe\">\n",
              "  <thead>\n",
              "    <tr style=\"text-align: right;\">\n",
              "      <th></th>\n",
              "      <th>Series Code</th>\n",
              "      <th>Topic</th>\n",
              "      <th>Indicator Name</th>\n",
              "      <th>Long definition</th>\n",
              "      <th>Country Name</th>\n",
              "      <th>Country Code</th>\n",
              "      <th>Indicator Code</th>\n",
              "      <th>2005</th>\n",
              "      <th>2006</th>\n",
              "      <th>2007</th>\n",
              "      <th>2008</th>\n",
              "      <th>2009</th>\n",
              "      <th>2010</th>\n",
              "      <th>2011</th>\n",
              "      <th>2012</th>\n",
              "      <th>2013</th>\n",
              "      <th>2014</th>\n",
              "      <th>Short Name</th>\n",
              "      <th>Income Group</th>\n",
              "    </tr>\n",
              "  </thead>\n",
              "  <tbody>\n",
              "    <tr>\n",
              "      <th>1733</th>\n",
              "      <td>SABER.SCH.FNNC.GOAL1</td>\n",
              "      <td>School Finance (SABER)</td>\n",
              "      <td>SABER: (School Finance) Policy Goal 1: Ensurin...</td>\n",
              "      <td>Data Interpretation: 1=Latent; 2=Emerging; 3=E...</td>\n",
              "      <td>Arab World</td>\n",
              "      <td>ARB</td>\n",
              "      <td>SABER.SCH.FNNC.GOAL1</td>\n",
              "      <td>NaN</td>\n",
              "      <td>NaN</td>\n",
              "      <td>NaN</td>\n",
              "      <td>NaN</td>\n",
              "      <td>NaN</td>\n",
              "      <td>NaN</td>\n",
              "      <td>NaN</td>\n",
              "      <td>NaN</td>\n",
              "      <td>NaN</td>\n",
              "      <td>NaN</td>\n",
              "      <td>Arab World</td>\n",
              "      <td>NaN</td>\n",
              "    </tr>\n",
              "    <tr>\n",
              "      <th>1734</th>\n",
              "      <td>SABER.SCH.FNNC.GOAL1.LVL1</td>\n",
              "      <td>School Finance (SABER)</td>\n",
              "      <td>SABER: (School Finance) Policy Goal 1 Lever 1:...</td>\n",
              "      <td>Data Interpretation: 1=Latent; 2=Emerging; 3=E...</td>\n",
              "      <td>Arab World</td>\n",
              "      <td>ARB</td>\n",
              "      <td>SABER.SCH.FNNC.GOAL1.LVL1</td>\n",
              "      <td>NaN</td>\n",
              "      <td>NaN</td>\n",
              "      <td>NaN</td>\n",
              "      <td>NaN</td>\n",
              "      <td>NaN</td>\n",
              "      <td>NaN</td>\n",
              "      <td>NaN</td>\n",
              "      <td>NaN</td>\n",
              "      <td>NaN</td>\n",
              "      <td>NaN</td>\n",
              "      <td>Arab World</td>\n",
              "      <td>NaN</td>\n",
              "    </tr>\n",
              "    <tr>\n",
              "      <th>1735</th>\n",
              "      <td>SABER.SCH.FNNC.GOAL1.LVL2</td>\n",
              "      <td>School Finance (SABER)</td>\n",
              "      <td>SABER: (School Finance) Policy Goal 1 Lever 2:...</td>\n",
              "      <td>Data Interpretation: 1=Latent; 2=Emerging; 3=E...</td>\n",
              "      <td>Arab World</td>\n",
              "      <td>ARB</td>\n",
              "      <td>SABER.SCH.FNNC.GOAL1.LVL2</td>\n",
              "      <td>NaN</td>\n",
              "      <td>NaN</td>\n",
              "      <td>NaN</td>\n",
              "      <td>NaN</td>\n",
              "      <td>NaN</td>\n",
              "      <td>NaN</td>\n",
              "      <td>NaN</td>\n",
              "      <td>NaN</td>\n",
              "      <td>NaN</td>\n",
              "      <td>NaN</td>\n",
              "      <td>Arab World</td>\n",
              "      <td>NaN</td>\n",
              "    </tr>\n",
              "    <tr>\n",
              "      <th>1736</th>\n",
              "      <td>SABER.SCH.FNNC.GOAL2</td>\n",
              "      <td>School Finance (SABER)</td>\n",
              "      <td>SABER: (School Finance) Policy Goal 2: Monitor...</td>\n",
              "      <td>Data Interpretation: 1=Latent; 2=Emerging; 3=E...</td>\n",
              "      <td>Arab World</td>\n",
              "      <td>ARB</td>\n",
              "      <td>SABER.SCH.FNNC.GOAL2</td>\n",
              "      <td>NaN</td>\n",
              "      <td>NaN</td>\n",
              "      <td>NaN</td>\n",
              "      <td>NaN</td>\n",
              "      <td>NaN</td>\n",
              "      <td>NaN</td>\n",
              "      <td>NaN</td>\n",
              "      <td>NaN</td>\n",
              "      <td>NaN</td>\n",
              "      <td>NaN</td>\n",
              "      <td>Arab World</td>\n",
              "      <td>NaN</td>\n",
              "    </tr>\n",
              "    <tr>\n",
              "      <th>1737</th>\n",
              "      <td>SABER.SCH.FNNC.GOAL2.LVL1</td>\n",
              "      <td>School Finance (SABER)</td>\n",
              "      <td>SABER: (School Finance) Policy Goal 2 Lever 1:...</td>\n",
              "      <td>Data Interpretation: 1=Latent; 2=Emerging; 3=E...</td>\n",
              "      <td>Arab World</td>\n",
              "      <td>ARB</td>\n",
              "      <td>SABER.SCH.FNNC.GOAL2.LVL1</td>\n",
              "      <td>NaN</td>\n",
              "      <td>NaN</td>\n",
              "      <td>NaN</td>\n",
              "      <td>NaN</td>\n",
              "      <td>NaN</td>\n",
              "      <td>NaN</td>\n",
              "      <td>NaN</td>\n",
              "      <td>NaN</td>\n",
              "      <td>NaN</td>\n",
              "      <td>NaN</td>\n",
              "      <td>Arab World</td>\n",
              "      <td>NaN</td>\n",
              "    </tr>\n",
              "    <tr>\n",
              "      <th>...</th>\n",
              "      <td>...</td>\n",
              "      <td>...</td>\n",
              "      <td>...</td>\n",
              "      <td>...</td>\n",
              "      <td>...</td>\n",
              "      <td>...</td>\n",
              "      <td>...</td>\n",
              "      <td>...</td>\n",
              "      <td>...</td>\n",
              "      <td>...</td>\n",
              "      <td>...</td>\n",
              "      <td>...</td>\n",
              "      <td>...</td>\n",
              "      <td>...</td>\n",
              "      <td>...</td>\n",
              "      <td>...</td>\n",
              "      <td>...</td>\n",
              "      <td>...</td>\n",
              "      <td>...</td>\n",
              "    </tr>\n",
              "    <tr>\n",
              "      <th>27370</th>\n",
              "      <td>SABER.SCH.FNNC.GOAL5.LVL1</td>\n",
              "      <td>School Finance (SABER)</td>\n",
              "      <td>SABER: (School Finance) Policy Goal 5 Lever 1:...</td>\n",
              "      <td>Data Interpretation: 1=Latent; 2=Emerging; 3=E...</td>\n",
              "      <td>High income</td>\n",
              "      <td>HIC</td>\n",
              "      <td>SABER.SCH.FNNC.GOAL5.LVL1</td>\n",
              "      <td>NaN</td>\n",
              "      <td>NaN</td>\n",
              "      <td>NaN</td>\n",
              "      <td>NaN</td>\n",
              "      <td>NaN</td>\n",
              "      <td>NaN</td>\n",
              "      <td>NaN</td>\n",
              "      <td>NaN</td>\n",
              "      <td>NaN</td>\n",
              "      <td>NaN</td>\n",
              "      <td>High income</td>\n",
              "      <td>NaN</td>\n",
              "    </tr>\n",
              "    <tr>\n",
              "      <th>27371</th>\n",
              "      <td>SABER.SCH.FNNC.GOAL5.LVL2</td>\n",
              "      <td>School Finance (SABER)</td>\n",
              "      <td>SABER: (School Finance) Policy Goal 5 Lever 2:...</td>\n",
              "      <td>Data Interpretation: 1=Latent; 2=Emerging; 3=E...</td>\n",
              "      <td>High income</td>\n",
              "      <td>HIC</td>\n",
              "      <td>SABER.SCH.FNNC.GOAL5.LVL2</td>\n",
              "      <td>NaN</td>\n",
              "      <td>NaN</td>\n",
              "      <td>NaN</td>\n",
              "      <td>NaN</td>\n",
              "      <td>NaN</td>\n",
              "      <td>NaN</td>\n",
              "      <td>NaN</td>\n",
              "      <td>NaN</td>\n",
              "      <td>NaN</td>\n",
              "      <td>NaN</td>\n",
              "      <td>High income</td>\n",
              "      <td>NaN</td>\n",
              "    </tr>\n",
              "    <tr>\n",
              "      <th>27372</th>\n",
              "      <td>SABER.SCH.FNNC.GOAL6</td>\n",
              "      <td>School Finance (SABER)</td>\n",
              "      <td>SABER: (School Finance) Policy Goal 6: Managin...</td>\n",
              "      <td>Data Interpretation: 1=Latent; 2=Emerging; 3=E...</td>\n",
              "      <td>High income</td>\n",
              "      <td>HIC</td>\n",
              "      <td>SABER.SCH.FNNC.GOAL6</td>\n",
              "      <td>NaN</td>\n",
              "      <td>NaN</td>\n",
              "      <td>NaN</td>\n",
              "      <td>NaN</td>\n",
              "      <td>NaN</td>\n",
              "      <td>NaN</td>\n",
              "      <td>NaN</td>\n",
              "      <td>NaN</td>\n",
              "      <td>NaN</td>\n",
              "      <td>NaN</td>\n",
              "      <td>High income</td>\n",
              "      <td>NaN</td>\n",
              "    </tr>\n",
              "    <tr>\n",
              "      <th>27373</th>\n",
              "      <td>SABER.SCH.FNNC.GOAL6.LVL1</td>\n",
              "      <td>School Finance (SABER)</td>\n",
              "      <td>SABER: (School Finance) Policy Goal 6 Lever 1:...</td>\n",
              "      <td>Data Interpretation: 1=Latent; 2=Emerging; 3=E...</td>\n",
              "      <td>High income</td>\n",
              "      <td>HIC</td>\n",
              "      <td>SABER.SCH.FNNC.GOAL6.LVL1</td>\n",
              "      <td>NaN</td>\n",
              "      <td>NaN</td>\n",
              "      <td>NaN</td>\n",
              "      <td>NaN</td>\n",
              "      <td>NaN</td>\n",
              "      <td>NaN</td>\n",
              "      <td>NaN</td>\n",
              "      <td>NaN</td>\n",
              "      <td>NaN</td>\n",
              "      <td>NaN</td>\n",
              "      <td>High income</td>\n",
              "      <td>NaN</td>\n",
              "    </tr>\n",
              "    <tr>\n",
              "      <th>27374</th>\n",
              "      <td>SABER.SCH.FNNC.GOAL6.LVL2</td>\n",
              "      <td>School Finance (SABER)</td>\n",
              "      <td>SABER: (School Finance) Policy Goal 6 Lever 2:...</td>\n",
              "      <td>Data Interpretation: 1=Latent; 2=Emerging; 3=E...</td>\n",
              "      <td>High income</td>\n",
              "      <td>HIC</td>\n",
              "      <td>SABER.SCH.FNNC.GOAL6.LVL2</td>\n",
              "      <td>NaN</td>\n",
              "      <td>NaN</td>\n",
              "      <td>NaN</td>\n",
              "      <td>NaN</td>\n",
              "      <td>NaN</td>\n",
              "      <td>NaN</td>\n",
              "      <td>NaN</td>\n",
              "      <td>NaN</td>\n",
              "      <td>NaN</td>\n",
              "      <td>NaN</td>\n",
              "      <td>High income</td>\n",
              "      <td>NaN</td>\n",
              "    </tr>\n",
              "  </tbody>\n",
              "</table>\n",
              "<p>162 rows × 19 columns</p>\n",
              "</div>"
            ],
            "text/plain": [
              "                     Series Code  ... Income Group\n",
              "1733        SABER.SCH.FNNC.GOAL1  ...          NaN\n",
              "1734   SABER.SCH.FNNC.GOAL1.LVL1  ...          NaN\n",
              "1735   SABER.SCH.FNNC.GOAL1.LVL2  ...          NaN\n",
              "1736        SABER.SCH.FNNC.GOAL2  ...          NaN\n",
              "1737   SABER.SCH.FNNC.GOAL2.LVL1  ...          NaN\n",
              "...                          ...  ...          ...\n",
              "27370  SABER.SCH.FNNC.GOAL5.LVL1  ...          NaN\n",
              "27371  SABER.SCH.FNNC.GOAL5.LVL2  ...          NaN\n",
              "27372       SABER.SCH.FNNC.GOAL6  ...          NaN\n",
              "27373  SABER.SCH.FNNC.GOAL6.LVL1  ...          NaN\n",
              "27374  SABER.SCH.FNNC.GOAL6.LVL2  ...          NaN\n",
              "\n",
              "[162 rows x 19 columns]"
            ]
          },
          "metadata": {
            "tags": []
          },
          "execution_count": 562
        }
      ]
    },
    {
      "cell_type": "code",
      "metadata": {
        "id": "Q8eE8VPygyTj"
      },
      "source": [
        "somecountries_df_ECE=somecountries_df.loc[somecountries_df['Topic']=='Early Childhood Education',:]"
      ],
      "execution_count": null,
      "outputs": []
    },
    {
      "cell_type": "code",
      "metadata": {
        "id": "8rje-VxUhcvG"
      },
      "source": [
        "somecountries_df_ECE=somecountries_df_ECE.loc[somecountries_df_ECE['Country Code'].isin(['ARB', 'EAS', 'EAP', 'EMU', 'ECS', 'ECA', 'EUU', 'HPC', 'HIC']),:]"
      ],
      "execution_count": null,
      "outputs": []
    },
    {
      "cell_type": "code",
      "metadata": {
        "colab": {
          "base_uri": "https://localhost:8080/",
          "height": 1000
        },
        "id": "lBGOuvNkhk8N",
        "outputId": "f44a6523-766b-44f0-8cb9-793a54f7c9af"
      },
      "source": [
        "somecountries_df_ECE"
      ],
      "execution_count": null,
      "outputs": [
        {
          "output_type": "execute_result",
          "data": {
            "text/html": [
              "<div>\n",
              "<style scoped>\n",
              "    .dataframe tbody tr th:only-of-type {\n",
              "        vertical-align: middle;\n",
              "    }\n",
              "\n",
              "    .dataframe tbody tr th {\n",
              "        vertical-align: top;\n",
              "    }\n",
              "\n",
              "    .dataframe thead th {\n",
              "        text-align: right;\n",
              "    }\n",
              "</style>\n",
              "<table border=\"1\" class=\"dataframe\">\n",
              "  <thead>\n",
              "    <tr style=\"text-align: right;\">\n",
              "      <th></th>\n",
              "      <th>Series Code</th>\n",
              "      <th>Topic</th>\n",
              "      <th>Indicator Name</th>\n",
              "      <th>Long definition</th>\n",
              "      <th>Country Name</th>\n",
              "      <th>Country Code</th>\n",
              "      <th>Indicator Code</th>\n",
              "      <th>2005</th>\n",
              "      <th>2006</th>\n",
              "      <th>2007</th>\n",
              "      <th>2008</th>\n",
              "      <th>2009</th>\n",
              "      <th>2010</th>\n",
              "      <th>2011</th>\n",
              "      <th>2012</th>\n",
              "      <th>2013</th>\n",
              "      <th>2014</th>\n",
              "      <th>Short Name</th>\n",
              "      <th>Income Group</th>\n",
              "    </tr>\n",
              "  </thead>\n",
              "  <tbody>\n",
              "    <tr>\n",
              "      <th>1835</th>\n",
              "      <td>SE.PRE.ENRL</td>\n",
              "      <td>Early Childhood Education</td>\n",
              "      <td>Enrolment in pre-primary education, both sexes...</td>\n",
              "      <td>Total number of students enrolled in public an...</td>\n",
              "      <td>Arab World</td>\n",
              "      <td>ARB</td>\n",
              "      <td>SE.PRE.ENRL</td>\n",
              "      <td>2.851838e+06</td>\n",
              "      <td>3.107668e+06</td>\n",
              "      <td>3.138276e+06</td>\n",
              "      <td>3.457078e+06</td>\n",
              "      <td>4.033260e+06</td>\n",
              "      <td>4.187611e+06</td>\n",
              "      <td>4.267724e+06</td>\n",
              "      <td>4.449275e+06</td>\n",
              "      <td>4.442366e+06</td>\n",
              "      <td>4.940330e+06</td>\n",
              "      <td>Arab World</td>\n",
              "      <td>NaN</td>\n",
              "    </tr>\n",
              "    <tr>\n",
              "      <th>1836</th>\n",
              "      <td>SE.PRE.ENRL.FE</td>\n",
              "      <td>Early Childhood Education</td>\n",
              "      <td>Enrolment in pre-primary education, female (nu...</td>\n",
              "      <td>Total number of female students enrolled in pu...</td>\n",
              "      <td>Arab World</td>\n",
              "      <td>ARB</td>\n",
              "      <td>SE.PRE.ENRL.FE</td>\n",
              "      <td>1.309321e+06</td>\n",
              "      <td>1.439091e+06</td>\n",
              "      <td>1.468027e+06</td>\n",
              "      <td>1.627799e+06</td>\n",
              "      <td>1.887523e+06</td>\n",
              "      <td>1.971917e+06</td>\n",
              "      <td>2.056061e+06</td>\n",
              "      <td>2.133252e+06</td>\n",
              "      <td>2.165968e+06</td>\n",
              "      <td>2.402134e+06</td>\n",
              "      <td>Arab World</td>\n",
              "      <td>NaN</td>\n",
              "    </tr>\n",
              "    <tr>\n",
              "      <th>1837</th>\n",
              "      <td>SE.PRE.ENRL.FE.ZS</td>\n",
              "      <td>Early Childhood Education</td>\n",
              "      <td>Percentage of students in pre-primary educatio...</td>\n",
              "      <td>Total number of female students at the pre-pri...</td>\n",
              "      <td>Arab World</td>\n",
              "      <td>ARB</td>\n",
              "      <td>SE.PRE.ENRL.FE.ZS</td>\n",
              "      <td>4.591147e+01</td>\n",
              "      <td>4.630775e+01</td>\n",
              "      <td>4.677814e+01</td>\n",
              "      <td>4.708600e+01</td>\n",
              "      <td>4.679894e+01</td>\n",
              "      <td>4.708930e+01</td>\n",
              "      <td>4.817699e+01</td>\n",
              "      <td>4.794606e+01</td>\n",
              "      <td>4.875709e+01</td>\n",
              "      <td>4.862295e+01</td>\n",
              "      <td>Arab World</td>\n",
              "      <td>NaN</td>\n",
              "    </tr>\n",
              "    <tr>\n",
              "      <th>1845</th>\n",
              "      <td>SE.PRE.PRIV.ZS</td>\n",
              "      <td>Early Childhood Education</td>\n",
              "      <td>Percentage of enrolment in pre-primary educati...</td>\n",
              "      <td>Total number of students in pre-primary educat...</td>\n",
              "      <td>Arab World</td>\n",
              "      <td>ARB</td>\n",
              "      <td>SE.PRE.PRIV.ZS</td>\n",
              "      <td>5.953097e+01</td>\n",
              "      <td>5.949650e+01</td>\n",
              "      <td>5.801803e+01</td>\n",
              "      <td>5.539624e+01</td>\n",
              "      <td>4.900866e+01</td>\n",
              "      <td>4.819303e+01</td>\n",
              "      <td>4.817677e+01</td>\n",
              "      <td>4.742872e+01</td>\n",
              "      <td>4.742988e+01</td>\n",
              "      <td>4.677247e+01</td>\n",
              "      <td>Arab World</td>\n",
              "      <td>NaN</td>\n",
              "    </tr>\n",
              "    <tr>\n",
              "      <th>2299</th>\n",
              "      <td>UIS.E.0.F</td>\n",
              "      <td>Early Childhood Education</td>\n",
              "      <td>Enrolment in early childhood education, female...</td>\n",
              "      <td>Total number of female students enrolled in pu...</td>\n",
              "      <td>Arab World</td>\n",
              "      <td>ARB</td>\n",
              "      <td>UIS.E.0.F</td>\n",
              "      <td>NaN</td>\n",
              "      <td>NaN</td>\n",
              "      <td>NaN</td>\n",
              "      <td>NaN</td>\n",
              "      <td>NaN</td>\n",
              "      <td>NaN</td>\n",
              "      <td>NaN</td>\n",
              "      <td>NaN</td>\n",
              "      <td>NaN</td>\n",
              "      <td>NaN</td>\n",
              "      <td>Arab World</td>\n",
              "      <td>NaN</td>\n",
              "    </tr>\n",
              "    <tr>\n",
              "      <th>...</th>\n",
              "      <td>...</td>\n",
              "      <td>...</td>\n",
              "      <td>...</td>\n",
              "      <td>...</td>\n",
              "      <td>...</td>\n",
              "      <td>...</td>\n",
              "      <td>...</td>\n",
              "      <td>...</td>\n",
              "      <td>...</td>\n",
              "      <td>...</td>\n",
              "      <td>...</td>\n",
              "      <td>...</td>\n",
              "      <td>...</td>\n",
              "      <td>...</td>\n",
              "      <td>...</td>\n",
              "      <td>...</td>\n",
              "      <td>...</td>\n",
              "      <td>...</td>\n",
              "      <td>...</td>\n",
              "    </tr>\n",
              "    <tr>\n",
              "      <th>27938</th>\n",
              "      <td>UIS.E.02.PU.F</td>\n",
              "      <td>Early Childhood Education</td>\n",
              "      <td>Enrolment in pre-primary education, public ins...</td>\n",
              "      <td>Total number of females enrolled in public pre...</td>\n",
              "      <td>High income</td>\n",
              "      <td>HIC</td>\n",
              "      <td>UIS.E.02.PU.F</td>\n",
              "      <td>NaN</td>\n",
              "      <td>NaN</td>\n",
              "      <td>NaN</td>\n",
              "      <td>NaN</td>\n",
              "      <td>NaN</td>\n",
              "      <td>NaN</td>\n",
              "      <td>NaN</td>\n",
              "      <td>NaN</td>\n",
              "      <td>NaN</td>\n",
              "      <td>NaN</td>\n",
              "      <td>High income</td>\n",
              "      <td>NaN</td>\n",
              "    </tr>\n",
              "    <tr>\n",
              "      <th>28083</th>\n",
              "      <td>UIS.FEP.0</td>\n",
              "      <td>Early Childhood Education</td>\n",
              "      <td>Percentage of students in early childhood educ...</td>\n",
              "      <td>Total number of female students at the early c...</td>\n",
              "      <td>High income</td>\n",
              "      <td>HIC</td>\n",
              "      <td>UIS.FEP.0</td>\n",
              "      <td>NaN</td>\n",
              "      <td>NaN</td>\n",
              "      <td>NaN</td>\n",
              "      <td>NaN</td>\n",
              "      <td>NaN</td>\n",
              "      <td>NaN</td>\n",
              "      <td>NaN</td>\n",
              "      <td>NaN</td>\n",
              "      <td>NaN</td>\n",
              "      <td>NaN</td>\n",
              "      <td>High income</td>\n",
              "      <td>NaN</td>\n",
              "    </tr>\n",
              "    <tr>\n",
              "      <th>28084</th>\n",
              "      <td>UIS.FEP.01</td>\n",
              "      <td>Early Childhood Education</td>\n",
              "      <td>Percentage of students in early childhood educ...</td>\n",
              "      <td>Total number of female students at the early c...</td>\n",
              "      <td>High income</td>\n",
              "      <td>HIC</td>\n",
              "      <td>UIS.FEP.01</td>\n",
              "      <td>NaN</td>\n",
              "      <td>NaN</td>\n",
              "      <td>NaN</td>\n",
              "      <td>NaN</td>\n",
              "      <td>NaN</td>\n",
              "      <td>NaN</td>\n",
              "      <td>NaN</td>\n",
              "      <td>NaN</td>\n",
              "      <td>NaN</td>\n",
              "      <td>NaN</td>\n",
              "      <td>High income</td>\n",
              "      <td>NaN</td>\n",
              "    </tr>\n",
              "    <tr>\n",
              "      <th>28430</th>\n",
              "      <td>UIS.PRP.0</td>\n",
              "      <td>Early Childhood Education</td>\n",
              "      <td>Percentage of enrolment in early childhood edu...</td>\n",
              "      <td>Total number of students in early childhood ed...</td>\n",
              "      <td>High income</td>\n",
              "      <td>HIC</td>\n",
              "      <td>UIS.PRP.0</td>\n",
              "      <td>NaN</td>\n",
              "      <td>NaN</td>\n",
              "      <td>NaN</td>\n",
              "      <td>NaN</td>\n",
              "      <td>NaN</td>\n",
              "      <td>NaN</td>\n",
              "      <td>NaN</td>\n",
              "      <td>NaN</td>\n",
              "      <td>NaN</td>\n",
              "      <td>NaN</td>\n",
              "      <td>High income</td>\n",
              "      <td>NaN</td>\n",
              "    </tr>\n",
              "    <tr>\n",
              "      <th>28431</th>\n",
              "      <td>UIS.PRP.01</td>\n",
              "      <td>Early Childhood Education</td>\n",
              "      <td>Percentage of enrolment in early childhood edu...</td>\n",
              "      <td>Total number of students in early childhood ed...</td>\n",
              "      <td>High income</td>\n",
              "      <td>HIC</td>\n",
              "      <td>UIS.PRP.01</td>\n",
              "      <td>NaN</td>\n",
              "      <td>NaN</td>\n",
              "      <td>NaN</td>\n",
              "      <td>NaN</td>\n",
              "      <td>NaN</td>\n",
              "      <td>NaN</td>\n",
              "      <td>NaN</td>\n",
              "      <td>NaN</td>\n",
              "      <td>NaN</td>\n",
              "      <td>NaN</td>\n",
              "      <td>High income</td>\n",
              "      <td>NaN</td>\n",
              "    </tr>\n",
              "  </tbody>\n",
              "</table>\n",
              "<p>216 rows × 19 columns</p>\n",
              "</div>"
            ],
            "text/plain": [
              "             Series Code                      Topic  ...   Short Name Income Group\n",
              "1835         SE.PRE.ENRL  Early Childhood Education  ...   Arab World          NaN\n",
              "1836      SE.PRE.ENRL.FE  Early Childhood Education  ...   Arab World          NaN\n",
              "1837   SE.PRE.ENRL.FE.ZS  Early Childhood Education  ...   Arab World          NaN\n",
              "1845      SE.PRE.PRIV.ZS  Early Childhood Education  ...   Arab World          NaN\n",
              "2299           UIS.E.0.F  Early Childhood Education  ...   Arab World          NaN\n",
              "...                  ...                        ...  ...          ...          ...\n",
              "27938      UIS.E.02.PU.F  Early Childhood Education  ...  High income          NaN\n",
              "28083          UIS.FEP.0  Early Childhood Education  ...  High income          NaN\n",
              "28084         UIS.FEP.01  Early Childhood Education  ...  High income          NaN\n",
              "28430          UIS.PRP.0  Early Childhood Education  ...  High income          NaN\n",
              "28431         UIS.PRP.01  Early Childhood Education  ...  High income          NaN\n",
              "\n",
              "[216 rows x 19 columns]"
            ]
          },
          "metadata": {
            "tags": []
          },
          "execution_count": 579
        }
      ]
    },
    {
      "cell_type": "code",
      "metadata": {
        "colab": {
          "base_uri": "https://localhost:8080/"
        },
        "id": "rY1bu-XLondi",
        "outputId": "c9a3fc30-6da6-4959-f5c5-0c3b6278a208"
      },
      "source": [
        "somecountries_df_ECE['Indicator Name'].unique()"
      ],
      "execution_count": null,
      "outputs": [
        {
          "output_type": "execute_result",
          "data": {
            "text/plain": [
              "array(['Enrolment in pre-primary education, both sexes (number)',\n",
              "       'Enrolment in pre-primary education, female (number)',\n",
              "       'Percentage of students in pre-primary education who are female (%)',\n",
              "       'Percentage of enrolment in pre-primary education in private institutions (%)',\n",
              "       'Enrolment in early childhood education, female (number)',\n",
              "       'Enrolment in early childhood education, private institutions, female (number)',\n",
              "       'Enrolment in early childhood education, private institutions, both sexes (number)',\n",
              "       'Enrolment in early childhood education, public institutions, female (number)',\n",
              "       'Enrolment in early childhood education, public institutions, both sexes (number)',\n",
              "       'Enrolment in early childhood education, both sexes (number)',\n",
              "       'Enrolment in early childhood educational development programmes, female (number)',\n",
              "       'Enrolment in early childhood educational development programmes, private institutions, female (number)',\n",
              "       'Enrolment in early childhood educational development programmes, private institutions, both sexes (number)',\n",
              "       'Enrolment in early childhood educational development programmes, public institutions, female (number)',\n",
              "       'Enrolment in early childhood educational development programmes, public institutions, both sexes (number)',\n",
              "       'Enrolment in early childhood educational development programmes, both sexes (number)',\n",
              "       'Enrolment in pre-primary education, private institutions, both sexes (number)',\n",
              "       'Enrolment in pre-primary education, private institutions, female (number)',\n",
              "       'Enrolment in pre-primary education, public institutions, both sexes (number)',\n",
              "       'Enrolment in pre-primary education, public institutions, female (number)',\n",
              "       'Percentage of students in early childhood education who are female (%)',\n",
              "       'Percentage of students in early childhood educational development programmes who are female (%)',\n",
              "       'Percentage of enrolment in early childhood education programmes in private institutions (%)',\n",
              "       'Percentage of enrolment in early childhood educational development programmes in private institutions (%)'],\n",
              "      dtype=object)"
            ]
          },
          "metadata": {
            "tags": []
          },
          "execution_count": 580
        }
      ]
    },
    {
      "cell_type": "code",
      "metadata": {
        "id": "tb1zLr8Zplaf"
      },
      "source": [
        "somecountries_df_ECE=somecountries_df_ECE.loc[somecountries_df_ECE['Indicator Code']=='SE.PRE.ENRL',:]"
      ],
      "execution_count": null,
      "outputs": []
    },
    {
      "cell_type": "code",
      "metadata": {
        "colab": {
          "base_uri": "https://localhost:8080/"
        },
        "id": "BGIwJH_pp6xC",
        "outputId": "fe947774-dff1-4c64-d574-d130b3576d3d"
      },
      "source": [
        "somecountries_df_ECE['Long definition'].unique()"
      ],
      "execution_count": null,
      "outputs": [
        {
          "output_type": "execute_result",
          "data": {
            "text/plain": [
              "array(['Total number of students enrolled in public and private pre-primary education institutions (ISCED 0.2) regardless of age. Within ISCED 0, early childhood educational development programmes are targeted at children aged 0 to 2 years; and pre-primary education programmes are targeted at children aged 3 years until the age to start ISCED 1.'],\n",
              "      dtype=object)"
            ]
          },
          "metadata": {
            "tags": []
          },
          "execution_count": 583
        }
      ]
    },
    {
      "cell_type": "code",
      "metadata": {
        "id": "gkTggNUTqgYj"
      },
      "source": [
        "somecountries_df_ECE=somecountries_df_ECE[['Country Code', '2005', '2006','2007', '2008', '2009', '2010', '2011', '2012', '2013', '2014']]"
      ],
      "execution_count": null,
      "outputs": []
    },
    {
      "cell_type": "code",
      "metadata": {
        "id": "ma_FvIGHql28"
      },
      "source": [
        "somecountries_df_ECE.set_index(somecountries_df_ECE['Country Code'], drop=True, append=False, inplace=True, verify_integrity=False)"
      ],
      "execution_count": null,
      "outputs": []
    },
    {
      "cell_type": "code",
      "metadata": {
        "colab": {
          "base_uri": "https://localhost:8080/"
        },
        "id": "ZWDdUIbCqlhM",
        "outputId": "7d95b002-e395-4aef-f32e-5c731e435088"
      },
      "source": [
        "somecountries_df_ECE.drop('Country Code',axis=1,inplace=True)"
      ],
      "execution_count": null,
      "outputs": [
        {
          "output_type": "stream",
          "text": [
            "/usr/local/lib/python3.7/dist-packages/pandas/core/frame.py:4174: SettingWithCopyWarning: \n",
            "A value is trying to be set on a copy of a slice from a DataFrame\n",
            "\n",
            "See the caveats in the documentation: https://pandas.pydata.org/pandas-docs/stable/user_guide/indexing.html#returning-a-view-versus-a-copy\n",
            "  errors=errors,\n"
          ],
          "name": "stderr"
        }
      ]
    },
    {
      "cell_type": "code",
      "metadata": {
        "id": "G2sRmhVWrIiq"
      },
      "source": [
        "somecountries_df_ECE=somecountries_df_ECE.ffill(axis=1)"
      ],
      "execution_count": null,
      "outputs": []
    },
    {
      "cell_type": "code",
      "metadata": {
        "id": "C5skblNtrVMk"
      },
      "source": [
        "somecountries_df_ECE=somecountries_df_ECE.transpose()"
      ],
      "execution_count": null,
      "outputs": []
    },
    {
      "cell_type": "code",
      "metadata": {
        "colab": {
          "base_uri": "https://localhost:8080/",
          "height": 235
        },
        "id": "yahlhL94rU4Z",
        "outputId": "ca998068-68e5-4fab-9b97-ab709da467b0"
      },
      "source": [
        "somecountries_df_ECE.head()"
      ],
      "execution_count": null,
      "outputs": [
        {
          "output_type": "execute_result",
          "data": {
            "text/html": [
              "<div>\n",
              "<style scoped>\n",
              "    .dataframe tbody tr th:only-of-type {\n",
              "        vertical-align: middle;\n",
              "    }\n",
              "\n",
              "    .dataframe tbody tr th {\n",
              "        vertical-align: top;\n",
              "    }\n",
              "\n",
              "    .dataframe thead th {\n",
              "        text-align: right;\n",
              "    }\n",
              "</style>\n",
              "<table border=\"1\" class=\"dataframe\">\n",
              "  <thead>\n",
              "    <tr style=\"text-align: right;\">\n",
              "      <th>Country Code</th>\n",
              "      <th>ARB</th>\n",
              "      <th>EAS</th>\n",
              "      <th>EAP</th>\n",
              "      <th>EMU</th>\n",
              "      <th>ECS</th>\n",
              "      <th>ECA</th>\n",
              "      <th>EUU</th>\n",
              "      <th>HPC</th>\n",
              "      <th>HIC</th>\n",
              "    </tr>\n",
              "  </thead>\n",
              "  <tbody>\n",
              "    <tr>\n",
              "      <th>2005</th>\n",
              "      <td>2851838.50</td>\n",
              "      <td>34838416.0</td>\n",
              "      <td>30665626.0</td>\n",
              "      <td>9718599.0</td>\n",
              "      <td>21022214.0</td>\n",
              "      <td>7881355.5</td>\n",
              "      <td>13666709.0</td>\n",
              "      <td>5250983.5</td>\n",
              "      <td>27473746.0</td>\n",
              "    </tr>\n",
              "    <tr>\n",
              "      <th>2006</th>\n",
              "      <td>3107668.25</td>\n",
              "      <td>36278888.0</td>\n",
              "      <td>32126904.0</td>\n",
              "      <td>9971432.0</td>\n",
              "      <td>21558174.0</td>\n",
              "      <td>8146674.0</td>\n",
              "      <td>13941864.0</td>\n",
              "      <td>5847853.5</td>\n",
              "      <td>27714080.0</td>\n",
              "    </tr>\n",
              "    <tr>\n",
              "      <th>2007</th>\n",
              "      <td>3138275.75</td>\n",
              "      <td>37840840.0</td>\n",
              "      <td>33731376.0</td>\n",
              "      <td>9967251.0</td>\n",
              "      <td>21950722.0</td>\n",
              "      <td>8477244.0</td>\n",
              "      <td>14006248.0</td>\n",
              "      <td>6327169.0</td>\n",
              "      <td>27913208.0</td>\n",
              "    </tr>\n",
              "    <tr>\n",
              "      <th>2008</th>\n",
              "      <td>3457077.50</td>\n",
              "      <td>39135368.0</td>\n",
              "      <td>35071148.0</td>\n",
              "      <td>10026163.0</td>\n",
              "      <td>22617908.0</td>\n",
              "      <td>8951517.0</td>\n",
              "      <td>14198527.0</td>\n",
              "      <td>7061636.0</td>\n",
              "      <td>28226532.0</td>\n",
              "    </tr>\n",
              "    <tr>\n",
              "      <th>2009</th>\n",
              "      <td>4033259.50</td>\n",
              "      <td>40832968.0</td>\n",
              "      <td>36834876.0</td>\n",
              "      <td>10082873.0</td>\n",
              "      <td>23121580.0</td>\n",
              "      <td>9303149.0</td>\n",
              "      <td>14351951.0</td>\n",
              "      <td>7640775.5</td>\n",
              "      <td>28492902.0</td>\n",
              "    </tr>\n",
              "  </tbody>\n",
              "</table>\n",
              "</div>"
            ],
            "text/plain": [
              "Country Code         ARB         EAS  ...        HPC         HIC\n",
              "2005          2851838.50  34838416.0  ...  5250983.5  27473746.0\n",
              "2006          3107668.25  36278888.0  ...  5847853.5  27714080.0\n",
              "2007          3138275.75  37840840.0  ...  6327169.0  27913208.0\n",
              "2008          3457077.50  39135368.0  ...  7061636.0  28226532.0\n",
              "2009          4033259.50  40832968.0  ...  7640775.5  28492902.0\n",
              "\n",
              "[5 rows x 9 columns]"
            ]
          },
          "metadata": {
            "tags": []
          },
          "execution_count": 591
        }
      ]
    },
    {
      "cell_type": "code",
      "metadata": {
        "colab": {
          "base_uri": "https://localhost:8080/",
          "height": 313
        },
        "id": "Cb3i8EXhrU0S",
        "outputId": "a4f2a550-47ee-4bac-e28d-42ddd6e102ff"
      },
      "source": [
        "somecountries_df_ECE.plot()\r\n",
        "\r\n",
        "plt.title('Enrollment in pre primary education for different countries')\r\n",
        "plt.ylabel('Students enrolled')\r\n",
        "plt.xlabel('Years')"
      ],
      "execution_count": null,
      "outputs": [
        {
          "output_type": "execute_result",
          "data": {
            "text/plain": [
              "Text(0.5, 0, 'Years')"
            ]
          },
          "metadata": {
            "tags": []
          },
          "execution_count": 592
        },
        {
          "output_type": "display_data",
          "data": {
            "image/png": "[encoded data removed]",
            "text/plain": [
              "<Figure size 432x288 with 1 Axes>"
            ]
          },
          "metadata": {
            "tags": [],
            "needs_background": "light"
          }
        }
      ]
    },
    {
      "cell_type": "code",
      "metadata": {
        "id": "PYcm3PdjhnB7"
      },
      "source": [
        "somecountries_df_EMIS=somecountries_df.loc[somecountries_df['Topic']=='Education Management Information Systems (SABER)',:]"
      ],
      "execution_count": null,
      "outputs": []
    },
    {
      "cell_type": "code",
      "metadata": {
        "id": "CQ2dWKhjigMs"
      },
      "source": [
        "somecountries_df_EMIS=somecountries_df_EMIS.loc[somecountries_df_EMIS['Country Code'].isin(['ARB', 'EAS', 'EAP', 'EMU', 'ECS', 'ECA', 'EUU', 'HPC', 'HIC']),:]"
      ],
      "execution_count": null,
      "outputs": []
    },
    {
      "cell_type": "code",
      "metadata": {
        "colab": {
          "base_uri": "https://localhost:8080/",
          "height": 1000
        },
        "id": "Z6-c7BveinEW",
        "outputId": "8f158939-f61b-4087-f7ff-a99256e5b66f"
      },
      "source": [
        "somecountries_df_EMIS"
      ],
      "execution_count": null,
      "outputs": [
        {
          "output_type": "execute_result",
          "data": {
            "text/html": [
              "<div>\n",
              "<style scoped>\n",
              "    .dataframe tbody tr th:only-of-type {\n",
              "        vertical-align: middle;\n",
              "    }\n",
              "\n",
              "    .dataframe tbody tr th {\n",
              "        vertical-align: top;\n",
              "    }\n",
              "\n",
              "    .dataframe thead th {\n",
              "        text-align: right;\n",
              "    }\n",
              "</style>\n",
              "<table border=\"1\" class=\"dataframe\">\n",
              "  <thead>\n",
              "    <tr style=\"text-align: right;\">\n",
              "      <th></th>\n",
              "      <th>Series Code</th>\n",
              "      <th>Topic</th>\n",
              "      <th>Indicator Name</th>\n",
              "      <th>Long definition</th>\n",
              "      <th>Country Name</th>\n",
              "      <th>Country Code</th>\n",
              "      <th>Indicator Code</th>\n",
              "      <th>2005</th>\n",
              "      <th>2006</th>\n",
              "      <th>2007</th>\n",
              "      <th>2008</th>\n",
              "      <th>2009</th>\n",
              "      <th>2010</th>\n",
              "      <th>2011</th>\n",
              "      <th>2012</th>\n",
              "      <th>2013</th>\n",
              "      <th>2014</th>\n",
              "      <th>Short Name</th>\n",
              "      <th>Income Group</th>\n",
              "    </tr>\n",
              "  </thead>\n",
              "  <tbody>\n",
              "    <tr>\n",
              "      <th>1639</th>\n",
              "      <td>SABER.EMIS.GOAL1</td>\n",
              "      <td>Education Management Information Systems (SABER)</td>\n",
              "      <td>SABER: (Education Management Information Syste...</td>\n",
              "      <td>Data Interpretation: 1=Latent; 2=Emerging; 3=E...</td>\n",
              "      <td>Arab World</td>\n",
              "      <td>ARB</td>\n",
              "      <td>SABER.EMIS.GOAL1</td>\n",
              "      <td>NaN</td>\n",
              "      <td>NaN</td>\n",
              "      <td>NaN</td>\n",
              "      <td>NaN</td>\n",
              "      <td>NaN</td>\n",
              "      <td>NaN</td>\n",
              "      <td>NaN</td>\n",
              "      <td>NaN</td>\n",
              "      <td>NaN</td>\n",
              "      <td>NaN</td>\n",
              "      <td>Arab World</td>\n",
              "      <td>NaN</td>\n",
              "    </tr>\n",
              "    <tr>\n",
              "      <th>1640</th>\n",
              "      <td>SABER.EMIS.GOAL1.LVL1</td>\n",
              "      <td>Education Management Information Systems (SABER)</td>\n",
              "      <td>SABER: (Education Management Information Syste...</td>\n",
              "      <td>Data Interpretation: 1=Latent; 2=Emerging; 3=E...</td>\n",
              "      <td>Arab World</td>\n",
              "      <td>ARB</td>\n",
              "      <td>SABER.EMIS.GOAL1.LVL1</td>\n",
              "      <td>NaN</td>\n",
              "      <td>NaN</td>\n",
              "      <td>NaN</td>\n",
              "      <td>NaN</td>\n",
              "      <td>NaN</td>\n",
              "      <td>NaN</td>\n",
              "      <td>NaN</td>\n",
              "      <td>NaN</td>\n",
              "      <td>NaN</td>\n",
              "      <td>NaN</td>\n",
              "      <td>Arab World</td>\n",
              "      <td>NaN</td>\n",
              "    </tr>\n",
              "    <tr>\n",
              "      <th>1641</th>\n",
              "      <td>SABER.EMIS.GOAL1.LVL2</td>\n",
              "      <td>Education Management Information Systems (SABER)</td>\n",
              "      <td>SABER: (Education Management Information Syste...</td>\n",
              "      <td>Data Interpretation: 1=Latent; 2=Emerging; 3=E...</td>\n",
              "      <td>Arab World</td>\n",
              "      <td>ARB</td>\n",
              "      <td>SABER.EMIS.GOAL1.LVL2</td>\n",
              "      <td>NaN</td>\n",
              "      <td>NaN</td>\n",
              "      <td>NaN</td>\n",
              "      <td>NaN</td>\n",
              "      <td>NaN</td>\n",
              "      <td>NaN</td>\n",
              "      <td>NaN</td>\n",
              "      <td>NaN</td>\n",
              "      <td>NaN</td>\n",
              "      <td>NaN</td>\n",
              "      <td>Arab World</td>\n",
              "      <td>NaN</td>\n",
              "    </tr>\n",
              "    <tr>\n",
              "      <th>1642</th>\n",
              "      <td>SABER.EMIS.GOAL1.LVL3</td>\n",
              "      <td>Education Management Information Systems (SABER)</td>\n",
              "      <td>SABER: (Education Management Information Syste...</td>\n",
              "      <td>Data Interpretation: 1=Latent; 2=Emerging; 3=E...</td>\n",
              "      <td>Arab World</td>\n",
              "      <td>ARB</td>\n",
              "      <td>SABER.EMIS.GOAL1.LVL3</td>\n",
              "      <td>NaN</td>\n",
              "      <td>NaN</td>\n",
              "      <td>NaN</td>\n",
              "      <td>NaN</td>\n",
              "      <td>NaN</td>\n",
              "      <td>NaN</td>\n",
              "      <td>NaN</td>\n",
              "      <td>NaN</td>\n",
              "      <td>NaN</td>\n",
              "      <td>NaN</td>\n",
              "      <td>Arab World</td>\n",
              "      <td>NaN</td>\n",
              "    </tr>\n",
              "    <tr>\n",
              "      <th>1643</th>\n",
              "      <td>SABER.EMIS.GOAL1.LVL4</td>\n",
              "      <td>Education Management Information Systems (SABER)</td>\n",
              "      <td>SABER: (Education Management Information Syste...</td>\n",
              "      <td>Data Interpretation: 1=Latent; 2=Emerging; 3=E...</td>\n",
              "      <td>Arab World</td>\n",
              "      <td>ARB</td>\n",
              "      <td>SABER.EMIS.GOAL1.LVL4</td>\n",
              "      <td>NaN</td>\n",
              "      <td>NaN</td>\n",
              "      <td>NaN</td>\n",
              "      <td>NaN</td>\n",
              "      <td>NaN</td>\n",
              "      <td>NaN</td>\n",
              "      <td>NaN</td>\n",
              "      <td>NaN</td>\n",
              "      <td>NaN</td>\n",
              "      <td>NaN</td>\n",
              "      <td>Arab World</td>\n",
              "      <td>NaN</td>\n",
              "    </tr>\n",
              "    <tr>\n",
              "      <th>...</th>\n",
              "      <td>...</td>\n",
              "      <td>...</td>\n",
              "      <td>...</td>\n",
              "      <td>...</td>\n",
              "      <td>...</td>\n",
              "      <td>...</td>\n",
              "      <td>...</td>\n",
              "      <td>...</td>\n",
              "      <td>...</td>\n",
              "      <td>...</td>\n",
              "      <td>...</td>\n",
              "      <td>...</td>\n",
              "      <td>...</td>\n",
              "      <td>...</td>\n",
              "      <td>...</td>\n",
              "      <td>...</td>\n",
              "      <td>...</td>\n",
              "      <td>...</td>\n",
              "      <td>...</td>\n",
              "    </tr>\n",
              "    <tr>\n",
              "      <th>27281</th>\n",
              "      <td>SABER.EMIS.GOAL4</td>\n",
              "      <td>Education Management Information Systems (SABER)</td>\n",
              "      <td>SABER: (Education Management Information Syste...</td>\n",
              "      <td>Data Interpretation: 1=Latent; 2=Emerging; 3=E...</td>\n",
              "      <td>High income</td>\n",
              "      <td>HIC</td>\n",
              "      <td>SABER.EMIS.GOAL4</td>\n",
              "      <td>NaN</td>\n",
              "      <td>NaN</td>\n",
              "      <td>NaN</td>\n",
              "      <td>NaN</td>\n",
              "      <td>NaN</td>\n",
              "      <td>NaN</td>\n",
              "      <td>NaN</td>\n",
              "      <td>NaN</td>\n",
              "      <td>NaN</td>\n",
              "      <td>NaN</td>\n",
              "      <td>High income</td>\n",
              "      <td>NaN</td>\n",
              "    </tr>\n",
              "    <tr>\n",
              "      <th>27282</th>\n",
              "      <td>SABER.EMIS.GOAL4.LVL1</td>\n",
              "      <td>Education Management Information Systems (SABER)</td>\n",
              "      <td>SABER: (Education Management Information Syste...</td>\n",
              "      <td>Data Interpretation: 1=Latent; 2=Emerging; 3=E...</td>\n",
              "      <td>High income</td>\n",
              "      <td>HIC</td>\n",
              "      <td>SABER.EMIS.GOAL4.LVL1</td>\n",
              "      <td>NaN</td>\n",
              "      <td>NaN</td>\n",
              "      <td>NaN</td>\n",
              "      <td>NaN</td>\n",
              "      <td>NaN</td>\n",
              "      <td>NaN</td>\n",
              "      <td>NaN</td>\n",
              "      <td>NaN</td>\n",
              "      <td>NaN</td>\n",
              "      <td>NaN</td>\n",
              "      <td>High income</td>\n",
              "      <td>NaN</td>\n",
              "    </tr>\n",
              "    <tr>\n",
              "      <th>27283</th>\n",
              "      <td>SABER.EMIS.GOAL4.LVL2</td>\n",
              "      <td>Education Management Information Systems (SABER)</td>\n",
              "      <td>SABER: (Education Management Information Syste...</td>\n",
              "      <td>Data Interpretation: 1=Latent; 2=Emerging; 3=E...</td>\n",
              "      <td>High income</td>\n",
              "      <td>HIC</td>\n",
              "      <td>SABER.EMIS.GOAL4.LVL2</td>\n",
              "      <td>NaN</td>\n",
              "      <td>NaN</td>\n",
              "      <td>NaN</td>\n",
              "      <td>NaN</td>\n",
              "      <td>NaN</td>\n",
              "      <td>NaN</td>\n",
              "      <td>NaN</td>\n",
              "      <td>NaN</td>\n",
              "      <td>NaN</td>\n",
              "      <td>NaN</td>\n",
              "      <td>High income</td>\n",
              "      <td>NaN</td>\n",
              "    </tr>\n",
              "    <tr>\n",
              "      <th>27284</th>\n",
              "      <td>SABER.EMIS.GOAL4.LVL3</td>\n",
              "      <td>Education Management Information Systems (SABER)</td>\n",
              "      <td>SABER: (Education Management Information Syste...</td>\n",
              "      <td>Data Interpretation: 1=Latent; 2=Emerging; 3=E...</td>\n",
              "      <td>High income</td>\n",
              "      <td>HIC</td>\n",
              "      <td>SABER.EMIS.GOAL4.LVL3</td>\n",
              "      <td>NaN</td>\n",
              "      <td>NaN</td>\n",
              "      <td>NaN</td>\n",
              "      <td>NaN</td>\n",
              "      <td>NaN</td>\n",
              "      <td>NaN</td>\n",
              "      <td>NaN</td>\n",
              "      <td>NaN</td>\n",
              "      <td>NaN</td>\n",
              "      <td>NaN</td>\n",
              "      <td>High income</td>\n",
              "      <td>NaN</td>\n",
              "    </tr>\n",
              "    <tr>\n",
              "      <th>27285</th>\n",
              "      <td>SABER.EMIS.GOAL4.LVL4</td>\n",
              "      <td>Education Management Information Systems (SABER)</td>\n",
              "      <td>SABER: (Education Management Information Syste...</td>\n",
              "      <td>Data Interpretation: 1=Latent; 2=Emerging; 3=E...</td>\n",
              "      <td>High income</td>\n",
              "      <td>HIC</td>\n",
              "      <td>SABER.EMIS.GOAL4.LVL4</td>\n",
              "      <td>NaN</td>\n",
              "      <td>NaN</td>\n",
              "      <td>NaN</td>\n",
              "      <td>NaN</td>\n",
              "      <td>NaN</td>\n",
              "      <td>NaN</td>\n",
              "      <td>NaN</td>\n",
              "      <td>NaN</td>\n",
              "      <td>NaN</td>\n",
              "      <td>NaN</td>\n",
              "      <td>High income</td>\n",
              "      <td>NaN</td>\n",
              "    </tr>\n",
              "  </tbody>\n",
              "</table>\n",
              "<p>207 rows × 19 columns</p>\n",
              "</div>"
            ],
            "text/plain": [
              "                 Series Code  ... Income Group\n",
              "1639        SABER.EMIS.GOAL1  ...          NaN\n",
              "1640   SABER.EMIS.GOAL1.LVL1  ...          NaN\n",
              "1641   SABER.EMIS.GOAL1.LVL2  ...          NaN\n",
              "1642   SABER.EMIS.GOAL1.LVL3  ...          NaN\n",
              "1643   SABER.EMIS.GOAL1.LVL4  ...          NaN\n",
              "...                      ...  ...          ...\n",
              "27281       SABER.EMIS.GOAL4  ...          NaN\n",
              "27282  SABER.EMIS.GOAL4.LVL1  ...          NaN\n",
              "27283  SABER.EMIS.GOAL4.LVL2  ...          NaN\n",
              "27284  SABER.EMIS.GOAL4.LVL3  ...          NaN\n",
              "27285  SABER.EMIS.GOAL4.LVL4  ...          NaN\n",
              "\n",
              "[207 rows x 19 columns]"
            ]
          },
          "metadata": {
            "tags": []
          },
          "execution_count": 570
        }
      ]
    },
    {
      "cell_type": "code",
      "metadata": {
        "id": "cMdP8nwFiqku"
      },
      "source": [
        "somecountries_df_SH=somecountries_df.loc[somecountries_df['Topic']=='School Health and School Feeding (SABER)',:]"
      ],
      "execution_count": null,
      "outputs": []
    },
    {
      "cell_type": "code",
      "metadata": {
        "id": "sb5RArQBi-CF"
      },
      "source": [
        "somecountries_df_SH=somecountries_df_SH.loc[somecountries_df_SH['Country Code'].isin(['ARB', 'EAS', 'EAP', 'EMU', 'ECS', 'ECA', 'EUU', 'HPC', 'HIC']),:]"
      ],
      "execution_count": null,
      "outputs": []
    },
    {
      "cell_type": "code",
      "metadata": {
        "colab": {
          "base_uri": "https://localhost:8080/",
          "height": 1000
        },
        "id": "wtcKxcDEjDer",
        "outputId": "f03423ee-2009-4b8a-a227-91d99246c254"
      },
      "source": [
        "somecountries_df_SH"
      ],
      "execution_count": null,
      "outputs": [
        {
          "output_type": "execute_result",
          "data": {
            "text/html": [
              "<div>\n",
              "<style scoped>\n",
              "    .dataframe tbody tr th:only-of-type {\n",
              "        vertical-align: middle;\n",
              "    }\n",
              "\n",
              "    .dataframe tbody tr th {\n",
              "        vertical-align: top;\n",
              "    }\n",
              "\n",
              "    .dataframe thead th {\n",
              "        text-align: right;\n",
              "    }\n",
              "</style>\n",
              "<table border=\"1\" class=\"dataframe\">\n",
              "  <thead>\n",
              "    <tr style=\"text-align: right;\">\n",
              "      <th></th>\n",
              "      <th>Series Code</th>\n",
              "      <th>Topic</th>\n",
              "      <th>Indicator Name</th>\n",
              "      <th>Long definition</th>\n",
              "      <th>Country Name</th>\n",
              "      <th>Country Code</th>\n",
              "      <th>Indicator Code</th>\n",
              "      <th>2005</th>\n",
              "      <th>2006</th>\n",
              "      <th>2007</th>\n",
              "      <th>2008</th>\n",
              "      <th>2009</th>\n",
              "      <th>2010</th>\n",
              "      <th>2011</th>\n",
              "      <th>2012</th>\n",
              "      <th>2013</th>\n",
              "      <th>2014</th>\n",
              "      <th>Short Name</th>\n",
              "      <th>Income Group</th>\n",
              "    </tr>\n",
              "  </thead>\n",
              "  <tbody>\n",
              "    <tr>\n",
              "      <th>1701</th>\n",
              "      <td>SABER.HLTH.GOAL1</td>\n",
              "      <td>School Health and School Feeding (SABER)</td>\n",
              "      <td>SABER: (School Health and School Feeding) Poli...</td>\n",
              "      <td>Data Interpretation: 1=Latent; 2=Emerging; 3=E...</td>\n",
              "      <td>Arab World</td>\n",
              "      <td>ARB</td>\n",
              "      <td>SABER.HLTH.GOAL1</td>\n",
              "      <td>NaN</td>\n",
              "      <td>NaN</td>\n",
              "      <td>NaN</td>\n",
              "      <td>NaN</td>\n",
              "      <td>NaN</td>\n",
              "      <td>NaN</td>\n",
              "      <td>NaN</td>\n",
              "      <td>NaN</td>\n",
              "      <td>NaN</td>\n",
              "      <td>NaN</td>\n",
              "      <td>Arab World</td>\n",
              "      <td>NaN</td>\n",
              "    </tr>\n",
              "    <tr>\n",
              "      <th>1702</th>\n",
              "      <td>SABER.HLTH.GOAL2</td>\n",
              "      <td>School Health and School Feeding (SABER)</td>\n",
              "      <td>SABER: (School Health and School Feeding) Poli...</td>\n",
              "      <td>Data Interpretation: 1=Latent; 2=Emerging; 3=E...</td>\n",
              "      <td>Arab World</td>\n",
              "      <td>ARB</td>\n",
              "      <td>SABER.HLTH.GOAL2</td>\n",
              "      <td>NaN</td>\n",
              "      <td>NaN</td>\n",
              "      <td>NaN</td>\n",
              "      <td>NaN</td>\n",
              "      <td>NaN</td>\n",
              "      <td>NaN</td>\n",
              "      <td>NaN</td>\n",
              "      <td>NaN</td>\n",
              "      <td>NaN</td>\n",
              "      <td>NaN</td>\n",
              "      <td>Arab World</td>\n",
              "      <td>NaN</td>\n",
              "    </tr>\n",
              "    <tr>\n",
              "      <th>1703</th>\n",
              "      <td>SABER.HLTH.GOAL3</td>\n",
              "      <td>School Health and School Feeding (SABER)</td>\n",
              "      <td>SABER: (School Health and School Feeding) Poli...</td>\n",
              "      <td>Data Interpretation: 1=Latent; 2=Emerging; 3=E...</td>\n",
              "      <td>Arab World</td>\n",
              "      <td>ARB</td>\n",
              "      <td>SABER.HLTH.GOAL3</td>\n",
              "      <td>NaN</td>\n",
              "      <td>NaN</td>\n",
              "      <td>NaN</td>\n",
              "      <td>NaN</td>\n",
              "      <td>NaN</td>\n",
              "      <td>NaN</td>\n",
              "      <td>NaN</td>\n",
              "      <td>NaN</td>\n",
              "      <td>NaN</td>\n",
              "      <td>NaN</td>\n",
              "      <td>Arab World</td>\n",
              "      <td>NaN</td>\n",
              "    </tr>\n",
              "    <tr>\n",
              "      <th>1704</th>\n",
              "      <td>SABER.HLTH.GOAL4</td>\n",
              "      <td>School Health and School Feeding (SABER)</td>\n",
              "      <td>SABER: (School Health and School Feeding) Poli...</td>\n",
              "      <td>Data Interpretation: 1=Latent; 2=Emerging; 3=E...</td>\n",
              "      <td>Arab World</td>\n",
              "      <td>ARB</td>\n",
              "      <td>SABER.HLTH.GOAL4</td>\n",
              "      <td>NaN</td>\n",
              "      <td>NaN</td>\n",
              "      <td>NaN</td>\n",
              "      <td>NaN</td>\n",
              "      <td>NaN</td>\n",
              "      <td>NaN</td>\n",
              "      <td>NaN</td>\n",
              "      <td>NaN</td>\n",
              "      <td>NaN</td>\n",
              "      <td>NaN</td>\n",
              "      <td>Arab World</td>\n",
              "      <td>NaN</td>\n",
              "    </tr>\n",
              "    <tr>\n",
              "      <th>1705</th>\n",
              "      <td>SABER.HLTH.GOAL5</td>\n",
              "      <td>School Health and School Feeding (SABER)</td>\n",
              "      <td>SABER: (School Health and School Feeding) Poli...</td>\n",
              "      <td>Data Interpretation: 1=Latent; 2=Emerging; 3=E...</td>\n",
              "      <td>Arab World</td>\n",
              "      <td>ARB</td>\n",
              "      <td>SABER.HLTH.GOAL5</td>\n",
              "      <td>NaN</td>\n",
              "      <td>NaN</td>\n",
              "      <td>NaN</td>\n",
              "      <td>NaN</td>\n",
              "      <td>NaN</td>\n",
              "      <td>NaN</td>\n",
              "      <td>NaN</td>\n",
              "      <td>NaN</td>\n",
              "      <td>NaN</td>\n",
              "      <td>NaN</td>\n",
              "      <td>Arab World</td>\n",
              "      <td>NaN</td>\n",
              "    </tr>\n",
              "    <tr>\n",
              "      <th>...</th>\n",
              "      <td>...</td>\n",
              "      <td>...</td>\n",
              "      <td>...</td>\n",
              "      <td>...</td>\n",
              "      <td>...</td>\n",
              "      <td>...</td>\n",
              "      <td>...</td>\n",
              "      <td>...</td>\n",
              "      <td>...</td>\n",
              "      <td>...</td>\n",
              "      <td>...</td>\n",
              "      <td>...</td>\n",
              "      <td>...</td>\n",
              "      <td>...</td>\n",
              "      <td>...</td>\n",
              "      <td>...</td>\n",
              "      <td>...</td>\n",
              "      <td>...</td>\n",
              "      <td>...</td>\n",
              "    </tr>\n",
              "    <tr>\n",
              "      <th>27329</th>\n",
              "      <td>SABER.HLTH.GOAL5</td>\n",
              "      <td>School Health and School Feeding (SABER)</td>\n",
              "      <td>SABER: (School Health and School Feeding) Poli...</td>\n",
              "      <td>Data Interpretation: 1=Latent; 2=Emerging; 3=E...</td>\n",
              "      <td>High income</td>\n",
              "      <td>HIC</td>\n",
              "      <td>SABER.HLTH.GOAL5</td>\n",
              "      <td>NaN</td>\n",
              "      <td>NaN</td>\n",
              "      <td>NaN</td>\n",
              "      <td>NaN</td>\n",
              "      <td>NaN</td>\n",
              "      <td>NaN</td>\n",
              "      <td>NaN</td>\n",
              "      <td>NaN</td>\n",
              "      <td>NaN</td>\n",
              "      <td>NaN</td>\n",
              "      <td>High income</td>\n",
              "      <td>NaN</td>\n",
              "    </tr>\n",
              "    <tr>\n",
              "      <th>27330</th>\n",
              "      <td>SABER.HLTH.GOAL6</td>\n",
              "      <td>School Health and School Feeding (SABER)</td>\n",
              "      <td>SABER: (School Health and School Feeding) Poli...</td>\n",
              "      <td>Data Interpretation: 1=Latent; 2=Emerging; 3=E...</td>\n",
              "      <td>High income</td>\n",
              "      <td>HIC</td>\n",
              "      <td>SABER.HLTH.GOAL6</td>\n",
              "      <td>NaN</td>\n",
              "      <td>NaN</td>\n",
              "      <td>NaN</td>\n",
              "      <td>NaN</td>\n",
              "      <td>NaN</td>\n",
              "      <td>NaN</td>\n",
              "      <td>NaN</td>\n",
              "      <td>NaN</td>\n",
              "      <td>NaN</td>\n",
              "      <td>NaN</td>\n",
              "      <td>High income</td>\n",
              "      <td>NaN</td>\n",
              "    </tr>\n",
              "    <tr>\n",
              "      <th>27331</th>\n",
              "      <td>SABER.HLTH.GOAL7</td>\n",
              "      <td>School Health and School Feeding (SABER)</td>\n",
              "      <td>SABER: (School Health and School Feeding) Poli...</td>\n",
              "      <td>Data Interpretation: 1=Latent; 2=Emerging; 3=E...</td>\n",
              "      <td>High income</td>\n",
              "      <td>HIC</td>\n",
              "      <td>SABER.HLTH.GOAL7</td>\n",
              "      <td>NaN</td>\n",
              "      <td>NaN</td>\n",
              "      <td>NaN</td>\n",
              "      <td>NaN</td>\n",
              "      <td>NaN</td>\n",
              "      <td>NaN</td>\n",
              "      <td>NaN</td>\n",
              "      <td>NaN</td>\n",
              "      <td>NaN</td>\n",
              "      <td>NaN</td>\n",
              "      <td>High income</td>\n",
              "      <td>NaN</td>\n",
              "    </tr>\n",
              "    <tr>\n",
              "      <th>27332</th>\n",
              "      <td>SABER.HLTH.GOAL8</td>\n",
              "      <td>School Health and School Feeding (SABER)</td>\n",
              "      <td>SABER: (School Health and School Feeding) Poli...</td>\n",
              "      <td>Data Interpretation: 1=Latent; 2=Emerging; 3=E...</td>\n",
              "      <td>High income</td>\n",
              "      <td>HIC</td>\n",
              "      <td>SABER.HLTH.GOAL8</td>\n",
              "      <td>NaN</td>\n",
              "      <td>NaN</td>\n",
              "      <td>NaN</td>\n",
              "      <td>NaN</td>\n",
              "      <td>NaN</td>\n",
              "      <td>NaN</td>\n",
              "      <td>NaN</td>\n",
              "      <td>NaN</td>\n",
              "      <td>NaN</td>\n",
              "      <td>NaN</td>\n",
              "      <td>High income</td>\n",
              "      <td>NaN</td>\n",
              "    </tr>\n",
              "    <tr>\n",
              "      <th>27333</th>\n",
              "      <td>SABER.HLTH.GOAL9</td>\n",
              "      <td>School Health and School Feeding (SABER)</td>\n",
              "      <td>SABER: (School Health and School Feeding) Poli...</td>\n",
              "      <td>Data Interpretation: 1=Latent; 2=Emerging; 3=E...</td>\n",
              "      <td>High income</td>\n",
              "      <td>HIC</td>\n",
              "      <td>SABER.HLTH.GOAL9</td>\n",
              "      <td>NaN</td>\n",
              "      <td>NaN</td>\n",
              "      <td>NaN</td>\n",
              "      <td>NaN</td>\n",
              "      <td>NaN</td>\n",
              "      <td>NaN</td>\n",
              "      <td>NaN</td>\n",
              "      <td>NaN</td>\n",
              "      <td>NaN</td>\n",
              "      <td>NaN</td>\n",
              "      <td>High income</td>\n",
              "      <td>NaN</td>\n",
              "    </tr>\n",
              "  </tbody>\n",
              "</table>\n",
              "<p>81 rows × 19 columns</p>\n",
              "</div>"
            ],
            "text/plain": [
              "            Series Code  ... Income Group\n",
              "1701   SABER.HLTH.GOAL1  ...          NaN\n",
              "1702   SABER.HLTH.GOAL2  ...          NaN\n",
              "1703   SABER.HLTH.GOAL3  ...          NaN\n",
              "1704   SABER.HLTH.GOAL4  ...          NaN\n",
              "1705   SABER.HLTH.GOAL5  ...          NaN\n",
              "...                 ...  ...          ...\n",
              "27329  SABER.HLTH.GOAL5  ...          NaN\n",
              "27330  SABER.HLTH.GOAL6  ...          NaN\n",
              "27331  SABER.HLTH.GOAL7  ...          NaN\n",
              "27332  SABER.HLTH.GOAL8  ...          NaN\n",
              "27333  SABER.HLTH.GOAL9  ...          NaN\n",
              "\n",
              "[81 rows x 19 columns]"
            ]
          },
          "metadata": {
            "tags": []
          },
          "execution_count": 573
        }
      ]
    },
    {
      "cell_type": "code",
      "metadata": {
        "id": "M2_4w0psjGDX"
      },
      "source": [
        "somecountries_df_SH=somecountries_df.loc[somecountries_df['Topic']=='Teachers',:]"
      ],
      "execution_count": null,
      "outputs": []
    },
    {
      "cell_type": "code",
      "metadata": {
        "id": "WoDgoT-DjaZ_"
      },
      "source": [
        "somecountries_df_SH=somecountries_df_SH.loc[somecountries_df_SH['Country Code'].isin(['ARB', 'EAS', 'EAP', 'EMU', 'ECS', 'ECA', 'EUU', 'HPC', 'HIC']),:]"
      ],
      "execution_count": null,
      "outputs": []
    },
    {
      "cell_type": "code",
      "metadata": {
        "colab": {
          "base_uri": "https://localhost:8080/",
          "height": 1000
        },
        "id": "3_l_fCnejcI_",
        "outputId": "ef723793-2e79-4db9-ab6a-689ff87599ab"
      },
      "source": [
        "somecountries_df_SH\r\n"
      ],
      "execution_count": null,
      "outputs": [
        {
          "output_type": "execute_result",
          "data": {
            "text/html": [
              "<div>\n",
              "<style scoped>\n",
              "    .dataframe tbody tr th:only-of-type {\n",
              "        vertical-align: middle;\n",
              "    }\n",
              "\n",
              "    .dataframe tbody tr th {\n",
              "        vertical-align: top;\n",
              "    }\n",
              "\n",
              "    .dataframe thead th {\n",
              "        text-align: right;\n",
              "    }\n",
              "</style>\n",
              "<table border=\"1\" class=\"dataframe\">\n",
              "  <thead>\n",
              "    <tr style=\"text-align: right;\">\n",
              "      <th></th>\n",
              "      <th>Series Code</th>\n",
              "      <th>Topic</th>\n",
              "      <th>Indicator Name</th>\n",
              "      <th>Long definition</th>\n",
              "      <th>Country Name</th>\n",
              "      <th>Country Code</th>\n",
              "      <th>Indicator Code</th>\n",
              "      <th>2005</th>\n",
              "      <th>2006</th>\n",
              "      <th>2007</th>\n",
              "      <th>2008</th>\n",
              "      <th>2009</th>\n",
              "      <th>2010</th>\n",
              "      <th>2011</th>\n",
              "      <th>2012</th>\n",
              "      <th>2013</th>\n",
              "      <th>2014</th>\n",
              "      <th>Short Name</th>\n",
              "      <th>Income Group</th>\n",
              "    </tr>\n",
              "  </thead>\n",
              "  <tbody>\n",
              "    <tr>\n",
              "      <th>1623</th>\n",
              "      <td>OECD.TSAL.0.E0</td>\n",
              "      <td>Teachers</td>\n",
              "      <td>Annual statutory teacher salaries in public in...</td>\n",
              "      <td>Starting salaries refer to the average schedul...</td>\n",
              "      <td>Arab World</td>\n",
              "      <td>ARB</td>\n",
              "      <td>OECD.TSAL.0.E0</td>\n",
              "      <td>NaN</td>\n",
              "      <td>NaN</td>\n",
              "      <td>NaN</td>\n",
              "      <td>NaN</td>\n",
              "      <td>NaN</td>\n",
              "      <td>NaN</td>\n",
              "      <td>NaN</td>\n",
              "      <td>NaN</td>\n",
              "      <td>NaN</td>\n",
              "      <td>NaN</td>\n",
              "      <td>Arab World</td>\n",
              "      <td>NaN</td>\n",
              "    </tr>\n",
              "    <tr>\n",
              "      <th>1624</th>\n",
              "      <td>OECD.TSAL.0.E10</td>\n",
              "      <td>Teachers</td>\n",
              "      <td>Annual statutory teacher salaries in public in...</td>\n",
              "      <td>Salaries after 10 years of experience refer to...</td>\n",
              "      <td>Arab World</td>\n",
              "      <td>ARB</td>\n",
              "      <td>OECD.TSAL.0.E10</td>\n",
              "      <td>NaN</td>\n",
              "      <td>NaN</td>\n",
              "      <td>NaN</td>\n",
              "      <td>NaN</td>\n",
              "      <td>NaN</td>\n",
              "      <td>NaN</td>\n",
              "      <td>NaN</td>\n",
              "      <td>NaN</td>\n",
              "      <td>NaN</td>\n",
              "      <td>NaN</td>\n",
              "      <td>Arab World</td>\n",
              "      <td>NaN</td>\n",
              "    </tr>\n",
              "    <tr>\n",
              "      <th>1625</th>\n",
              "      <td>OECD.TSAL.0.E15</td>\n",
              "      <td>Teachers</td>\n",
              "      <td>Annual statutory teacher salaries in public in...</td>\n",
              "      <td>Salaries after 15 years of experience refer to...</td>\n",
              "      <td>Arab World</td>\n",
              "      <td>ARB</td>\n",
              "      <td>OECD.TSAL.0.E15</td>\n",
              "      <td>NaN</td>\n",
              "      <td>NaN</td>\n",
              "      <td>NaN</td>\n",
              "      <td>NaN</td>\n",
              "      <td>NaN</td>\n",
              "      <td>NaN</td>\n",
              "      <td>NaN</td>\n",
              "      <td>NaN</td>\n",
              "      <td>NaN</td>\n",
              "      <td>NaN</td>\n",
              "      <td>Arab World</td>\n",
              "      <td>NaN</td>\n",
              "    </tr>\n",
              "    <tr>\n",
              "      <th>1626</th>\n",
              "      <td>OECD.TSAL.0.ETOP</td>\n",
              "      <td>Teachers</td>\n",
              "      <td>Annual statutory teacher salaries in public in...</td>\n",
              "      <td>Top of scale salaries reported refer to the sc...</td>\n",
              "      <td>Arab World</td>\n",
              "      <td>ARB</td>\n",
              "      <td>OECD.TSAL.0.ETOP</td>\n",
              "      <td>NaN</td>\n",
              "      <td>NaN</td>\n",
              "      <td>NaN</td>\n",
              "      <td>NaN</td>\n",
              "      <td>NaN</td>\n",
              "      <td>NaN</td>\n",
              "      <td>NaN</td>\n",
              "      <td>NaN</td>\n",
              "      <td>NaN</td>\n",
              "      <td>NaN</td>\n",
              "      <td>Arab World</td>\n",
              "      <td>NaN</td>\n",
              "    </tr>\n",
              "    <tr>\n",
              "      <th>1627</th>\n",
              "      <td>OECD.TSAL.1.E0</td>\n",
              "      <td>Teachers</td>\n",
              "      <td>Annual statutory teacher salaries in public in...</td>\n",
              "      <td>Starting salaries refer to the average schedul...</td>\n",
              "      <td>Arab World</td>\n",
              "      <td>ARB</td>\n",
              "      <td>OECD.TSAL.1.E0</td>\n",
              "      <td>NaN</td>\n",
              "      <td>NaN</td>\n",
              "      <td>NaN</td>\n",
              "      <td>NaN</td>\n",
              "      <td>NaN</td>\n",
              "      <td>NaN</td>\n",
              "      <td>NaN</td>\n",
              "      <td>NaN</td>\n",
              "      <td>NaN</td>\n",
              "      <td>NaN</td>\n",
              "      <td>Arab World</td>\n",
              "      <td>NaN</td>\n",
              "    </tr>\n",
              "    <tr>\n",
              "      <th>...</th>\n",
              "      <td>...</td>\n",
              "      <td>...</td>\n",
              "      <td>...</td>\n",
              "      <td>...</td>\n",
              "      <td>...</td>\n",
              "      <td>...</td>\n",
              "      <td>...</td>\n",
              "      <td>...</td>\n",
              "      <td>...</td>\n",
              "      <td>...</td>\n",
              "      <td>...</td>\n",
              "      <td>...</td>\n",
              "      <td>...</td>\n",
              "      <td>...</td>\n",
              "      <td>...</td>\n",
              "      <td>...</td>\n",
              "      <td>...</td>\n",
              "      <td>...</td>\n",
              "      <td>...</td>\n",
              "    </tr>\n",
              "    <tr>\n",
              "      <th>28729</th>\n",
              "      <td>UIS.TRTP.3.M</td>\n",
              "      <td>Teachers</td>\n",
              "      <td>Percentage of male teachers in upper secondary...</td>\n",
              "      <td>Number of male teachers who have received the ...</td>\n",
              "      <td>High income</td>\n",
              "      <td>HIC</td>\n",
              "      <td>UIS.TRTP.3.M</td>\n",
              "      <td>NaN</td>\n",
              "      <td>NaN</td>\n",
              "      <td>NaN</td>\n",
              "      <td>NaN</td>\n",
              "      <td>NaN</td>\n",
              "      <td>NaN</td>\n",
              "      <td>NaN</td>\n",
              "      <td>NaN</td>\n",
              "      <td>NaN</td>\n",
              "      <td>NaN</td>\n",
              "      <td>High income</td>\n",
              "      <td>NaN</td>\n",
              "    </tr>\n",
              "    <tr>\n",
              "      <th>28730</th>\n",
              "      <td>UIS.TRTP.4</td>\n",
              "      <td>Teachers</td>\n",
              "      <td>Percentage of teachers in post-secondary non-t...</td>\n",
              "      <td>Number of teachers who have received the minim...</td>\n",
              "      <td>High income</td>\n",
              "      <td>HIC</td>\n",
              "      <td>UIS.TRTP.4</td>\n",
              "      <td>NaN</td>\n",
              "      <td>NaN</td>\n",
              "      <td>NaN</td>\n",
              "      <td>NaN</td>\n",
              "      <td>NaN</td>\n",
              "      <td>NaN</td>\n",
              "      <td>NaN</td>\n",
              "      <td>NaN</td>\n",
              "      <td>NaN</td>\n",
              "      <td>NaN</td>\n",
              "      <td>High income</td>\n",
              "      <td>NaN</td>\n",
              "    </tr>\n",
              "    <tr>\n",
              "      <th>28731</th>\n",
              "      <td>UIS.TRTP.4.F</td>\n",
              "      <td>Teachers</td>\n",
              "      <td>Percentage of female teachers in post-secondar...</td>\n",
              "      <td>Number of female teachers who have received th...</td>\n",
              "      <td>High income</td>\n",
              "      <td>HIC</td>\n",
              "      <td>UIS.TRTP.4.F</td>\n",
              "      <td>NaN</td>\n",
              "      <td>NaN</td>\n",
              "      <td>NaN</td>\n",
              "      <td>NaN</td>\n",
              "      <td>NaN</td>\n",
              "      <td>NaN</td>\n",
              "      <td>NaN</td>\n",
              "      <td>NaN</td>\n",
              "      <td>NaN</td>\n",
              "      <td>NaN</td>\n",
              "      <td>High income</td>\n",
              "      <td>NaN</td>\n",
              "    </tr>\n",
              "    <tr>\n",
              "      <th>28732</th>\n",
              "      <td>UIS.TRTP.4.GPI</td>\n",
              "      <td>Teachers</td>\n",
              "      <td>Percentage of teachers in post-secondary non-t...</td>\n",
              "      <td>Ratio of the female percentage of trained teac...</td>\n",
              "      <td>High income</td>\n",
              "      <td>HIC</td>\n",
              "      <td>UIS.TRTP.4.GPI</td>\n",
              "      <td>NaN</td>\n",
              "      <td>NaN</td>\n",
              "      <td>NaN</td>\n",
              "      <td>NaN</td>\n",
              "      <td>NaN</td>\n",
              "      <td>NaN</td>\n",
              "      <td>NaN</td>\n",
              "      <td>NaN</td>\n",
              "      <td>NaN</td>\n",
              "      <td>NaN</td>\n",
              "      <td>High income</td>\n",
              "      <td>NaN</td>\n",
              "    </tr>\n",
              "    <tr>\n",
              "      <th>28733</th>\n",
              "      <td>UIS.TRTP.4.M</td>\n",
              "      <td>Teachers</td>\n",
              "      <td>Percentage of male teachers in post-secondary ...</td>\n",
              "      <td>Number of male teachers who have received the ...</td>\n",
              "      <td>High income</td>\n",
              "      <td>HIC</td>\n",
              "      <td>UIS.TRTP.4.M</td>\n",
              "      <td>NaN</td>\n",
              "      <td>NaN</td>\n",
              "      <td>NaN</td>\n",
              "      <td>NaN</td>\n",
              "      <td>NaN</td>\n",
              "      <td>NaN</td>\n",
              "      <td>NaN</td>\n",
              "      <td>NaN</td>\n",
              "      <td>NaN</td>\n",
              "      <td>NaN</td>\n",
              "      <td>High income</td>\n",
              "      <td>NaN</td>\n",
              "    </tr>\n",
              "  </tbody>\n",
              "</table>\n",
              "<p>1233 rows × 19 columns</p>\n",
              "</div>"
            ],
            "text/plain": [
              "            Series Code     Topic  ...   Short Name Income Group\n",
              "1623     OECD.TSAL.0.E0  Teachers  ...   Arab World          NaN\n",
              "1624    OECD.TSAL.0.E10  Teachers  ...   Arab World          NaN\n",
              "1625    OECD.TSAL.0.E15  Teachers  ...   Arab World          NaN\n",
              "1626   OECD.TSAL.0.ETOP  Teachers  ...   Arab World          NaN\n",
              "1627     OECD.TSAL.1.E0  Teachers  ...   Arab World          NaN\n",
              "...                 ...       ...  ...          ...          ...\n",
              "28729      UIS.TRTP.3.M  Teachers  ...  High income          NaN\n",
              "28730        UIS.TRTP.4  Teachers  ...  High income          NaN\n",
              "28731      UIS.TRTP.4.F  Teachers  ...  High income          NaN\n",
              "28732    UIS.TRTP.4.GPI  Teachers  ...  High income          NaN\n",
              "28733      UIS.TRTP.4.M  Teachers  ...  High income          NaN\n",
              "\n",
              "[1233 rows x 19 columns]"
            ]
          },
          "metadata": {
            "tags": []
          },
          "execution_count": 576
        }
      ]
    },
    {
      "cell_type": "code",
      "metadata": {
        "id": "I1NzS-U2jgK6"
      },
      "source": [
        ""
      ],
      "execution_count": null,
      "outputs": []
    }
  ]
}